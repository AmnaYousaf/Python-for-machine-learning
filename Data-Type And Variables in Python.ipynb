{
 "cells": [
  {
   "cell_type": "markdown",
   "id": "9372d187",
   "metadata": {},
   "source": [
    "## Learning agenda of this notebook\n",
    "Variables are used to store data in computer memory\n",
    "1. Python is dynamically typed\n",
    "2. Intellisense / Code Completion\n",
    "3. Variables and variable naming conventions\n",
    "4. Assigning values to multiple variables in single line\n",
    "5. Checking type of a variable using Built-in `type()` function\n",
    "6. Checking ID of a variable using Built-in `id()` function\n",
    "7. Do we actually store data inside variables?\n",
    "8. Deleting a variable from Kernel memory"
   ]
  },
  {
   "cell_type": "markdown",
   "id": "acc2fb5f",
   "metadata": {},
   "source": [
    "## 1. You don't have to specify a data type in Python, since it is a dynamically typed language"
   ]
  },
  {
   "cell_type": "markdown",
   "id": "5ed7b008",
   "metadata": {},
   "source": [
    "> **Variables**: While working with a programming language such as Python, information is stored in *variables*. You can think of variables as containers for storing data. The data stored within a variable is called its *value*."
   ]
  },
  {
   "cell_type": "code",
   "execution_count": 2,
   "id": "7c02ef9b",
   "metadata": {},
   "outputs": [
    {
     "data": {
      "text/plain": [
       "str"
      ]
     },
     "execution_count": 2,
     "metadata": {},
     "output_type": "execute_result"
    }
   ],
   "source": [
    "name_of_instructor = \"Amna Yousaf\"\n",
    "name_of_instructor\n",
    "type(name_of_instructor)"
   ]
  },
  {
   "cell_type": "code",
   "execution_count": 4,
   "id": "c8786c5f",
   "metadata": {},
   "outputs": [
    {
     "data": {
      "text/plain": [
       "list"
      ]
     },
     "execution_count": 4,
     "metadata": {},
     "output_type": "execute_result"
    }
   ],
   "source": [
    "no_of_lectures = [32.5, 66]\n",
    "no_of_lectures\n",
    "type(no_of_lectures)"
   ]
  },
  {
   "cell_type": "markdown",
   "id": "2dece200",
   "metadata": {},
   "source": [
    "## 3. Variable Naming Conventions\n",
    "- In programming languages, **identifiers** are names used to identify a variable, function, or other entities in a program. Variable names can be short (`a`, `x`, `y`, etc.) or descriptive ( `my_favorite_color`, `profit_margin`, `the_3_musketeers`, etc.). However, you must follow these rules while naming Python variables:\n",
    "    - An identifier or variable's name must start with a letter or the underscore character `_`. It cannot begin with a number.\n",
    "    - A variable name can only contain lowercase (small) or uppercase (capital) letters, digits, or underscores (`a`-`z`, `A`-`Z`, `0`-`9`, and `_`).\n",
    "    - Spaces are not allowed. Instead, we must use snake_case to make variable names readable.\n",
    "    - Variable names are case-sensitive, i.e., `a_variable`, `A_Variable`, and `A_VARIABLE` are all different variables.\n",
    "\n",
    "- Keywords are reserved words. Each keyword has a specific meaning to the Python interpreter. A reserved keyword may not be used as an identifier. Here is a list of the Python keywords.\n",
    "```\n",
    "False               class               from                or\n",
    "None                continue            global              pass\n",
    "True                def                 if                  raise\n",
    "and                 del                 import              return\n",
    "as                  elif                in                  try\n",
    "assert              else                is                  while\n",
    "async               except              lambda              with\n",
    "await               finally             nonlocal            yield\n",
    "break               for                 not                 \n",
    "```\n",
    "\n",
    "- To get help about these keywords: Type `help('keyword')` in the cell below"
   ]
  },
  {
   "cell_type": "code",
   "execution_count": 9,
   "id": "ae0ebdab",
   "metadata": {},
   "outputs": [
    {
     "name": "stdout",
     "output_type": "stream",
     "text": [
      "Help on bool object:\n",
      "\n",
      "class bool(int)\n",
      " |  bool(x) -> bool\n",
      " |  \n",
      " |  Returns True when the argument x is true, False otherwise.\n",
      " |  The builtins True and False are the only two instances of the class bool.\n",
      " |  The class bool is a subclass of the class int, and cannot be subclassed.\n",
      " |  \n",
      " |  Method resolution order:\n",
      " |      bool\n",
      " |      int\n",
      " |      object\n",
      " |  \n",
      " |  Methods defined here:\n",
      " |  \n",
      " |  __and__(self, value, /)\n",
      " |      Return self&value.\n",
      " |  \n",
      " |  __or__(self, value, /)\n",
      " |      Return self|value.\n",
      " |  \n",
      " |  __rand__(self, value, /)\n",
      " |      Return value&self.\n",
      " |  \n",
      " |  __repr__(self, /)\n",
      " |      Return repr(self).\n",
      " |  \n",
      " |  __ror__(self, value, /)\n",
      " |      Return value|self.\n",
      " |  \n",
      " |  __rxor__(self, value, /)\n",
      " |      Return value^self.\n",
      " |  \n",
      " |  __xor__(self, value, /)\n",
      " |      Return self^value.\n",
      " |  \n",
      " |  ----------------------------------------------------------------------\n",
      " |  Static methods defined here:\n",
      " |  \n",
      " |  __new__(*args, **kwargs) from builtins.type\n",
      " |      Create and return a new object.  See help(type) for accurate signature.\n",
      " |  \n",
      " |  ----------------------------------------------------------------------\n",
      " |  Methods inherited from int:\n",
      " |  \n",
      " |  __abs__(self, /)\n",
      " |      abs(self)\n",
      " |  \n",
      " |  __add__(self, value, /)\n",
      " |      Return self+value.\n",
      " |  \n",
      " |  __bool__(self, /)\n",
      " |      True if self else False\n",
      " |  \n",
      " |  __ceil__(...)\n",
      " |      Ceiling of an Integral returns itself.\n",
      " |  \n",
      " |  __divmod__(self, value, /)\n",
      " |      Return divmod(self, value).\n",
      " |  \n",
      " |  __eq__(self, value, /)\n",
      " |      Return self==value.\n",
      " |  \n",
      " |  __float__(self, /)\n",
      " |      float(self)\n",
      " |  \n",
      " |  __floor__(...)\n",
      " |      Flooring an Integral returns itself.\n",
      " |  \n",
      " |  __floordiv__(self, value, /)\n",
      " |      Return self//value.\n",
      " |  \n",
      " |  __format__(self, format_spec, /)\n",
      " |      Default object formatter.\n",
      " |  \n",
      " |  __ge__(self, value, /)\n",
      " |      Return self>=value.\n",
      " |  \n",
      " |  __getattribute__(self, name, /)\n",
      " |      Return getattr(self, name).\n",
      " |  \n",
      " |  __getnewargs__(self, /)\n",
      " |  \n",
      " |  __gt__(self, value, /)\n",
      " |      Return self>value.\n",
      " |  \n",
      " |  __hash__(self, /)\n",
      " |      Return hash(self).\n",
      " |  \n",
      " |  __index__(self, /)\n",
      " |      Return self converted to an integer, if self is suitable for use as an index into a list.\n",
      " |  \n",
      " |  __int__(self, /)\n",
      " |      int(self)\n",
      " |  \n",
      " |  __invert__(self, /)\n",
      " |      ~self\n",
      " |  \n",
      " |  __le__(self, value, /)\n",
      " |      Return self<=value.\n",
      " |  \n",
      " |  __lshift__(self, value, /)\n",
      " |      Return self<<value.\n",
      " |  \n",
      " |  __lt__(self, value, /)\n",
      " |      Return self<value.\n",
      " |  \n",
      " |  __mod__(self, value, /)\n",
      " |      Return self%value.\n",
      " |  \n",
      " |  __mul__(self, value, /)\n",
      " |      Return self*value.\n",
      " |  \n",
      " |  __ne__(self, value, /)\n",
      " |      Return self!=value.\n",
      " |  \n",
      " |  __neg__(self, /)\n",
      " |      -self\n",
      " |  \n",
      " |  __pos__(self, /)\n",
      " |      +self\n",
      " |  \n",
      " |  __pow__(self, value, mod=None, /)\n",
      " |      Return pow(self, value, mod).\n",
      " |  \n",
      " |  __radd__(self, value, /)\n",
      " |      Return value+self.\n",
      " |  \n",
      " |  __rdivmod__(self, value, /)\n",
      " |      Return divmod(value, self).\n",
      " |  \n",
      " |  __rfloordiv__(self, value, /)\n",
      " |      Return value//self.\n",
      " |  \n",
      " |  __rlshift__(self, value, /)\n",
      " |      Return value<<self.\n",
      " |  \n",
      " |  __rmod__(self, value, /)\n",
      " |      Return value%self.\n",
      " |  \n",
      " |  __rmul__(self, value, /)\n",
      " |      Return value*self.\n",
      " |  \n",
      " |  __round__(...)\n",
      " |      Rounding an Integral returns itself.\n",
      " |      Rounding with an ndigits argument also returns an integer.\n",
      " |  \n",
      " |  __rpow__(self, value, mod=None, /)\n",
      " |      Return pow(value, self, mod).\n",
      " |  \n",
      " |  __rrshift__(self, value, /)\n",
      " |      Return value>>self.\n",
      " |  \n",
      " |  __rshift__(self, value, /)\n",
      " |      Return self>>value.\n",
      " |  \n",
      " |  __rsub__(self, value, /)\n",
      " |      Return value-self.\n",
      " |  \n",
      " |  __rtruediv__(self, value, /)\n",
      " |      Return value/self.\n",
      " |  \n",
      " |  __sizeof__(self, /)\n",
      " |      Returns size in memory, in bytes.\n",
      " |  \n",
      " |  __sub__(self, value, /)\n",
      " |      Return self-value.\n",
      " |  \n",
      " |  __truediv__(self, value, /)\n",
      " |      Return self/value.\n",
      " |  \n",
      " |  __trunc__(...)\n",
      " |      Truncating an Integral returns itself.\n",
      " |  \n",
      " |  as_integer_ratio(self, /)\n",
      " |      Return integer ratio.\n",
      " |      \n",
      " |      Return a pair of integers, whose ratio is exactly equal to the original int\n",
      " |      and with a positive denominator.\n",
      " |      \n",
      " |      >>> (10).as_integer_ratio()\n",
      " |      (10, 1)\n",
      " |      >>> (-10).as_integer_ratio()\n",
      " |      (-10, 1)\n",
      " |      >>> (0).as_integer_ratio()\n",
      " |      (0, 1)\n",
      " |  \n",
      " |  bit_length(self, /)\n",
      " |      Number of bits necessary to represent self in binary.\n",
      " |      \n",
      " |      >>> bin(37)\n",
      " |      '0b100101'\n",
      " |      >>> (37).bit_length()\n",
      " |      6\n",
      " |  \n",
      " |  conjugate(...)\n",
      " |      Returns self, the complex conjugate of any int.\n",
      " |  \n",
      " |  to_bytes(self, /, length, byteorder, *, signed=False)\n",
      " |      Return an array of bytes representing an integer.\n",
      " |      \n",
      " |      length\n",
      " |        Length of bytes object to use.  An OverflowError is raised if the\n",
      " |        integer is not representable with the given number of bytes.\n",
      " |      byteorder\n",
      " |        The byte order used to represent the integer.  If byteorder is 'big',\n",
      " |        the most significant byte is at the beginning of the byte array.  If\n",
      " |        byteorder is 'little', the most significant byte is at the end of the\n",
      " |        byte array.  To request the native byte order of the host system, use\n",
      " |        `sys.byteorder' as the byte order value.\n",
      " |      signed\n",
      " |        Determines whether two's complement is used to represent the integer.\n",
      " |        If signed is False and a negative integer is given, an OverflowError\n",
      " |        is raised.\n",
      " |  \n",
      " |  ----------------------------------------------------------------------\n",
      " |  Class methods inherited from int:\n",
      " |  \n",
      " |  from_bytes(bytes, byteorder, *, signed=False) from builtins.type\n",
      " |      Return the integer represented by the given array of bytes.\n",
      " |      \n",
      " |      bytes\n",
      " |        Holds the array of bytes to convert.  The argument must either\n",
      " |        support the buffer protocol or be an iterable object producing bytes.\n",
      " |        Bytes and bytearray are examples of built-in objects that support the\n",
      " |        buffer protocol.\n",
      " |      byteorder\n",
      " |        The byte order used to represent the integer.  If byteorder is 'big',\n",
      " |        the most significant byte is at the beginning of the byte array.  If\n",
      " |        byteorder is 'little', the most significant byte is at the end of the\n",
      " |        byte array.  To request the native byte order of the host system, use\n",
      " |        `sys.byteorder' as the byte order value.\n",
      " |      signed\n",
      " |        Indicates whether two's complement is used to represent the integer.\n",
      " |  \n",
      " |  ----------------------------------------------------------------------\n",
      " |  Data descriptors inherited from int:\n",
      " |  \n",
      " |  denominator\n",
      " |      the denominator of a rational number in lowest terms\n",
      " |  \n",
      " |  imag\n",
      " |      the imaginary part of a complex number\n",
      " |  \n",
      " |  numerator\n",
      " |      the numerator of a rational number in lowest terms\n",
      " |  \n",
      " |  real\n",
      " |      the real part of a complex number\n",
      "\n"
     ]
    }
   ],
   "source": [
    "help('True')"
   ]
  },
  {
   "cell_type": "code",
   "execution_count": 10,
   "id": "bd587385",
   "metadata": {},
   "outputs": [],
   "source": [
    "# True is a keyword, can't be used as variable name\n",
    "#True = 100"
   ]
  },
  {
   "cell_type": "code",
   "execution_count": 8,
   "id": "d4074e60",
   "metadata": {},
   "outputs": [],
   "source": [
    "# A variable name cannot start with a special character or digit\n",
    "var1 = 25\n",
    "#1var = 530\n",
    "#@i = 980"
   ]
  },
  {
   "cell_type": "markdown",
   "id": "40f38a6c",
   "metadata": {},
   "source": [
    "<h1 align=\"center\">Python Datatypes</h1>\n",
    "\n",
    "\n",
    "\n",
    "- Python's Number data types are created by numeric literals and returned as results by arithmetic operators and arithmetic built-in functions. ALL Numeric objects are immutable; once created their value never changes.\n",
    "    - Integer\n",
    "    - Floating Point\n",
    "    - Complex\n",
    "    - Bolean\n",
    "    - **Boolean:** Also \n",
    "- A Python sequence is an ordered collection of items, where each item is indexed by an integer value. There are three types of sequence types in Python:\n",
    "    - String\n",
    "    - List\n",
    "    - Tuple\n",
    "- In Python, a Set is an unordered collection of data type that is iterable, mutable and has no duplicate elements. The order of elements in a set is undefined.\n",
    "    - Set (mutable)\n",
    "    - Frozenset (immutable)\n",
    "- Mapping is an unordered data type in Python. Currently, there is only one standard mapping data type in Python called Dictionary."
   ]
  },
  {
   "cell_type": "code",
   "execution_count": 12,
   "id": "1db6befb",
   "metadata": {},
   "outputs": [],
   "source": [
    "a = range(10)"
   ]
  },
  {
   "cell_type": "code",
   "execution_count": 13,
   "id": "b465ad55",
   "metadata": {},
   "outputs": [
    {
     "data": {
      "text/plain": [
       "range"
      ]
     },
     "execution_count": 13,
     "metadata": {},
     "output_type": "execute_result"
    }
   ],
   "source": [
    "type(a)"
   ]
  },
  {
   "cell_type": "markdown",
   "id": "98aac257",
   "metadata": {},
   "source": [
    "## 4. Assign Multiple values to Multiple variables in one Statement"
   ]
  },
  {
   "cell_type": "code",
   "execution_count": 14,
   "id": "faa6fe55",
   "metadata": {},
   "outputs": [
    {
     "name": "stdout",
     "output_type": "stream",
     "text": [
      "a =  5  b =  3.2  c =  Hello\n"
     ]
    }
   ],
   "source": [
    "#Assigning multiple values to multiple variables\n",
    "a, b, c = 5, 3.2, \"Hello\"\n",
    "\n",
    "print ('a = ',a,' b = ',b,' c = ',c)"
   ]
  },
  {
   "cell_type": "markdown",
   "id": "40ba4356",
   "metadata": {},
   "source": [
    "## 5. To Check the Type of a Variable"
   ]
  },
  {
   "cell_type": "code",
   "execution_count": 15,
   "id": "2cf0accd",
   "metadata": {},
   "outputs": [
    {
     "name": "stdout",
     "output_type": "stream",
     "text": [
      "name is of  <class 'str'>\n",
      "x is of  <class 'int'>\n",
      "y is of  <class 'float'>\n"
     ]
    }
   ],
   "source": [
    "# to check the type of variable\n",
    "name = \"Amna Yousaf\"\n",
    "print(\"name is of \", type(name))\n",
    "x = 234\n",
    "print(\"x is of \", type(x))\n",
    "y = 5.321\n",
    "print(\"y is of \", type(y))"
   ]
  },
  {
   "cell_type": "markdown",
   "id": "e5a19156",
   "metadata": {},
   "source": [
    "## 6. To Check the ID of a Variable\n",
    "- Every Pyton object has an associated ID (memory address). The Python built-in `id()` function returns the identity of an object"
   ]
  },
  {
   "cell_type": "code",
   "execution_count": 18,
   "id": "1339a18f",
   "metadata": {},
   "outputs": [
    {
     "data": {
      "text/plain": [
       "(140714681112272, 140714784438448)"
      ]
     },
     "execution_count": 18,
     "metadata": {},
     "output_type": "execute_result"
    }
   ],
   "source": [
    "x = 234\n",
    "y = 5.321\n",
    "id(x), id(y)"
   ]
  },
  {
   "cell_type": "markdown",
   "id": "30a2f92f",
   "metadata": {},
   "source": [
    "## 7. Do we actually store data inside variables"
   ]
  },
  {
   "cell_type": "code",
   "execution_count": 19,
   "id": "50e7dd0d",
   "metadata": {},
   "outputs": [
    {
     "data": {
      "text/plain": [
       "(140714680916560, 140714680916560)"
      ]
     },
     "execution_count": 19,
     "metadata": {},
     "output_type": "execute_result"
    }
   ],
   "source": [
    "a = 10\n",
    "b = 10\n",
    "id(a), id(b)"
   ]
  },
  {
   "cell_type": "markdown",
   "id": "a288e73b",
   "metadata": {},
   "source": [
    ">- Both the variables `a` and `b` have same ID, i.e., both a and b are pointing to same memory location.\n",
    ">- Variables in Python are not actual objects, rather are references to objects that are present in memory. \n",
    ">- So both the variables a and b are refering to same object 10 in memory and thus having the same ID."
   ]
  },
  {
   "cell_type": "code",
   "execution_count": 20,
   "id": "2c37d15a",
   "metadata": {},
   "outputs": [
    {
     "data": {
      "text/plain": [
       "140714785598160"
      ]
     },
     "execution_count": 20,
     "metadata": {},
     "output_type": "execute_result"
    }
   ],
   "source": [
    "var1 = \"Python for machine learning\"\n",
    "id(var1)"
   ]
  },
  {
   "cell_type": "code",
   "execution_count": 21,
   "id": "464cd4ba",
   "metadata": {},
   "outputs": [
    {
     "data": {
      "text/plain": [
       "140714784861808"
      ]
     },
     "execution_count": 21,
     "metadata": {},
     "output_type": "execute_result"
    }
   ],
   "source": [
    "var1 = \"Amna yousaf\"\n",
    "id(var1)"
   ]
  },
  {
   "cell_type": "markdown",
   "id": "b87f6c3c",
   "metadata": {},
   "source": [
    ">Note that the string object \"Data Science\" has become an orphaned object, as no variable is refering to it now. This is because the reference `var1` is now pointing/referring to a new object \"Arif Butt\". All orphan objects are reaped by Python garbage collector."
   ]
  },
  {
   "cell_type": "markdown",
   "id": "9b3799db",
   "metadata": {},
   "source": [
    "## 8. Use of `dir()`, and `del` Keyword\n",
    "- The built-in `dir()` function, when called without an argument, return the names in the current scope.\n",
    "- If passed a \n",
    "    - object name: \n",
    "    - module name: then returns the module's attributes\n",
    "    - class name: then returns its attributes and recursively the attributes of its base classes\n",
    "    - object name: then returns its attributes, its class's attributes, and recursively the attributes of its class's base classes."
   ]
  },
  {
   "cell_type": "code",
   "execution_count": 22,
   "id": "901333d0",
   "metadata": {},
   "outputs": [
    {
     "name": "stdout",
     "output_type": "stream",
     "text": [
      "['In', 'Out', '_', '_13', '_16', '_17', '_18', '_19', '_2', '_20', '_21', '_4', '__', '___', '__builtin__', '__builtins__', '__doc__', '__loader__', '__name__', '__package__', '__spec__', '_dh', '_i', '_i1', '_i10', '_i11', '_i12', '_i13', '_i14', '_i15', '_i16', '_i17', '_i18', '_i19', '_i2', '_i20', '_i21', '_i22', '_i3', '_i4', '_i5', '_i6', '_i7', '_i8', '_i9', '_ih', '_ii', '_iii', '_oh', 'a', 'b', 'c', 'exit', 'get_ipython', 'name', 'name_of_instructor', 'no_of_lectures', 'quit', 'var1', 'x', 'y']\n"
     ]
    }
   ],
   "source": [
    "print(dir())\n"
   ]
  },
  {
   "cell_type": "code",
   "execution_count": 23,
   "id": "63326c48",
   "metadata": {},
   "outputs": [
    {
     "name": "stdout",
     "output_type": "stream",
     "text": [
      "newvar= 10\n"
     ]
    }
   ],
   "source": [
    "newvar = 10\n",
    "print(\"newvar=\", newvar)"
   ]
  },
  {
   "cell_type": "code",
   "execution_count": 24,
   "id": "c2ef79bf",
   "metadata": {},
   "outputs": [
    {
     "name": "stdout",
     "output_type": "stream",
     "text": [
      "['In', 'Out', '_', '_13', '_16', '_17', '_18', '_19', '_2', '_20', '_21', '_4', '__', '___', '__builtin__', '__builtins__', '__doc__', '__loader__', '__name__', '__package__', '__spec__', '_dh', '_i', '_i1', '_i10', '_i11', '_i12', '_i13', '_i14', '_i15', '_i16', '_i17', '_i18', '_i19', '_i2', '_i20', '_i21', '_i22', '_i23', '_i24', '_i3', '_i4', '_i5', '_i6', '_i7', '_i8', '_i9', '_ih', '_ii', '_iii', '_oh', 'a', 'b', 'c', 'exit', 'get_ipython', 'name', 'name_of_instructor', 'newvar', 'no_of_lectures', 'quit', 'var1', 'x', 'y']\n"
     ]
    }
   ],
   "source": [
    "print(dir())"
   ]
  },
  {
   "cell_type": "code",
   "execution_count": 25,
   "id": "35bfd63a",
   "metadata": {},
   "outputs": [
    {
     "name": "stdout",
     "output_type": "stream",
     "text": [
      "['In', 'Out', '_', '_13', '_16', '_17', '_18', '_19', '_2', '_20', '_21', '_4', '__', '___', '__builtin__', '__builtins__', '__doc__', '__loader__', '__name__', '__package__', '__spec__', '_dh', '_i', '_i1', '_i10', '_i11', '_i12', '_i13', '_i14', '_i15', '_i16', '_i17', '_i18', '_i19', '_i2', '_i20', '_i21', '_i22', '_i23', '_i24', '_i25', '_i3', '_i4', '_i5', '_i6', '_i7', '_i8', '_i9', '_ih', '_ii', '_iii', '_oh', 'a', 'b', 'c', 'exit', 'get_ipython', 'name', 'name_of_instructor', 'newvar', 'no_of_lectures', 'quit', 'x', 'y']\n"
     ]
    }
   ],
   "source": [
    "del var1\n",
    "print(dir())"
   ]
  },
  {
   "cell_type": "code",
   "execution_count": 26,
   "id": "1cf9e9b5",
   "metadata": {},
   "outputs": [
    {
     "name": "stdout",
     "output_type": "stream",
     "text": [
      "['__doc__', '__file__', '__loader__', '__name__', '__package__', '__spec__', 'acos', 'acosh', 'asin', 'asinh', 'atan', 'atan2', 'atanh', 'ceil', 'comb', 'copysign', 'cos', 'cosh', 'degrees', 'dist', 'e', 'erf', 'erfc', 'exp', 'expm1', 'fabs', 'factorial', 'floor', 'fmod', 'frexp', 'fsum', 'gamma', 'gcd', 'hypot', 'inf', 'isclose', 'isfinite', 'isinf', 'isnan', 'isqrt', 'lcm', 'ldexp', 'lgamma', 'log', 'log10', 'log1p', 'log2', 'modf', 'nan', 'nextafter', 'perm', 'pi', 'pow', 'prod', 'radians', 'remainder', 'sin', 'sinh', 'sqrt', 'tan', 'tanh', 'tau', 'trunc', 'ulp']\n"
     ]
    }
   ],
   "source": [
    "import math\n",
    "print(dir(math))"
   ]
  },
  {
   "cell_type": "markdown",
   "id": "c98cf70e",
   "metadata": {},
   "source": [
    "## 1. Numeric  Data Types\n",
    "- Python's Number data types are created by numeric literals and returned as results by arithmetic operators and arithmetic built-in functions.  \n",
    "- All Numeric objects are immutable; once created their value never changes.\n",
    "    - **Integers:** The integer data type is comprised of all the positive and negative whole numbers. Integers represent positive or negative whole numbers, from negative infinity to infinity. Note that integers should not include decimal points. Integers have the type `int`. It is immutable and created through numeric literals and output of arithmetic expressions and functions that return numeric values. In Python 2.x there are two types int and long. But in Python 3.x, there is only one type int having unlimited range subject to available memory \n",
    "    - **Floating Point Numbers:** Floating-point numbers, or floats, refer to positive and negative decimal numbers. These represent machine level double precision floating point numbers. The decimal digits are faithful upto fifteen decimal places. The range in most environment is -1.7976931348623157e+308 to 1.7976931348623157e+308. Floating point numbers can also be written using the scientific notation with an \"e\" to indicate the power of 10.\n",
    "    - **Complex Numbers:** These represent complex numbers as a pair of machine level double precision floating point numbers. One floating point number represent the real part and another floating point number represent the imaginary part\n",
    "    - **Boolean:** Also known as bool data type allows us to choose between two values: `True` and `False`. Booleans have the type `bool`. A Boolean is used to determine whether the logic of an expression or a comparison is correct. It plays a huge role in data comparisons.\n",
    "- Other types that we will study later are:\n",
    "    - Sequences\n",
    "        - Immutable Sequences (Strings, Tuples, Range, Bytes)\n",
    "        - Mutable Sequences (Lists)\n",
    "    - Set Types (Sets, Frozen sets)\n",
    "    - Mappings (Dictionaries)\n",
    "    - Callable Types \n",
    "        - Built-in functions (print(), len(), math.sin())\n",
    "        - Built-in methods (mystring.split(), mylist.append())\n",
    "        - User-defined functions, \n",
    "        - Modules\n",
    "        - Classes\n",
    "        - Instance methods\n",
    "        - Generator functions\n",
    "        - Coroutine functions"
   ]
  },
  {
   "cell_type": "code",
   "execution_count": 29,
   "id": "a98cddb0",
   "metadata": {},
   "outputs": [
    {
     "name": "stdout",
     "output_type": "stream",
     "text": [
      "<class 'int'>\n",
      "<class 'float'>\n",
      "<class 'complex'>\n",
      "<class 'bool'>\n"
     ]
    }
   ],
   "source": [
    "w = 10\n",
    "x = 20.5\n",
    "y = complex(3, 2)  \n",
    "y = 3 + 2j\n",
    "z = True\n",
    "print(type(w))\n",
    "print(type(x))\n",
    "print(type(y))\n",
    "print(type(z))"
   ]
  },
  {
   "cell_type": "code",
   "execution_count": 30,
   "id": "c7fae4d0",
   "metadata": {},
   "outputs": [
    {
     "name": "stdout",
     "output_type": "stream",
     "text": [
      "True\n",
      "<class 'bool'>\n"
     ]
    }
   ],
   "source": [
    "# Example of Boolean data type \n",
    "y = 10 < 100\n",
    "print(y)\n",
    "print(type(y))"
   ]
  },
  {
   "cell_type": "code",
   "execution_count": 31,
   "id": "aabb2fb0",
   "metadata": {},
   "outputs": [
    {
     "name": "stdout",
     "output_type": "stream",
     "text": [
      "x is False\n",
      "y is False\n"
     ]
    }
   ],
   "source": [
    "\"\"\"\n",
    "boolean data type in Python?\n",
    "In Python, True represents the value as 1 and False as 0. \n",
    "\"\"\"\n",
    "x = (-1 == True)\n",
    "y = (1 == False)\n",
    "print(\"x is\", x)\n",
    "print(\"y is\", y)"
   ]
  },
  {
   "cell_type": "code",
   "execution_count": 32,
   "id": "3b8c646d",
   "metadata": {},
   "outputs": [
    {
     "name": "stdout",
     "output_type": "stream",
     "text": [
      "a: 10\n",
      "b: 15\n"
     ]
    }
   ],
   "source": [
    "# Booleans are automatically converted to `int`s when used in arithmetic operations. \n",
    "# `True` is converted to `1` and `False` is converted to `0`.\n",
    "a = True + 9\n",
    "b = False + 15\n",
    "\n",
    "print(\"a:\", a)\n",
    "print(\"b:\", b)"
   ]
  },
  {
   "cell_type": "markdown",
   "id": "7cf1ad96",
   "metadata": {},
   "source": [
    "Any value in Python can be converted to a Boolean using the `bool` function. Only the following values evaluate to `False` (they are often called *falsy* values):\n",
    "1. The value `False` itself\n",
    "2. The integer `0`\n",
    "3. The float `0.0`\n",
    "4. The empty value `None` \n",
    "5. The empty text `\"\"`\n",
    "6. The empty list `[]`\n",
    "7. The empty tuple `()`\n",
    "8. The empty dictionary `{}`\n",
    "9. The empty set `set()`\n",
    "10. The empty range `range(0)`\n",
    "\n",
    "Everything else evaluates to `True` (a value that evaluates to `True` is often called a *truthy* value).\n",
    "\n",
    "The **None** type includes a single value `None`, used to indicate the absence of a value. `None` has the type `NoneType`. It is often used to declare a variable whose value may be assigned later or as a return value of functions that do not return a value"
   ]
  },
  {
   "cell_type": "code",
   "execution_count": 33,
   "id": "e60f55cd",
   "metadata": {},
   "outputs": [
    {
     "data": {
      "text/plain": [
       "False"
      ]
     },
     "execution_count": 33,
     "metadata": {},
     "output_type": "execute_result"
    }
   ],
   "source": [
    "bool(0)"
   ]
  },
  {
   "cell_type": "code",
   "execution_count": 34,
   "id": "7883a46d",
   "metadata": {},
   "outputs": [
    {
     "data": {
      "text/plain": [
       "False"
      ]
     },
     "execution_count": 34,
     "metadata": {},
     "output_type": "execute_result"
    }
   ],
   "source": [
    "bool(0.0)"
   ]
  },
  {
   "cell_type": "code",
   "execution_count": 35,
   "id": "130aad4b",
   "metadata": {},
   "outputs": [
    {
     "data": {
      "text/plain": [
       "False"
      ]
     },
     "execution_count": 35,
     "metadata": {},
     "output_type": "execute_result"
    }
   ],
   "source": [
    "bool(None)"
   ]
  },
  {
   "cell_type": "code",
   "execution_count": 36,
   "id": "2d842f18",
   "metadata": {},
   "outputs": [
    {
     "data": {
      "text/plain": [
       "False"
      ]
     },
     "execution_count": 36,
     "metadata": {},
     "output_type": "execute_result"
    }
   ],
   "source": [
    "bool(\"\")"
   ]
  },
  {
   "cell_type": "code",
   "execution_count": 37,
   "id": "7d79ca3b",
   "metadata": {},
   "outputs": [
    {
     "data": {
      "text/plain": [
       "False"
      ]
     },
     "execution_count": 37,
     "metadata": {},
     "output_type": "execute_result"
    }
   ],
   "source": [
    "bool([])"
   ]
  },
  {
   "cell_type": "code",
   "execution_count": 38,
   "id": "40cfd617",
   "metadata": {},
   "outputs": [],
   "source": [
    "var1 = None"
   ]
  },
  {
   "cell_type": "code",
   "execution_count": 39,
   "id": "0688d259",
   "metadata": {},
   "outputs": [
    {
     "data": {
      "text/plain": [
       "NoneType"
      ]
     },
     "execution_count": 39,
     "metadata": {},
     "output_type": "execute_result"
    }
   ],
   "source": [
    "type(var1)"
   ]
  },
  {
   "cell_type": "markdown",
   "id": "4dbc6713",
   "metadata": {},
   "source": [
    "**Use of Complex Numbers:** \n",
    ">- Complex numbers are mostly used when you are dealing with electronics, dynamics, and control systems.\n",
    ">- In electronics, the state of a circuit element is defined by the voltage (V) and the current (I). Circuit elements can also have a capacitance (c) and inductance (L) that describes the circuit's tendency to resist changes in V and I. \n",
    ">- Rather than describing the circuit element's state by V and I, it can be described as `z = V + Ij`. \n",
    ">- The laws of electricity can then be expressed using the addition and multiplication of complex umbers."
   ]
  },
  {
   "cell_type": "markdown",
   "id": "297f0106",
   "metadata": {},
   "source": [
    "## 2. Issues with Float data types"
   ]
  },
  {
   "cell_type": "code",
   "execution_count": 40,
   "id": "7b802c7a",
   "metadata": {},
   "outputs": [
    {
     "data": {
      "text/plain": [
       "(3.3, 3.0, False)"
      ]
     },
     "execution_count": 40,
     "metadata": {},
     "output_type": "execute_result"
    }
   ],
   "source": [
    "'''\n",
    "Floating-point numbers are stored in computer hardware in IEEE-754 format\n",
    "Be watchful while performing various operations on floating point numbers\n",
    "'''\n",
    "a = 3.3\n",
    "b = 1.0 + 2.0\n",
    "c = (a == b)\n",
    "a, b, c"
   ]
  },
  {
   "cell_type": "code",
   "execution_count": 41,
   "id": "cba628b6",
   "metadata": {},
   "outputs": [
    {
     "data": {
      "text/plain": [
       "3.3"
      ]
     },
     "execution_count": 41,
     "metadata": {},
     "output_type": "execute_result"
    }
   ],
   "source": [
    "a\n"
   ]
  },
  {
   "cell_type": "code",
   "execution_count": 42,
   "id": "314198bf",
   "metadata": {},
   "outputs": [
    {
     "data": {
      "text/plain": [
       "3.0"
      ]
     },
     "execution_count": 42,
     "metadata": {},
     "output_type": "execute_result"
    }
   ],
   "source": [
    "b"
   ]
  },
  {
   "cell_type": "markdown",
   "id": "dadf9837",
   "metadata": {},
   "source": [
    "\n",
    "## 3. Conversion/Type Casting\n",
    "- **Implicit Type Conversion:** While performing arithmetic operations, integers are automatically converted to `float` if any of the operands is a `float`. Also, the division operator `/` always returns a `float`, even if both operands are integers. Use the `//` operator if you want the result of the division to be an `int`.\n",
    "- **Explicit Type Conversion or Type Casting** refers to the conversion of an object from one data type to another"
   ]
  },
  {
   "cell_type": "markdown",
   "id": "ac145f2f",
   "metadata": {},
   "source": [
    "### a. Implicit Type Conversion"
   ]
  },
  {
   "cell_type": "code",
   "execution_count": 43,
   "id": "fb21ae4e",
   "metadata": {},
   "outputs": [
    {
     "data": {
      "text/plain": [
       "(int, float)"
      ]
     },
     "execution_count": 43,
     "metadata": {},
     "output_type": "execute_result"
    }
   ],
   "source": [
    "a = 2 + 3\n",
    "b = 2 + 3.0\n",
    "type(a), type(b)"
   ]
  },
  {
   "cell_type": "code",
   "execution_count": 44,
   "id": "6b73734d",
   "metadata": {},
   "outputs": [
    {
     "data": {
      "text/plain": [
       "(int, float)"
      ]
     },
     "execution_count": 44,
     "metadata": {},
     "output_type": "execute_result"
    }
   ],
   "source": [
    "a = 3 * 5\n",
    "b = 3 * 5.0\n",
    "type(a), type(b)"
   ]
  },
  {
   "cell_type": "code",
   "execution_count": 45,
   "id": "462a5920",
   "metadata": {},
   "outputs": [
    {
     "data": {
      "text/plain": [
       "(float, float)"
      ]
     },
     "execution_count": 45,
     "metadata": {},
     "output_type": "execute_result"
    }
   ],
   "source": [
    "a = 4/2\n",
    "b = 4/2.0\n",
    "type(a), type(b)"
   ]
  },
  {
   "cell_type": "markdown",
   "id": "ca18d087",
   "metadata": {},
   "source": [
    "### Explicit Type Conversion (Type Casting)"
   ]
  },
  {
   "cell_type": "markdown",
   "id": "c874e373",
   "metadata": {},
   "source": [
    "####  Convert to Integer using ` int (a)`  function"
   ]
  },
  {
   "cell_type": "code",
   "execution_count": 46,
   "id": "a330ca1b",
   "metadata": {},
   "outputs": [
    {
     "data": {
      "text/plain": [
       "(str, '21')"
      ]
     },
     "execution_count": 46,
     "metadata": {},
     "output_type": "execute_result"
    }
   ],
   "source": [
    "x = '21'\n",
    "type(x), x"
   ]
  },
  {
   "cell_type": "code",
   "execution_count": 47,
   "id": "e9116c10",
   "metadata": {},
   "outputs": [
    {
     "data": {
      "text/plain": [
       "(int, 21)"
      ]
     },
     "execution_count": 47,
     "metadata": {},
     "output_type": "execute_result"
    }
   ],
   "source": [
    "y = int(x)\n",
    "type(y), y"
   ]
  },
  {
   "cell_type": "code",
   "execution_count": 48,
   "id": "d1ab9b90",
   "metadata": {},
   "outputs": [
    {
     "data": {
      "text/plain": [
       "(bool, True)"
      ]
     },
     "execution_count": 48,
     "metadata": {},
     "output_type": "execute_result"
    }
   ],
   "source": [
    "z = bool(-5)\n",
    "type(z), z"
   ]
  },
  {
   "cell_type": "code",
   "execution_count": 49,
   "id": "782db146",
   "metadata": {},
   "outputs": [
    {
     "name": "stdout",
     "output_type": "stream",
     "text": [
      "0x15\n",
      "0o25\n"
     ]
    }
   ],
   "source": [
    "# You can also use hex() and oct() functions\n",
    "print(hex(21))\n",
    "print(oct(21))"
   ]
  },
  {
   "cell_type": "markdown",
   "id": "97c86bd4",
   "metadata": {},
   "source": [
    "####  Convert to Float  using  `float (a)` function"
   ]
  },
  {
   "cell_type": "code",
   "execution_count": 50,
   "id": "56ebaa5e",
   "metadata": {},
   "outputs": [
    {
     "data": {
      "text/plain": [
       "(int, 54)"
      ]
     },
     "execution_count": 50,
     "metadata": {},
     "output_type": "execute_result"
    }
   ],
   "source": [
    "a = 54\n",
    "type(a), a"
   ]
  },
  {
   "cell_type": "code",
   "execution_count": 51,
   "id": "0df0c2a9",
   "metadata": {},
   "outputs": [
    {
     "data": {
      "text/plain": [
       "(float, 54.0)"
      ]
     },
     "execution_count": 51,
     "metadata": {},
     "output_type": "execute_result"
    }
   ],
   "source": [
    "b = float(a)\n",
    "type(b), b"
   ]
  },
  {
   "cell_type": "code",
   "execution_count": 52,
   "id": "d126562e",
   "metadata": {},
   "outputs": [
    {
     "data": {
      "text/plain": [
       "(float, 54.0)"
      ]
     },
     "execution_count": 52,
     "metadata": {},
     "output_type": "execute_result"
    }
   ],
   "source": [
    "b = float(a)\n",
    "type(b), b"
   ]
  },
  {
   "cell_type": "markdown",
   "id": "a5983f7d",
   "metadata": {},
   "source": [
    "####  Convert an Integer to a String  using  `str (a)`  function"
   ]
  },
  {
   "cell_type": "code",
   "execution_count": 53,
   "id": "755adf08",
   "metadata": {},
   "outputs": [
    {
     "data": {
      "text/plain": [
       "(int, 341)"
      ]
     },
     "execution_count": 53,
     "metadata": {},
     "output_type": "execute_result"
    }
   ],
   "source": [
    "num = 341\n",
    "type(num), num"
   ]
  },
  {
   "cell_type": "code",
   "execution_count": 54,
   "id": "61ad8c19",
   "metadata": {},
   "outputs": [
    {
     "data": {
      "text/plain": [
       "(str, '341')"
      ]
     },
     "execution_count": 54,
     "metadata": {},
     "output_type": "execute_result"
    }
   ],
   "source": [
    "mystr = str(num)\n",
    "type(mystr), mystr"
   ]
  },
  {
   "cell_type": "markdown",
   "id": "2249cb7c",
   "metadata": {},
   "source": [
    "####  Convert two Floats to Complex Data type  using  `complex (a, b)`  function"
   ]
  },
  {
   "cell_type": "code",
   "execution_count": 55,
   "id": "5ff96348",
   "metadata": {},
   "outputs": [
    {
     "data": {
      "text/plain": [
       "(complex, (2.6+3.2j))"
      ]
     },
     "execution_count": 55,
     "metadata": {},
     "output_type": "execute_result"
    }
   ],
   "source": [
    "a = 2.6\n",
    "b = 3.2\n",
    "x = complex(a,b)\n",
    "type(x), x"
   ]
  },
  {
   "cell_type": "markdown",
   "id": "f2291acb",
   "metadata": {},
   "source": []
  },
  {
   "cell_type": "markdown",
   "id": "38d34795",
   "metadata": {},
   "source": [
    "## 1. Arithmetic operators in Python\n",
    "- Python supports the following arithmetic operators:\n",
    "\n",
    "| Operator   | Purpose           | Example     | Result    |\n",
    "|------------|-------------------|-------------|-----------|\n",
    "| `+`        | Addition          | `2 + 3`     | `5`       |\n",
    "| `-`        | Subtraction       | `3 - 2`     | `1`       |\n",
    "| `*`        | Multiplication    | `8 * 12`    | `96`      |\n",
    "| `/`        | Division          | `100 / 7`   | `14.28..` |\n",
    "| `//`       | Floor Division    | `100 // 7`  | `14`      |    \n",
    "| `%`        | Modulus/Remainder | `100 % 7`   | `2`       |\n",
    "| `**`       | Exponent          | `5 ** 3`    | `125`     |\n"
   ]
  },
  {
   "cell_type": "code",
   "execution_count": 56,
   "id": "c61194d2",
   "metadata": {},
   "outputs": [
    {
     "name": "stdout",
     "output_type": "stream",
     "text": [
      "x + y = 13\n",
      "x - y = 7\n",
      "x * y = 30\n",
      "x / y = 3.3333333333333335\n",
      "x // y = 3\n",
      "x ** y = 1000\n",
      "x % y = 1\n"
     ]
    }
   ],
   "source": [
    "x = 10\n",
    "y = 3\n",
    "\n",
    "# Output: x + y \n",
    "print('x + y =',x+y)\n",
    "\n",
    "# Output: x - y \n",
    "print('x - y =',x-y)\n",
    "\n",
    "# Output: x * y \n",
    "print('x * y =',x*y)\n",
    "\n",
    "# Output: x / y \n",
    "print('x / y =',x/y)\n",
    "\n",
    "# Floor Division: Output: x // y \n",
    "print('x // y =',x//y)\n",
    "\n",
    "# Output: x ^ y \n",
    "print('x ** y =',x**y)\n",
    "\n",
    "\n",
    "# Output: x % y \n",
    "print('x % y =',x%y)"
   ]
  },
  {
   "cell_type": "markdown",
   "id": "34342148",
   "metadata": {},
   "source": [
    "## 2. Assignment Operators in Python"
   ]
  },
  {
   "cell_type": "code",
   "execution_count": 57,
   "id": "05659409",
   "metadata": {},
   "outputs": [
    {
     "name": "stdout",
     "output_type": "stream",
     "text": [
      "9\n"
     ]
    }
   ],
   "source": [
    "#Assignment operators in Python\n",
    "x = 4\n",
    "\n",
    "\n",
    "x += 5    # <->  x = x + 5\n",
    "print(x)\n",
    "\n",
    "#    x = x - 5\n",
    "#    x -= 5       \n",
    "\n",
    "#    x = x * 5\n",
    "#    x *= 5       \n",
    "\n",
    "#    x = x / 5\n",
    "#    x /= 5       \n",
    "\n",
    "#    x = x % 5\n",
    "#    x %= 5       \n",
    "\n",
    "#    x = x // 5\n",
    "#    x //= 5      \n",
    "\n",
    "#    x = x ** 5\n",
    "#    x **= 5      \n",
    "\n",
    "#    x = x & 5\n",
    "#    x &= 5       \n",
    "\n",
    "#    x = x | 5\n",
    "#    x |= 5       \n",
    "\n",
    "#    x = x ^ 5\n",
    "#    x ^= 5       \n",
    "\n",
    "#    x = x >> 5\n",
    "#    x >>= 5      \n",
    "\n",
    "  #   x = x << 5\n",
    "x <<= 5"
   ]
  },
  {
   "cell_type": "markdown",
   "id": "45009ab9",
   "metadata": {},
   "source": [
    "## 3. Comparison Operators in Python\n",
    "- Comparison operators compare the contents in a field to either the contents in another field or a constant. "
   ]
  },
  {
   "cell_type": "code",
   "execution_count": 58,
   "id": "a8e00243",
   "metadata": {},
   "outputs": [
    {
     "name": "stdout",
     "output_type": "stream",
     "text": [
      "x > y is False\n",
      "x < y is True\n",
      "x == y is False\n",
      "x != y is True\n",
      "x >= y is False\n",
      "x <= y is True\n",
      "True\n"
     ]
    }
   ],
   "source": [
    "#Comparison operators in Python\n",
    "\n",
    "x = 10\n",
    "y = 12\n",
    "\n",
    "# Output: x > y \n",
    "print('x > y is',x>y)\n",
    "\n",
    "# Output: x < y \n",
    "print('x < y is',x<y)\n",
    "\n",
    "# Output: x == y \n",
    "print('x == y is',x==y)\n",
    "\n",
    "# Output: x != y \n",
    "print('x != y is',x!=y)\n",
    "\n",
    "# Output: x >= y \n",
    "print('x >= y is',x>=y)\n",
    "\n",
    "# Output: x <= y \n",
    "print('x <= y is',x<=y)\n",
    "\n",
    "\n",
    "a= x<=y\n",
    "print(a)"
   ]
  },
  {
   "cell_type": "markdown",
   "id": "e4d0f3a7",
   "metadata": {},
   "source": [
    "## 4. Logical operators in Python\n",
    "- The logical operators `and`, `or` and `not` operate upon conditions and `True` & `False` values. The `and` and `or` operate on two conditions, whereas `not` operates on a single condition.\n",
    "\n",
    "- The `and` operator returns `True` when both the conditions evaluate to `True`. Otherwise, it returns `False`.\n",
    "\n",
    "| `a`     | `b`    | `a and b` |\n",
    "|---------|--------|-----------|\n",
    "|  `True` | `True` | `True`    |\n",
    "|  `True` | `False`| `False`   |\n",
    "|  `False`| `True` | `False`   |\n",
    "|  `False`| `False`| `False`   |\n",
    "\n",
    "- The `or` operator returns `True` if at least one of the conditions evaluates to `True`. It returns `False` only if both conditions are `False`.\n",
    "\n",
    "| `a`     | `b`    | `a or b`  |\n",
    "|---------|--------|-----------|\n",
    "|  `True` | `True` | `True`    |\n",
    "|  `True` | `False`| `True`    |\n",
    "|  `False`| `True` | `True`    |\n",
    "|  `False`| `False`| `False`   |\n",
    "\n",
    "- The `not` operator returns `False` if a condition is `True` and `True` if the condition is `False`."
   ]
  },
  {
   "cell_type": "code",
   "execution_count": 59,
   "id": "d47986c6",
   "metadata": {},
   "outputs": [
    {
     "name": "stdout",
     "output_type": "stream",
     "text": [
      "x and y is False\n",
      "x or y is True\n",
      "not x is False\n"
     ]
    }
   ],
   "source": [
    "x = True\n",
    "y = False\n",
    "\n",
    "print('x and y is',x and y)\n",
    "\n",
    "print('x or y is',x or y)\n",
    "\n",
    "print('not x is',not x)"
   ]
  },
  {
   "cell_type": "markdown",
   "id": "b1a33ed4",
   "metadata": {},
   "source": [
    "Logical operators can be combined to form complex conditions. Use round brackets or parentheses `(` and `)` to indicate the order in which logical operators should be applied."
   ]
  },
  {
   "cell_type": "code",
   "execution_count": 60,
   "id": "2fb73ca3",
   "metadata": {},
   "outputs": [
    {
     "data": {
      "text/plain": [
       "True"
      ]
     },
     "execution_count": 60,
     "metadata": {},
     "output_type": "execute_result"
    }
   ],
   "source": [
    "numb = 3\n",
    "(2 > 3 and 4 <= 5) or  not (numb < 0 and True)"
   ]
  },
  {
   "cell_type": "markdown",
   "id": "edd72acc",
   "metadata": {},
   "source": [
    "### - Short Circuit Evaluation of Logical Expressions\n",
    "- When Python is processing a logical expression such as `x >= 2 and (x/y) > 2` , it evaluates the expression from left to right.\n",
    "- The evaluation of a logical expression stops when the overall value is already known. it is called short-circuiting the evaluation."
   ]
  },
  {
   "cell_type": "code",
   "execution_count": 61,
   "id": "50fc869c",
   "metadata": {},
   "outputs": [
    {
     "data": {
      "text/plain": [
       "False"
      ]
     },
     "execution_count": 61,
     "metadata": {},
     "output_type": "execute_result"
    }
   ],
   "source": [
    "# A short circuit happens in 'and' operation, when the first condition evaluates to False\n",
    "x = 3\n",
    "y = 0\n",
    "z = ((x>=6) and (x/y))\n",
    "z\n"
   ]
  },
  {
   "cell_type": "code",
   "execution_count": 62,
   "id": "9f918edc",
   "metadata": {},
   "outputs": [
    {
     "ename": "ZeroDivisionError",
     "evalue": "division by zero",
     "output_type": "error",
     "traceback": [
      "\u001b[0;31m---------------------------------------------------------------------------\u001b[0m",
      "\u001b[0;31mZeroDivisionError\u001b[0m                         Traceback (most recent call last)",
      "\u001b[0;32m/var/folders/m_/dkp183594w5d5gh0rl8770hh0000gq/T/ipykernel_1569/2861392702.py\u001b[0m in \u001b[0;36m<module>\u001b[0;34m\u001b[0m\n\u001b[1;32m      1\u001b[0m \u001b[0mx\u001b[0m \u001b[0;34m=\u001b[0m \u001b[0;36m8\u001b[0m\u001b[0;34m\u001b[0m\u001b[0;34m\u001b[0m\u001b[0m\n\u001b[1;32m      2\u001b[0m \u001b[0my\u001b[0m \u001b[0;34m=\u001b[0m \u001b[0;36m0\u001b[0m\u001b[0;34m\u001b[0m\u001b[0;34m\u001b[0m\u001b[0m\n\u001b[0;32m----> 3\u001b[0;31m \u001b[0mz\u001b[0m \u001b[0;34m=\u001b[0m \u001b[0;34m(\u001b[0m\u001b[0;34m(\u001b[0m\u001b[0mx\u001b[0m\u001b[0;34m>=\u001b[0m\u001b[0;36m6\u001b[0m\u001b[0;34m)\u001b[0m \u001b[0;32mand\u001b[0m \u001b[0;34m(\u001b[0m\u001b[0mx\u001b[0m\u001b[0;34m/\u001b[0m\u001b[0my\u001b[0m\u001b[0;34m)\u001b[0m\u001b[0;34m)\u001b[0m\u001b[0;34m\u001b[0m\u001b[0;34m\u001b[0m\u001b[0m\n\u001b[0m\u001b[1;32m      4\u001b[0m \u001b[0mz\u001b[0m\u001b[0;34m\u001b[0m\u001b[0;34m\u001b[0m\u001b[0m\n",
      "\u001b[0;31mZeroDivisionError\u001b[0m: division by zero"
     ]
    }
   ],
   "source": [
    "x = 8\n",
    "y = 0\n",
    "z = ((x>=6) and (x/y))\n",
    "z\n"
   ]
  },
  {
   "cell_type": "code",
   "execution_count": 63,
   "id": "194e5a17",
   "metadata": {},
   "outputs": [
    {
     "data": {
      "text/plain": [
       "True"
      ]
     },
     "execution_count": 63,
     "metadata": {},
     "output_type": "execute_result"
    }
   ],
   "source": [
    "# A short circuit happens in 'or' operation, when the first condition evaluates to True\n",
    "x = 7\n",
    "y = 0\n",
    "z = ((x>=6) or (x/y))\n",
    "z"
   ]
  },
  {
   "cell_type": "code",
   "execution_count": 65,
   "id": "7a6b1434",
   "metadata": {},
   "outputs": [
    {
     "data": {
      "text/plain": [
       "False"
      ]
     },
     "execution_count": 65,
     "metadata": {},
     "output_type": "execute_result"
    }
   ],
   "source": [
    "# to overcome the above scenario use guard evaluation\n",
    "\n",
    "x = 3\n",
    "y = 0\n",
    "z = ((x <= 6) and (y != 0) and (x/y))\n",
    "z"
   ]
  },
  {
   "cell_type": "markdown",
   "id": "c7ee1ec4",
   "metadata": {},
   "source": [
    "## 5. Bitwise Operators in Python\n",
    "- A bitwise operator is an operator used to perform bitwise operations on bit patterns or binary numerals that involve the manipulation of individual bits."
   ]
  },
  {
   "cell_type": "code",
   "execution_count": 66,
   "id": "d5cb1dca",
   "metadata": {},
   "outputs": [
    {
     "data": {
      "text/plain": [
       "-3"
      ]
     },
     "execution_count": 66,
     "metadata": {},
     "output_type": "execute_result"
    }
   ],
   "source": [
    "a = -5\n",
    "b = a >> 1\n",
    "b"
   ]
  },
  {
   "cell_type": "code",
   "execution_count": 67,
   "id": "e2af75a7",
   "metadata": {},
   "outputs": [
    {
     "name": "stdout",
     "output_type": "stream",
     "text": [
      "x & y is 0\n",
      "x | y is 14\n",
      "~x is -11\n",
      "x^y is 14\n",
      "x>>3 is 1\n",
      "x<<3 is 80\n"
     ]
    }
   ],
   "source": [
    "#Bitwise operators in Python\n",
    "x = 10   # 00001010\n",
    "y = 4    # 00000100\n",
    "\n",
    "\n",
    "# Bitwise and\n",
    "print('x & y is',x&y)\n",
    "\n",
    "# Bitwise or\n",
    "print('x | y is',x|y)\n",
    "\n",
    "# Bitwise not\n",
    "print('~x is',~x)\n",
    "\n",
    "# Bitwise XOR\n",
    "print('x^y is',x^y)\n",
    "\n",
    "# Bitwise right shift\n",
    "print('x>>3 is',x>>3)\n",
    "\n",
    "# Bitwise left shift\n",
    "print('x<<3 is',x<<3)"
   ]
  },
  {
   "cell_type": "code",
   "execution_count": 68,
   "id": "fac551a1",
   "metadata": {},
   "outputs": [
    {
     "name": "stdout",
     "output_type": "stream",
     "text": [
      "9\n",
      "-14\n",
      "-2\n"
     ]
    }
   ],
   "source": [
    "#Bitwise operators in Python\n",
    "x = -10   \n",
    "y = 4    \n",
    "\n",
    "print(~x)\n",
    "print(x^y)\n",
    "print(x>>3)"
   ]
  },
  {
   "cell_type": "markdown",
   "id": "52f49382",
   "metadata": {},
   "source": [
    "## 6. Identity Operators in Python\n",
    "- Identity operators are used to compare the ID of objects (not their values)\n",
    "- Returns True if both objects refer to same memory location\n",
    "- The two identity operators in Python are `is` and `is not`"
   ]
  },
  {
   "cell_type": "code",
   "execution_count": 69,
   "id": "8b94784a",
   "metadata": {},
   "outputs": [
    {
     "name": "stdout",
     "output_type": "stream",
     "text": [
      "False\n",
      "True\n"
     ]
    }
   ],
   "source": [
    "#Identity operators in Python\n",
    "a = 5\n",
    "b = 5.0\n",
    "\n",
    "print(a is b)\n",
    "print(a==b)\n"
   ]
  },
  {
   "cell_type": "code",
   "execution_count": 70,
   "id": "2dd67010",
   "metadata": {},
   "outputs": [
    {
     "name": "stdout",
     "output_type": "stream",
     "text": [
      "False\n",
      "True\n"
     ]
    }
   ],
   "source": [
    "a = 'Hello'\n",
    "b = 'Hello'\n",
    "\n",
    "# Output: False\n",
    "print(a is not b)\n",
    "\n",
    "# Output: True\n",
    "print(a is b)"
   ]
  },
  {
   "cell_type": "markdown",
   "id": "9d537908",
   "metadata": {},
   "source": [
    "## 7. Membership Operators in Python\n",
    "- Python’s membership operators test for membership in a sequence, such as strings, lists, or tuples.\n",
    "- The two membership operators in Python are `in` and `not in`"
   ]
  },
  {
   "cell_type": "code",
   "execution_count": 71,
   "id": "a64dadb2",
   "metadata": {},
   "outputs": [
    {
     "name": "stdout",
     "output_type": "stream",
     "text": [
      "False\n",
      "True\n"
     ]
    }
   ],
   "source": [
    "a = 10\n",
    "b = 4\n",
    "list = [1, 2, 3, 4, 5 ]\n",
    "\n",
    "rv = a in list\n",
    "print(rv)\n",
    "rv = b in list\n",
    "print(rv)"
   ]
  },
  {
   "cell_type": "markdown",
   "id": "d1cb3907",
   "metadata": {},
   "source": [
    "## 8. Operators Precedence and Associativity: \n",
    "<img align=\"right\" width=\"500\" height=\"300\"  src=\"images/precedence_table.png\" > \n",
    "\n",
    "- The **precedence of operators** determines which operator is executed first if there are more than one operator in an expression. \n",
    "- Certain operators have higher precedence than others; for example, the multiplication operator has a higher precedence than the addition operator.\n",
    "- Operators with the highest precedence appear at the top of the table, those with the lowest appear at the bottom.\n",
    "- The **associativity of operators** is the order in which Python evaluates an expression containing multiple operators of the same precedence.\n",
    "- Almost all the operators have left-to-right associativity.\n",
    "    >- may be associative (means the operations can be grouped arbitrarily)\n",
    "    >-left-associative (means the operations are grouped from the left)\n",
    "    >-right-associative (Exponent operator ** has right-to-left associativity in Python)\n",
    "    >- non-associative (meaning operations cannot be chained, often because the output type"
   ]
  },
  {
   "cell_type": "code",
   "execution_count": 72,
   "id": "6369170d",
   "metadata": {},
   "outputs": [
    {
     "name": "stdout",
     "output_type": "stream",
     "text": [
      "Operator precedence\n",
      "*******************\n",
      "\n",
      "The following table summarizes the operator precedence in Python, from\n",
      "highest precedence (most binding) to lowest precedence (least\n",
      "binding).  Operators in the same box have the same precedence.  Unless\n",
      "the syntax is explicitly given, operators are binary.  Operators in\n",
      "the same box group left to right (except for exponentiation, which\n",
      "groups from right to left).\n",
      "\n",
      "Note that comparisons, membership tests, and identity tests, all have\n",
      "the same precedence and have a left-to-right chaining feature as\n",
      "described in the Comparisons section.\n",
      "\n",
      "+-------------------------------------------------+---------------------------------------+\n",
      "| Operator                                        | Description                           |\n",
      "|=================================================|=======================================|\n",
      "| \"(expressions...)\",  \"[expressions...]\", \"{key: | Binding or parenthesized expression,  |\n",
      "| value...}\", \"{expressions...}\"                  | list display, dictionary display, set |\n",
      "|                                                 | display                               |\n",
      "+-------------------------------------------------+---------------------------------------+\n",
      "| \"x[index]\", \"x[index:index]\",                   | Subscription, slicing, call,          |\n",
      "| \"x(arguments...)\", \"x.attribute\"                | attribute reference                   |\n",
      "+-------------------------------------------------+---------------------------------------+\n",
      "| \"await\" \"x\"                                     | Await expression                      |\n",
      "+-------------------------------------------------+---------------------------------------+\n",
      "| \"**\"                                            | Exponentiation [5]                    |\n",
      "+-------------------------------------------------+---------------------------------------+\n",
      "| \"+x\", \"-x\", \"~x\"                                | Positive, negative, bitwise NOT       |\n",
      "+-------------------------------------------------+---------------------------------------+\n",
      "| \"*\", \"@\", \"/\", \"//\", \"%\"                        | Multiplication, matrix                |\n",
      "|                                                 | multiplication, division, floor       |\n",
      "|                                                 | division, remainder [6]               |\n",
      "+-------------------------------------------------+---------------------------------------+\n",
      "| \"+\", \"-\"                                        | Addition and subtraction              |\n",
      "+-------------------------------------------------+---------------------------------------+\n",
      "| \"<<\", \">>\"                                      | Shifts                                |\n",
      "+-------------------------------------------------+---------------------------------------+\n",
      "| \"&\"                                             | Bitwise AND                           |\n",
      "+-------------------------------------------------+---------------------------------------+\n",
      "| \"^\"                                             | Bitwise XOR                           |\n",
      "+-------------------------------------------------+---------------------------------------+\n",
      "| \"|\"                                             | Bitwise OR                            |\n",
      "+-------------------------------------------------+---------------------------------------+\n",
      "| \"in\", \"not in\", \"is\", \"is not\", \"<\", \"<=\", \">\", | Comparisons, including membership     |\n",
      "| \">=\", \"!=\", \"==\"                                | tests and identity tests              |\n",
      "+-------------------------------------------------+---------------------------------------+\n",
      "| \"not\" \"x\"                                       | Boolean NOT                           |\n",
      "+-------------------------------------------------+---------------------------------------+\n",
      "| \"and\"                                           | Boolean AND                           |\n",
      "+-------------------------------------------------+---------------------------------------+\n",
      "| \"or\"                                            | Boolean OR                            |\n",
      "+-------------------------------------------------+---------------------------------------+\n",
      "| \"if\" – \"else\"                                   | Conditional expression                |\n",
      "+-------------------------------------------------+---------------------------------------+\n",
      "| \"lambda\"                                        | Lambda expression                     |\n",
      "+-------------------------------------------------+---------------------------------------+\n",
      "| \":=\"                                            | Assignment expression                 |\n",
      "+-------------------------------------------------+---------------------------------------+\n",
      "\n",
      "-[ Footnotes ]-\n",
      "\n",
      "[1] While \"abs(x%y) < abs(y)\" is true mathematically, for floats it\n",
      "    may not be true numerically due to roundoff.  For example, and\n",
      "    assuming a platform on which a Python float is an IEEE 754 double-\n",
      "    precision number, in order that \"-1e-100 % 1e100\" have the same\n",
      "    sign as \"1e100\", the computed result is \"-1e-100 + 1e100\", which\n",
      "    is numerically exactly equal to \"1e100\".  The function\n",
      "    \"math.fmod()\" returns a result whose sign matches the sign of the\n",
      "    first argument instead, and so returns \"-1e-100\" in this case.\n",
      "    Which approach is more appropriate depends on the application.\n",
      "\n",
      "[2] If x is very close to an exact integer multiple of y, it’s\n",
      "    possible for \"x//y\" to be one larger than \"(x-x%y)//y\" due to\n",
      "    rounding.  In such cases, Python returns the latter result, in\n",
      "    order to preserve that \"divmod(x,y)[0] * y + x % y\" be very close\n",
      "    to \"x\".\n",
      "\n",
      "[3] The Unicode standard distinguishes between *code points* (e.g.\n",
      "    U+0041) and *abstract characters* (e.g. “LATIN CAPITAL LETTER A”).\n",
      "    While most abstract characters in Unicode are only represented\n",
      "    using one code point, there is a number of abstract characters\n",
      "    that can in addition be represented using a sequence of more than\n",
      "    one code point.  For example, the abstract character “LATIN\n",
      "    CAPITAL LETTER C WITH CEDILLA” can be represented as a single\n",
      "    *precomposed character* at code position U+00C7, or as a sequence\n",
      "    of a *base character* at code position U+0043 (LATIN CAPITAL\n",
      "    LETTER C), followed by a *combining character* at code position\n",
      "    U+0327 (COMBINING CEDILLA).\n",
      "\n",
      "    The comparison operators on strings compare at the level of\n",
      "    Unicode code points. This may be counter-intuitive to humans.  For\n",
      "    example, \"\"\\u00C7\" == \"\\u0043\\u0327\"\" is \"False\", even though both\n",
      "    strings represent the same abstract character “LATIN CAPITAL\n",
      "    LETTER C WITH CEDILLA”.\n",
      "\n",
      "    To compare strings at the level of abstract characters (that is,\n",
      "    in a way intuitive to humans), use \"unicodedata.normalize()\".\n",
      "\n",
      "[4] Due to automatic garbage-collection, free lists, and the dynamic\n",
      "    nature of descriptors, you may notice seemingly unusual behaviour\n",
      "    in certain uses of the \"is\" operator, like those involving\n",
      "    comparisons between instance methods, or constants.  Check their\n",
      "    documentation for more info.\n",
      "\n",
      "[5] The power operator \"**\" binds less tightly than an arithmetic or\n",
      "    bitwise unary operator on its right, that is, \"2**-1\" is \"0.5\".\n",
      "\n",
      "[6] The \"%\" operator is also used for string formatting; the same\n",
      "    precedence applies.\n",
      "\n",
      "Related help topics: lambda, or, and, not, in, is, BOOLEAN, COMPARISON,\n",
      "BITWISE, SHIFTING, BINARY, FORMATTING, POWER, UNARY, ATTRIBUTES,\n",
      "SUBSCRIPTS, SLICINGS, CALLS, TUPLES, LISTS, DICTIONARIES\n",
      "\n"
     ]
    }
   ],
   "source": [
    "# Run interactive help and type \"OPERATORS\" to get information about precedence\n",
    "help('OPERATORS')"
   ]
  },
  {
   "cell_type": "code",
   "execution_count": 73,
   "id": "670f8357",
   "metadata": {},
   "outputs": [
    {
     "name": "stdout",
     "output_type": "stream",
     "text": [
      "11\n",
      "16\n"
     ]
    }
   ],
   "source": [
    "print(5 + 3 * 2)\n",
    "print((5 + 3) * 2)"
   ]
  },
  {
   "cell_type": "code",
   "execution_count": 74,
   "id": "762a167b",
   "metadata": {},
   "outputs": [
    {
     "name": "stdout",
     "output_type": "stream",
     "text": [
      "512\n",
      "64\n"
     ]
    }
   ],
   "source": [
    "print(2 ** 3 ** 2)\n",
    "print((2 ** 3) ** 2)"
   ]
  },
  {
   "cell_type": "code",
   "execution_count": 75,
   "id": "0eae65e3",
   "metadata": {},
   "outputs": [
    {
     "name": "stdout",
     "output_type": "stream",
     "text": [
      "20\n"
     ]
    }
   ],
   "source": [
    "num1, num2, num3 = 2, 3, 4\n",
    "print ((num1 + num2) * num3)"
   ]
  },
  {
   "cell_type": "code",
   "execution_count": 76,
   "id": "3ad64bbf",
   "metadata": {},
   "outputs": [
    {
     "name": "stdout",
     "output_type": "stream",
     "text": [
      "12\n"
     ]
    }
   ],
   "source": [
    "num1, num2, num3 = 2, 3, 4\n",
    "print (num1 ** num2 + num3)"
   ]
  },
  {
   "cell_type": "code",
   "execution_count": 77,
   "id": "b3f24bc2",
   "metadata": {},
   "outputs": [
    {
     "name": "stdout",
     "output_type": "stream",
     "text": [
      "-13\n"
     ]
    }
   ],
   "source": [
    "num1, num2 = 15, 3\n",
    "print (~num1 + num2)"
   ]
  },
  {
   "cell_type": "code",
   "execution_count": null,
   "id": "790b7c3f",
   "metadata": {},
   "outputs": [],
   "source": []
  }
 ],
 "metadata": {
  "kernelspec": {
   "display_name": "Python 3 (ipykernel)",
   "language": "python",
   "name": "python3"
  },
  "language_info": {
   "codemirror_mode": {
    "name": "ipython",
    "version": 3
   },
   "file_extension": ".py",
   "mimetype": "text/x-python",
   "name": "python",
   "nbconvert_exporter": "python",
   "pygments_lexer": "ipython3",
   "version": "3.9.13"
  }
 },
 "nbformat": 4,
 "nbformat_minor": 5
}
