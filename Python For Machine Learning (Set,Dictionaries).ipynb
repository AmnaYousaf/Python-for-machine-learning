{
 "cells": [
  {
   "cell_type": "markdown",
   "id": "3a8e1849",
   "metadata": {},
   "source": [
    "## _Python-Sets"
   ]
  },
  {
   "cell_type": "markdown",
   "id": "bb48fd9f",
   "metadata": {},
   "source": [
    "> **A Set is an unordered and unindexed collection of heterogeneous items that is iterable, mutable and has no duplicate elements.**\n",
    "\n",
    "- Like Lists, a set is created by placing comma separated values, but in curly brackets rather square brackets. \n",
    "- Like List, a set also allows us to store elements of different data types in one container.\n",
    "- Like List, it is possible to add, remove, or modify values in a set.\n",
    "- Any immutable data type can be an element of a set: a number, a string, a tuple. Mutable data types cannot be elements of the set.\n",
    "- To be honest, this data structure is extremely useful and is underutilized by beginners, so try to keep it in mind!\n",
    "- The major advantage of using a set, as opposed to a list, is that it has a highly optimized method for membership testing and eliminating duplicate entries"
   ]
  },
  {
   "cell_type": "markdown",
   "id": "6c92b665",
   "metadata": {},
   "source": [
    "## 1. How to create Sets?\n",
    "- A set is created by placing comma separated values in curly brackets `{}`. \n",
    "- The preferred of creating a set is by using `set()` method, and passing a list to it, as curly brackets are also used by dictionary object in Python."
   ]
  },
  {
   "cell_type": "code",
   "execution_count": 2,
   "id": "7d22fa58",
   "metadata": {},
   "outputs": [
    {
     "data": {
      "text/plain": [
       "({1, 2, 3, 4, 5}, set)"
      ]
     },
     "execution_count": 2,
     "metadata": {},
     "output_type": "execute_result"
    }
   ],
   "source": [
    "s1 = {1,2,3,4,5}   #set of integers\n",
    "s1 = set([1, 2, 3, 4, 5])\n",
    "s1, type(s1)"
   ]
  },
  {
   "cell_type": "code",
   "execution_count": 3,
   "id": "40809e3b",
   "metadata": {},
   "outputs": [
    {
     "name": "stdout",
     "output_type": "stream",
     "text": [
      "{3.8, 3.7, 6.5, 7.95}\n"
     ]
    }
   ],
   "source": [
    "s2 = {3.7, 6.5, 3.8, 7.95}   #set of floats\n",
    "s2 = set([3.7, 6.5, 3.8, 7.95])\n",
    "print(s2)"
   ]
  },
  {
   "cell_type": "code",
   "execution_count": 4,
   "id": "36892ecf",
   "metadata": {},
   "outputs": [
    {
     "name": "stdout",
     "output_type": "stream",
     "text": [
      "{'hello', 'F', 'good show', 'this'}\n"
     ]
    }
   ],
   "source": [
    "s3 = {\"hello\", \"this\", \"F\", \"good show\"}   #set of strings\n",
    "s3 = set([\"hello\", \"this\", \"F\", \"good show\"])\n",
    "print(s3)"
   ]
  },
  {
   "cell_type": "code",
   "execution_count": 5,
   "id": "918c4f35",
   "metadata": {},
   "outputs": [
    {
     "name": "stdout",
     "output_type": "stream",
     "text": [
      "{False, True}\n"
     ]
    }
   ],
   "source": [
    "s4 = {True, False, True, True, False}   #set of boolean\n",
    "s4 = set([True, False, True, True, False])\n",
    "print(s4)\n"
   ]
  },
  {
   "cell_type": "code",
   "execution_count": 6,
   "id": "0aad2c65",
   "metadata": {},
   "outputs": [
    {
     "name": "stdout",
     "output_type": "stream",
     "text": [
      "set()\n",
      "<class 'set'>\n"
     ]
    }
   ],
   "source": [
    "# creating an empty set\n",
    "#emptyset = {}  # this is not correct way\n",
    "\n",
    "# to create empty set, we can use set()\n",
    "s5 = set()\n",
    "print(s5)\n",
    "print(type(s5))"
   ]
  },
  {
   "cell_type": "markdown",
   "id": "346cdb77",
   "metadata": {},
   "source": [
    "## 2. Proof of concepts: Sets are heterogeneous, unordered, mutable, nested, and does not allow duplicate elements"
   ]
  },
  {
   "cell_type": "markdown",
   "id": "5663e4cc",
   "metadata": {},
   "source": [
    "### a. Sets are heterogeneous\n",
    "- Sets are heterogeneous, as their elements/items can be of any data type"
   ]
  },
  {
   "cell_type": "code",
   "execution_count": 7,
   "id": "007a8fe1",
   "metadata": {},
   "outputs": [
    {
     "name": "stdout",
     "output_type": "stream",
     "text": [
      "s1:  {'Abc', 5.5, 30}\n"
     ]
    }
   ],
   "source": [
    "s1 = {\"Abc\", 30, 5.5}\n",
    "print(\"s1: \", s1)"
   ]
  },
  {
   "cell_type": "markdown",
   "id": "37638f55",
   "metadata": {},
   "source": [
    "### b. Sets are unordered\n",
    "- Sets are unordered means elements of a set are NOT associated by any index\n",
    "- When you access set elements they may show up in different sequence. \n",
    "- Moreover, two sets having same elements in different order \n",
    "    - have different memory addresses\n",
    "    - the `is` operator compares the memory adresses\n",
    "    - the `==` operator compares the contents"
   ]
  },
  {
   "cell_type": "code",
   "execution_count": 9,
   "id": "d8ec9438",
   "metadata": {},
   "outputs": [
    {
     "name": "stdout",
     "output_type": "stream",
     "text": [
      "{'is', 'me', 'with', 'learning', 'fun'}\n"
     ]
    }
   ],
   "source": [
    "s2 = set(['learning', 'is', 'fun', 'with', 'me'])\n",
    "print(s2)"
   ]
  },
  {
   "cell_type": "code",
   "execution_count": 10,
   "id": "931ae6ae",
   "metadata": {},
   "outputs": [
    {
     "data": {
      "text/plain": [
       "(140647164078784, 140647164079456, True, False)"
      ]
     },
     "execution_count": 10,
     "metadata": {},
     "output_type": "execute_result"
    }
   ],
   "source": [
    "a = {1, 2, 3}\n",
    "b = {2, 3, 1}\n",
    "id(a), id(b), a == b, a is b"
   ]
  },
  {
   "cell_type": "markdown",
   "id": "de1398c5",
   "metadata": {},
   "source": [
    "### c. Sets are mutable\n",
    "- Yes, Python sets are mutable because the set itself may be modified, but the elements contained in the set must be of an immutable type.\n",
    "- However, since sets cannot be indexed, so we can't change them using index withing subscript operator"
   ]
  },
  {
   "cell_type": "code",
   "execution_count": 11,
   "id": "e0da1ec1",
   "metadata": {},
   "outputs": [
    {
     "name": "stdout",
     "output_type": "stream",
     "text": [
      "numbers:  {40, 10, 50, 20, 30}\n"
     ]
    }
   ],
   "source": [
    "numbers = set([10, 20, 30, 40, 50])\n",
    "#numbers[2] = 15   # Will flag an error because set elements cannot be indxed using ubscript operator\n",
    "\n",
    "print(\"numbers: \", numbers)"
   ]
  },
  {
   "cell_type": "markdown",
   "id": "bb84922c",
   "metadata": {},
   "source": [
    "### d. Sets CANNOT have duplicate elements"
   ]
  },
  {
   "cell_type": "code",
   "execution_count": 12,
   "id": "b6edd0de",
   "metadata": {},
   "outputs": [
    {
     "name": "stdout",
     "output_type": "stream",
     "text": [
      "{'Hadeed', 'Arif', 'Rauf', 'Mujahid'}\n"
     ]
    }
   ],
   "source": [
    "# Sets do not allow duplicate elements\n",
    "# The following line will not raise an error, however, 'Arif' will be added to the set only once\n",
    "names = {'Arif', 'Rauf', 'Hadeed', 'Arif', 'Mujahid'}\n",
    "print(names)"
   ]
  },
  {
   "cell_type": "code",
   "execution_count": 13,
   "id": "37448533",
   "metadata": {},
   "outputs": [
    {
     "name": "stdout",
     "output_type": "stream",
     "text": [
      "\n",
      "List:  [2, 4, 5, 6, 8, 7, 3, 3, 2]\n",
      "List converted to set:  {2, 3, 4, 5, 6, 7, 8}\n"
     ]
    }
   ],
   "source": [
    "# So when we want to remove duplication from list, we typecast it to a set\n",
    "mylist = [2, 4, 5, 6, 8, 7, 3, 3, 2]\n",
    "print(\"\\nList: \", mylist)\n",
    "myset = set(mylist)\n",
    "print(\"List converted to set: \", myset)"
   ]
  },
  {
   "cell_type": "markdown",
   "id": "81b02883",
   "metadata": {},
   "source": [
    "### e. Mutable data types cannot be elements of the set."
   ]
  },
  {
   "cell_type": "code",
   "execution_count": 14,
   "id": "4a4d7e2a",
   "metadata": {},
   "outputs": [],
   "source": [
    "# You can have a number, string, and tuple type of elements inside a set (being immutable)\n",
    "s1 = {\"Arif\", 30, 5.5, True, (10,'rauf')}"
   ]
  },
  {
   "cell_type": "code",
   "execution_count": 15,
   "id": "a78dfdc7",
   "metadata": {},
   "outputs": [],
   "source": [
    "# You cannot have a list, set or dictionary inside a set (being mutable)\n",
    "#s1 = {\"Arif\", 30, 5.5, [10,'rauf']}"
   ]
  },
  {
   "cell_type": "code",
   "execution_count": 16,
   "id": "f23e6cb3",
   "metadata": {},
   "outputs": [],
   "source": [
    "# You cannot have a list, set or dictionary inside a set (being mutable)\n",
    "#s1 = {\"Arif\", 30, 5.5, {10,'rauf'}}"
   ]
  },
  {
   "cell_type": "code",
   "execution_count": 17,
   "id": "6c35da00",
   "metadata": {},
   "outputs": [],
   "source": [
    "# You cannot have a list, set or dictionary inside a set (being mutable)\n",
    "#s1 = {\"Arif\", 30, 5.5, {'key':'value'}}"
   ]
  },
  {
   "cell_type": "markdown",
   "id": "64402d20",
   "metadata": {},
   "source": [
    "### e. Nested Sets\n",
    "- You can have tuple inside a set\n",
    "- However, you CANNOT have a list, set, and dictionary objects inside a set, because sets cannot contain mutable values\n",
    "- This is one situation where you may wish to use a frozenset, which is very similar to a set except that a frozenset is immutable."
   ]
  },
  {
   "cell_type": "code",
   "execution_count": 18,
   "id": "e775a93d",
   "metadata": {},
   "outputs": [
    {
     "name": "stdout",
     "output_type": "stream",
     "text": [
      "{'Arif', (10, 'rauf'), 5.5, 30}\n"
     ]
    }
   ],
   "source": [
    "# Nested sets: sets can have another tuple as an item\n",
    "s1 = {\"Arif\", 30, 5.5, (10,'rauf')}\n",
    "print(s1)"
   ]
  },
  {
   "cell_type": "code",
   "execution_count": 19,
   "id": "f519bede",
   "metadata": {},
   "outputs": [],
   "source": [
    "# However, you cannot have a list inside a set, , because sets cannot contain mutable values (lists are mutable)\n",
    "#s1 = {\"Arif\", 30, 5.5, [10,'rauf']} # Error unhashable type list"
   ]
  },
  {
   "cell_type": "code",
   "execution_count": 20,
   "id": "3c8e583c",
   "metadata": {},
   "outputs": [],
   "source": [
    "#Similarly, you cannot have a set within a set, because sets cannot contain mutable values (sets are mutable)\n",
    "#s1 = {\"Arif\", 30, 5.5, {10,'rauf'}} # Error unhashable type set"
   ]
  },
  {
   "cell_type": "markdown",
   "id": "935bb8e5",
   "metadata": {},
   "source": [
    "### f. Packing and Unpacking Sets"
   ]
  },
  {
   "cell_type": "code",
   "execution_count": 142,
   "id": "0532bf3f",
   "metadata": {},
   "outputs": [
    {
     "name": "stdout",
     "output_type": "stream",
     "text": [
      "{'is', 'me', 'with', 'learning', 'fun'}\n",
      "is me with learning fun\n"
     ]
    }
   ],
   "source": [
    "# you can unpack set elements\n",
    "myset = set(['learning', 'is', 'fun', 'with', 'me'])\n",
    "print(myset)\n",
    "a, b, c, d, e = myset # the number of variables on the left must match the length of set\n",
    "print (a, b, c, d, e)"
   ]
  },
  {
   "cell_type": "markdown",
   "id": "5635f94c",
   "metadata": {},
   "source": [
    "**Note the randomness, because sets are unordered**"
   ]
  },
  {
   "cell_type": "code",
   "execution_count": 143,
   "id": "84d06427",
   "metadata": {},
   "outputs": [
    {
     "name": "stdout",
     "output_type": "stream",
     "text": [
      "{'is', 'with', 'me', 'learning', 'fun'}\n",
      "<class 'set'>\n"
     ]
    }
   ],
   "source": [
    "# you can pack individual elements to a set\n",
    "t1 = a, b, c, d, e  # By default they are packed into a tuple\n",
    "set2 = set(t1)      # So you have to type cast it to set\n",
    "print (set2)\n",
    "print(type(set2))"
   ]
  },
  {
   "cell_type": "markdown",
   "id": "52db2f93",
   "metadata": {},
   "source": [
    "## 3. Different ways to access elements of a Set\n",
    "- Since sets are unordered, i.e., items of a set have no associated index, therefore elements of a Set cannot be accessed by referring to an index\n",
    "- However, you can access individual set elements using a for loop\n",
    "- Ask if a specified value is present in a set, by using the `in` operator."
   ]
  },
  {
   "cell_type": "code",
   "execution_count": 144,
   "id": "10faff8d",
   "metadata": {},
   "outputs": [
    {
     "name": "stdout",
     "output_type": "stream",
     "text": [
      "myset:  {'is', 'with', 'me', 'learning', 'fun'}\n"
     ]
    }
   ],
   "source": [
    "# Set items cannot be accessed by referring to an index, since sets are unordered the items has no index. \n",
    "myset = set(['learning', 'is', 'fun', 'with', 'me'])\n",
    "myset = {'learning', 'is', 'fun', 'with', 'me'}\n",
    "print(\"myset: \", myset)"
   ]
  },
  {
   "cell_type": "code",
   "execution_count": 145,
   "id": "35d8ae87",
   "metadata": {},
   "outputs": [
    {
     "name": "stdout",
     "output_type": "stream",
     "text": [
      "is me with learning fun "
     ]
    }
   ],
   "source": [
    "# But you can loop through the set items using a for loop\n",
    "myset = set(['learning', 'is', 'fun', 'with', 'me'])\n",
    "for i in myset:\n",
    "    print(i, end=' ')"
   ]
  },
  {
   "cell_type": "code",
   "execution_count": 146,
   "id": "2895c901",
   "metadata": {},
   "outputs": [
    {
     "data": {
      "text/plain": [
       "True"
      ]
     },
     "execution_count": 146,
     "metadata": {},
     "output_type": "execute_result"
    }
   ],
   "source": [
    "# To check if a specific element is there in the set, use the in keyword\n",
    "rv = 'fun' in myset\n",
    "rv"
   ]
  },
  {
   "cell_type": "markdown",
   "id": "d4a25753",
   "metadata": {},
   "source": [
    "## 4. You cannot perform Slicing on Sets\n",
    "- Slicing is the process of obtaining a portion of a sequence by using its indices.\n",
    "- Since no indices are associated with Set elements, so they do not support slicing or indexing in `[ ]` operator"
   ]
  },
  {
   "cell_type": "markdown",
   "id": "ff9be4b8",
   "metadata": {},
   "source": [
    "## 5. You cannot perform Set Concatenation and Repetition\n",
    "- The concatenation operator `+` and replication operator `*` does not work on sets, as there is no index associated with set elements. So concatenation and repetition using `+` and `*` operator doesnot make any sense"
   ]
  },
  {
   "cell_type": "markdown",
   "id": "8b705e49",
   "metadata": {},
   "source": [
    "## 6. Adding elements to a Set\n",
    "- Sets are dynamic, as we write our Python program, we can actually make changes to our already created set, whithout having to go for compiling it again. \n",
    "- If we have to add certain elements to an already created set, the original set gorws dynamically without the need of compiling/running the program again (as in case of heap memory in C/C++)"
   ]
  },
  {
   "cell_type": "markdown",
   "id": "328541c4",
   "metadata": {},
   "source": [
    "### a. Cannot Modify/Add elements to a set using [ ] operator"
   ]
  },
  {
   "cell_type": "markdown",
   "id": "19722a9d",
   "metadata": {},
   "source": [
    "### b. Adding elements to a set using `set.add(value)` method\n",
    "- The `set.add(val)` method is used to add an element to a set\n",
    "- Only one element at a time can be added to the set by using `set.add()` method\n",
    "- Lists and sets cannot be added to a set as elements because they are mutable (hashable)\n",
    "- Tuples can be added because tuples are immutable and hence Hashable. "
   ]
  },
  {
   "cell_type": "code",
   "execution_count": 26,
   "id": "0095ea56",
   "metadata": {},
   "outputs": [
    {
     "data": {
      "text/plain": [
       "{25, 73}"
      ]
     },
     "execution_count": 26,
     "metadata": {},
     "output_type": "execute_result"
    }
   ],
   "source": [
    "#create an empty set\n",
    "set1 = set()\n",
    "set1.add(25)\n",
    "set1.add(73)\n",
    "set1"
   ]
  },
  {
   "cell_type": "code",
   "execution_count": 27,
   "id": "c02e1c94",
   "metadata": {},
   "outputs": [
    {
     "data": {
      "text/plain": [
       "{25, 73}"
      ]
     },
     "execution_count": 27,
     "metadata": {},
     "output_type": "execute_result"
    }
   ],
   "source": [
    "# Adding an existing element\n",
    "set1.add(25)\n",
    "set1"
   ]
  },
  {
   "cell_type": "code",
   "execution_count": 28,
   "id": "6d3324d5",
   "metadata": {},
   "outputs": [
    {
     "name": "stdout",
     "output_type": "stream",
     "text": [
      "Set after adding three elements:  {73, 25, (19, 25)}\n"
     ]
    }
   ],
   "source": [
    "# Adding a tuple\n",
    "set1.add((19,25))\n",
    "print(\"Set after adding three elements: \", set1)\n"
   ]
  },
  {
   "cell_type": "markdown",
   "id": "2092a612",
   "metadata": {},
   "source": [
    "### c. Adding elements to a set using `set.add(val)` or `set.update(val)` method\n",
    "- The `set.add(val)` method is used to add a single element to a set\n",
    "- The `set.update(val)` method is used to add two or more elements to a set\n",
    "- If the value already exist no change occur\n",
    "- Lists and sets cannot be added to a set as elements because they are not hashable \n",
    "- Tuples can be added because tuples are immutable and hence Hashable. "
   ]
  },
  {
   "cell_type": "code",
   "execution_count": 29,
   "id": "7e297173",
   "metadata": {},
   "outputs": [
    {
     "data": {
      "text/plain": [
       "{4, 9, 12, 99}"
      ]
     },
     "execution_count": 29,
     "metadata": {},
     "output_type": "execute_result"
    }
   ],
   "source": [
    "# add() method is used to add a single element, passed as a list\n",
    "set1 = set([4, 9, 12])\n",
    "set1.add(99)\n",
    "set1.add(4) # Note the duplicate element 4 will not be added twice\n",
    "set1"
   ]
  },
  {
   "cell_type": "code",
   "execution_count": 30,
   "id": "177ac013",
   "metadata": {},
   "outputs": [
    {
     "data": {
      "text/plain": [
       "{3.5, 4, 9, 12, 99}"
      ]
     },
     "execution_count": 30,
     "metadata": {},
     "output_type": "execute_result"
    }
   ],
   "source": [
    "# update() method is used to add one, two or more elements, passed as a list\n",
    "set1 = set([4, 9, 12])\n",
    "set1.update([99])\n",
    "set1.update([4, 3.5]) # Note the duplicate element 4 will not be added twice\n",
    "set1"
   ]
  },
  {
   "cell_type": "code",
   "execution_count": 31,
   "id": "c95c982a",
   "metadata": {},
   "outputs": [
    {
     "data": {
      "text/plain": [
       "{12, 4, 45, 9, 'arif', 'rauf'}"
      ]
     },
     "execution_count": 31,
     "metadata": {},
     "output_type": "execute_result"
    }
   ],
   "source": [
    "# update() method is used to add one two or more elements, passed as a list\n",
    "set3 = set([4, 9, 12])\n",
    "set3.update(['arif', 'rauf', 45])\n",
    "set3"
   ]
  },
  {
   "cell_type": "code",
   "execution_count": 32,
   "id": "8d49041d",
   "metadata": {},
   "outputs": [
    {
     "data": {
      "text/plain": [
       "{4, 9, 12}"
      ]
     },
     "execution_count": 32,
     "metadata": {},
     "output_type": "execute_result"
    }
   ],
   "source": [
    "# You cannot add a single numeric value being not iterable\n",
    "set2 = set([4, 9, 12])\n",
    "#set2.update(33)\n",
    "set2"
   ]
  },
  {
   "cell_type": "code",
   "execution_count": 33,
   "id": "abbe4153",
   "metadata": {},
   "outputs": [
    {
     "data": {
      "text/plain": [
       "{12, 4, 9, 'a', 'f', 'i', 'r'}"
      ]
     },
     "execution_count": 33,
     "metadata": {},
     "output_type": "execute_result"
    }
   ],
   "source": [
    "# See what happens when you add a string \n",
    "set2 = set([4, 9, 12])\n",
    "set2.update('arif')\n",
    "set2"
   ]
  },
  {
   "cell_type": "code",
   "execution_count": 34,
   "id": "3317061d",
   "metadata": {},
   "outputs": [
    {
     "data": {
      "text/plain": [
       "{(44, 33), (99, 88), 12, 4, 9}"
      ]
     },
     "execution_count": 34,
     "metadata": {},
     "output_type": "execute_result"
    }
   ],
   "source": [
    "# the update() method also accepts a list having one or more tuples as its argument\n",
    "set4 = set([4, 9, 12])\n",
    "set4.update([(99, 88), (44, 33)])\n",
    "set4"
   ]
  },
  {
   "cell_type": "markdown",
   "id": "5411c954",
   "metadata": {},
   "source": [
    "## 7. Removing elements from a set\n",
    "- Sets are dynamic, as we write our Python program, we can actually make changes to our already created sets, whithout having to go for compiling it again. \n",
    "- If we have to remove certain elements from an already created set, the original set shrinks dynamically without the need of compiling/running the program again (as in case of heap memory in C/C++)"
   ]
  },
  {
   "cell_type": "markdown",
   "id": "ccf00722",
   "metadata": {},
   "source": [
    "### a. Removing element from a set using `set.pop(index)` method\n",
    "- The `set.pop()` method removes and return an arbitrary set element"
   ]
  },
  {
   "cell_type": "code",
   "execution_count": 35,
   "id": "0b6580ed",
   "metadata": {},
   "outputs": [
    {
     "name": "stdout",
     "output_type": "stream",
     "text": [
      "Original set:  {'is', 'arif', 'with', 'learning', 'butt', 'fun'}\n",
      "Element popped is:  is\n",
      "Set now is:  {'arif', 'with', 'learning', 'butt', 'fun'}\n"
     ]
    }
   ],
   "source": [
    "s1 = {'learning', 'is', 'fun', 'with', 'arif', 'butt'}\n",
    "print(\"Original set: \", s1)\n",
    "\n",
    "x  = s1.pop()\n",
    "print(\"Element popped is: \", x)\n",
    "print(\"Set now is: \", s1)\n"
   ]
  },
  {
   "cell_type": "markdown",
   "id": "a3a28aa2",
   "metadata": {},
   "source": [
    "### b. Removing element from a set using `set.remove(val)` method\n",
    "- The `set.remove(val)` method is used to remove a specific element by value from a set without returning it\n",
    "- The remove method is passed exactly one argument, which is the value to be removed and returns none/void"
   ]
  },
  {
   "cell_type": "code",
   "execution_count": 36,
   "id": "a34eee11",
   "metadata": {},
   "outputs": [
    {
     "name": "stdout",
     "output_type": "stream",
     "text": [
      "\n",
      "Original set:  {'department', 'Science', 'to', 'Data', 'Welcome', 'of'}\n",
      "After remove('department'):  {'Science', 'to', 'Data', 'Welcome', 'of'}\n",
      "Return value of remove() is:  None\n"
     ]
    }
   ],
   "source": [
    "s2 = set(['Welcome', 'to', 'department', 'of', 'Data', 'Science'])\n",
    "print(\"\\nOriginal set: \", s2)\n",
    "x = s2.remove('department')\n",
    "print(\"After remove('department'): \", s2)\n",
    "print(\"Return value of remove() is: \", x)\n",
    "\n",
    "# If the element to be removed does not exist in the set remove() method will flag an error\n",
    "#y = s2.remove('arif')  # Error: Element doesn’t exist in the set. "
   ]
  },
  {
   "cell_type": "markdown",
   "id": "5d064490",
   "metadata": {},
   "source": [
    "### c. Removing element from a set using `set.discard(val)` method\n",
    "- The `set.discard(val)` like `set.remove(val)` method is used to remove a specific element by value from a set without returning it\n",
    "- The advantage of using `set.discard(val)` method is that, if the element doesn’t exist in the set, no error is raised and the set remains unchanged."
   ]
  },
  {
   "cell_type": "code",
   "execution_count": 37,
   "id": "0bc49bc5",
   "metadata": {},
   "outputs": [
    {
     "data": {
      "text/plain": [
       "{'Data', 'Science', 'Welcome', 'department', 'of', 'to'}"
      ]
     },
     "execution_count": 37,
     "metadata": {},
     "output_type": "execute_result"
    }
   ],
   "source": [
    "s2 = set(['Welcome', 'to', 'department', 'of', 'Data', 'Science'])\n",
    "y = s2.discard('arif')\n",
    "s2"
   ]
  },
  {
   "cell_type": "markdown",
   "id": "dbf4cedd",
   "metadata": {},
   "source": [
    "### d. Using `set.clear()` method to remove all the set elements"
   ]
  },
  {
   "cell_type": "code",
   "execution_count": 38,
   "id": "b9f529c4",
   "metadata": {},
   "outputs": [
    {
     "data": {
      "text/plain": [
       "{'Data', 'Science', 'Welcome', 'department', 'of', 'to'}"
      ]
     },
     "execution_count": 38,
     "metadata": {},
     "output_type": "execute_result"
    }
   ],
   "source": [
    "#use the clear() method to empty a set\n",
    "s2 = set(['Welcome', 'to', 'department', 'of', 'Data', 'Science'])\n",
    "s2"
   ]
  },
  {
   "cell_type": "code",
   "execution_count": 39,
   "id": "9eddb056",
   "metadata": {},
   "outputs": [
    {
     "data": {
      "text/plain": [
       "set()"
      ]
     },
     "execution_count": 39,
     "metadata": {},
     "output_type": "execute_result"
    }
   ],
   "source": [
    "s2.clear()\n",
    "s2"
   ]
  },
  {
   "cell_type": "markdown",
   "id": "4a21b566",
   "metadata": {},
   "source": [
    "### e. Using `del` Keyword to delete the set entirely from memory"
   ]
  },
  {
   "cell_type": "code",
   "execution_count": 40,
   "id": "2813966f",
   "metadata": {},
   "outputs": [
    {
     "data": {
      "text/plain": [
       "{'Data', 'Science', 'Welcome', 'department', 'of', 'to'}"
      ]
     },
     "execution_count": 40,
     "metadata": {},
     "output_type": "execute_result"
    }
   ],
   "source": [
    "# use del keyword to delete entire set, (you cannot delete a specific element as it is non-indexed)\n",
    "s2 = set(['Welcome', 'to', 'department', 'of', 'Data', 'Science'])\n",
    "s2"
   ]
  },
  {
   "cell_type": "code",
   "execution_count": 41,
   "id": "ff914a4f",
   "metadata": {},
   "outputs": [],
   "source": [
    "del s2\n",
    "#print(s2)"
   ]
  },
  {
   "cell_type": "markdown",
   "id": "9ba450b6",
   "metadata": {},
   "source": [
    "## 8. Converting string object to set and vice-versa (using type casting, split() and join())"
   ]
  },
  {
   "cell_type": "markdown",
   "id": "29ca1a7d",
   "metadata": {},
   "source": [
    "### a. Type Casting"
   ]
  },
  {
   "cell_type": "code",
   "execution_count": 42,
   "id": "d4e0b9f2",
   "metadata": {},
   "outputs": [
    {
     "name": "stdout",
     "output_type": "stream",
     "text": [
      "Original string:  Learning is fun\n",
      "s1:  {' ', 'g', 'r', 'e', 'i', 'u', 'L', 'f', 's', 'a', 'n'} and its type is:   <class 'set'>\n"
     ]
    }
   ],
   "source": [
    "# convert a string into set using set()\n",
    "str1 = 'Learning is fun'    #this is a string\n",
    "print(\"Original string: \", str1)\n",
    "\n",
    "s1 = set(str1)\n",
    "print(\"s1: \", s1, \"and its type is:  \", type(s1))"
   ]
  },
  {
   "cell_type": "markdown",
   "id": "e3de5ce9",
   "metadata": {},
   "source": [
    "### b. Use `str.split()` to Split a Tuple into Strings\n",
    "- Used to tokenize a string based on some delimiter, which can be stored in a Tuple\n",
    "- It returns a list having tokens of the string based on spaces if no argument is passed"
   ]
  },
  {
   "cell_type": "code",
   "execution_count": 43,
   "id": "586cbd7f",
   "metadata": {},
   "outputs": [
    {
     "name": "stdout",
     "output_type": "stream",
     "text": [
      "{'Learning', 'is', 'fun'}\n",
      "<class 'set'>\n"
     ]
    }
   ],
   "source": [
    "str1 = 'Learning is fun'    #this is a string\n",
    "set1 = set(str1.split(' '))\n",
    "print(set1)\n",
    "print(type(set1))"
   ]
  },
  {
   "cell_type": "code",
   "execution_count": 44,
   "id": "1217e4ae",
   "metadata": {},
   "outputs": [
    {
     "data": {
      "text/plain": [
       "{'Data S', 'e is GR8 Degree', 'ien'}"
      ]
     },
     "execution_count": 44,
     "metadata": {},
     "output_type": "execute_result"
    }
   ],
   "source": [
    "str2 = \"Data Science is GR8 Degree\"    #this is a string\n",
    "set2 = set(str2.split('c'))\n",
    "set2"
   ]
  },
  {
   "cell_type": "code",
   "execution_count": 45,
   "id": "2de2ee4c",
   "metadata": {},
   "outputs": [
    {
     "data": {
      "text/plain": [
       "{'This', 'and', 'getting', 'interesting', 'is', 'more'}"
      ]
     },
     "execution_count": 45,
     "metadata": {},
     "output_type": "execute_result"
    }
   ],
   "source": [
    "tuple1 = {'This', 'is', 'getting', 'more', 'and', 'more', 'interesting'}\n",
    "tuple1"
   ]
  },
  {
   "cell_type": "code",
   "execution_count": 46,
   "id": "c06041ed",
   "metadata": {},
   "outputs": [
    {
     "name": "stdout",
     "output_type": "stream",
     "text": [
      "getting more is interesting and This\n",
      "<class 'str'>\n"
     ]
    }
   ],
   "source": [
    "str2 = ' '.join(tuple1)\n",
    "print(str2)\n",
    "print(type(str2))"
   ]
  },
  {
   "cell_type": "code",
   "execution_count": 47,
   "id": "8f9cd588",
   "metadata": {},
   "outputs": [
    {
     "name": "stdout",
     "output_type": "stream",
     "text": [
      "getting # more # is # interesting # and # This\n",
      "<class 'str'>\n"
     ]
    }
   ],
   "source": [
    "delimiter = \" # \"\n",
    "str3 = delimiter.join(tuple1)\n",
    "print(str3)\n",
    "print(type(str3))"
   ]
  },
  {
   "cell_type": "markdown",
   "id": "d630d43c",
   "metadata": {},
   "source": [
    "## 9. Elements of a Set Cannot be Sorted\n",
    "- Given that sets are unordered, it is not possible to sort the values of a set. So you cannot call the built-in function `sorted()` or the `list.sort()` method on sets"
   ]
  },
  {
   "cell_type": "markdown",
   "id": "52de9fb7",
   "metadata": {},
   "source": [
    "## 10.  Misc Concepts"
   ]
  },
  {
   "cell_type": "markdown",
   "id": "34db0a41",
   "metadata": {},
   "source": [
    "**Like Lists and Tuples, you can apply `max()`, `min()`, and `sum()` functions on Sets with numeric elements**"
   ]
  },
  {
   "cell_type": "code",
   "execution_count": 48,
   "id": "c77deae1",
   "metadata": {},
   "outputs": [
    {
     "name": "stdout",
     "output_type": "stream",
     "text": [
      "length of set:  6\n",
      "max element in set:  8\n",
      "min element in list:  0\n",
      "Sum of element in list:  22\n"
     ]
    }
   ],
   "source": [
    "s1 = set([3, 8, 1, 6, 0, 8, 4])\n",
    "\n",
    "print(\"length of set: \", len(s1))\n",
    "print(\"max element in set: \", max(s1))\n",
    "print(\"min element in list: \",min(s1))\n",
    "print(\"Sum of element in list: \",sum(s1))\n"
   ]
  },
  {
   "cell_type": "markdown",
   "id": "0934bae8",
   "metadata": {},
   "source": [
    "**Like Lists and Tuples, you can apply `in` and `not in` membership operators on Sets**"
   ]
  },
  {
   "cell_type": "code",
   "execution_count": 49,
   "id": "4ee0176e",
   "metadata": {},
   "outputs": [
    {
     "name": "stdout",
     "output_type": "stream",
     "text": [
      "False\n",
      "True\n",
      "True\n"
     ]
    }
   ],
   "source": [
    "s1 = set([3, 8, 1, 6, 0, 8, 4])\n",
    "\n",
    "rv1 = 9 in s1\n",
    "print(rv1)\n",
    "\n",
    "rv2 = 9 not in s1\n",
    "print(rv2)\n",
    "\n",
    "\n",
    "s2 = set([\"XYZ\", \"ABC\", \"MNO\", \"ARIF\"])\n",
    "rv3 = \"ARIF\" in s2\n",
    "print(rv3)"
   ]
  },
  {
   "cell_type": "markdown",
   "id": "23f6c6da",
   "metadata": {},
   "source": [
    "**Comparing Objects and Values**"
   ]
  },
  {
   "cell_type": "code",
   "execution_count": 51,
   "id": "8c2b3820",
   "metadata": {},
   "outputs": [
    {
     "name": "stdout",
     "output_type": "stream",
     "text": [
      "140647158276144 140647158276144\n",
      "True\n",
      "True\n"
     ]
    }
   ],
   "source": [
    "#In case of strings, both variables str1 and str2 refers to the same memory location containing string object 'hello'\n",
    "str1 = 'hello'\n",
    "str2 = 'hello'\n",
    "print(id(str1), id(str2))\n",
    "\n",
    "print (str1 is str2)  # is operator is checking the memory address (ID) of two strings\n",
    "print (str1 == str2)  # == operator is checking the contents of two strings"
   ]
  },
  {
   "cell_type": "code",
   "execution_count": 52,
   "id": "a59a1d48",
   "metadata": {},
   "outputs": [
    {
     "name": "stdout",
     "output_type": "stream",
     "text": [
      "140647164422848 140647164457024\n",
      "False\n",
      "True\n"
     ]
    }
   ],
   "source": [
    "#In case of sets, both t1 and t2 refers to two different objects in the memory having same values\n",
    "s1 = set([1, 2, 3])\n",
    "s2 = set([1, 2, 3])\n",
    "print(id(s1), id(s2))\n",
    "\n",
    "print (s1 is s2)   # is operator is checking the memory address (ID) of two sets\n",
    "print (s1 == s2)   # == operator is checking the contents of two sets element by element"
   ]
  },
  {
   "cell_type": "markdown",
   "id": "f0b7d776",
   "metadata": {},
   "source": [
    "## 11. Special Operations  related to Sets"
   ]
  },
  {
   "cell_type": "markdown",
   "id": "3ddd26a2",
   "metadata": {},
   "source": [
    "### a. Union of sets\n",
    "- A `s1.union(s2)` method or `s1 | s2`, returns a new set containing all values that are in s1, or s2, or both"
   ]
  },
  {
   "cell_type": "code",
   "execution_count": 53,
   "id": "aade86c9",
   "metadata": {},
   "outputs": [
    {
     "name": "stdout",
     "output_type": "stream",
     "text": [
      "Help on built-in function union:\n",
      "\n",
      "union(...) method of builtins.set instance\n",
      "    Return the union of sets as a new set.\n",
      "    \n",
      "    (i.e. all elements that are in either set.)\n",
      "\n"
     ]
    }
   ],
   "source": [
    "s1 = set()\n",
    "s2 = set()\n",
    "#help(s1 | s2)\n",
    "help(s1.union)"
   ]
  },
  {
   "cell_type": "code",
   "execution_count": 54,
   "id": "998963d6",
   "metadata": {},
   "outputs": [
    {
     "name": "stdout",
     "output_type": "stream",
     "text": [
      "set1:  {'arif', 'rauf'}\n",
      "set2:  {'maaz', 'arif', 'hadeed'}\n",
      "set1 | set2:  {'maaz', 'hadeed', 'arif', 'rauf'}\n"
     ]
    }
   ],
   "source": [
    "set1 = {'arif', 'rauf'}\n",
    "set2 = {'maaz', 'hadeed', 'arif'}\n",
    "\n",
    "set3 = set1 | set2\n",
    "set3 = set1.union(set2)\n",
    "\n",
    "print(\"set1: \", set1)\n",
    "print(\"set2: \", set2)\n",
    "print(\"set1 | set2: \", set3)"
   ]
  },
  {
   "cell_type": "markdown",
   "id": "e01816f1",
   "metadata": {},
   "source": [
    "### b. Intersection of sets\n",
    "- A `s1.intersection(s2)` method or `s1 & s2`, returns a new set containing all values that are common in in s1 and s2"
   ]
  },
  {
   "cell_type": "code",
   "execution_count": 55,
   "id": "61abcadc",
   "metadata": {},
   "outputs": [
    {
     "name": "stdout",
     "output_type": "stream",
     "text": [
      "set1:  {'arif', 'rauf'}\n",
      "set2:  {'maaz', 'arif', 'hadeed'}\n",
      "set1 & set2:  {'arif'}\n"
     ]
    }
   ],
   "source": [
    "set1 = {'arif', 'rauf'}\n",
    "set2 = {'maaz', 'hadeed', 'arif'}\n",
    "\n",
    "set3 = set1 & set2\n",
    "set4 = set1.intersection(set2)\n",
    "\n",
    "print(\"set1: \", set1)\n",
    "print(\"set2: \", set2)\n",
    "print(\"set1 & set2: \", set4)"
   ]
  },
  {
   "cell_type": "markdown",
   "id": "e6b344ba",
   "metadata": {},
   "source": [
    "### c. Difference of sets\n",
    "- A `s1.difference(s2)` method or `s1 - s2`, returns a new set containing all values of s1 that are not there in s2"
   ]
  },
  {
   "cell_type": "code",
   "execution_count": 56,
   "id": "57de097b",
   "metadata": {},
   "outputs": [
    {
     "name": "stdout",
     "output_type": "stream",
     "text": [
      "set1:  {'arif', 'rauf'}\n",
      "set2:  {'maaz', 'arif', 'hadeed'}\n",
      "set1 - set2:  {'rauf'}\n"
     ]
    }
   ],
   "source": [
    "set1 = {'arif', 'rauf'}\n",
    "set2 = {'maaz', 'hadeed', 'arif'}\n",
    "\n",
    "set3 = set1 - set2\n",
    "set4 = set1.difference(set2)\n",
    "\n",
    "print(\"set1: \", set1)\n",
    "print(\"set2: \", set2)\n",
    "print(\"set1 - set2: \", set4)"
   ]
  },
  {
   "cell_type": "markdown",
   "id": "fdbfd861",
   "metadata": {},
   "source": [
    "### d. Symmetric Difference of sets\n",
    "- A `s1.symmetric_difference(s2)` method or `s1 ^ s2`, returns a new set containing all elements that are in exactly one of the sets, equivalent to `(s1 | s2)  - (s1 & s2)`"
   ]
  },
  {
   "cell_type": "code",
   "execution_count": 57,
   "id": "dd0e4af3",
   "metadata": {},
   "outputs": [
    {
     "name": "stdout",
     "output_type": "stream",
     "text": [
      "set1:  {'arif', 'rauf'}\n",
      "set2:  {'maaz', 'arif', 'hadeed'}\n",
      "set1 ^ set2:  {'maaz', 'hadeed', 'rauf'}\n"
     ]
    }
   ],
   "source": [
    "set1 = {'arif', 'rauf'}\n",
    "set2 = {'maaz', 'hadeed', 'arif'}\n",
    "\n",
    "set3 = set1 ^ set2\n",
    "set4 = set1.symmetric_difference(set2)\n",
    "\n",
    "print(\"set1: \", set1)\n",
    "print(\"set2: \", set2)\n",
    "print(\"set1 ^ set2: \", set4)"
   ]
  },
  {
   "cell_type": "markdown",
   "id": "2900986f",
   "metadata": {},
   "source": [
    "### e. Checking Subset\n",
    "- The `s1.issubset(s2)` method or `s1 <= s2`, returns True if s1 is a subset of s2"
   ]
  },
  {
   "cell_type": "code",
   "execution_count": 58,
   "id": "9bd68f0f",
   "metadata": {},
   "outputs": [
    {
     "name": "stdout",
     "output_type": "stream",
     "text": [
      "False\n",
      "False\n"
     ]
    }
   ],
   "source": [
    "s1 = {1,2,3,4,5,6,7}\n",
    "s2 = {1,2,3,4}\n",
    "\n",
    "print(s1.issubset(s2))     # is s2 a subset of s1\n",
    "print(s1 <= s2)            # is s2 a subset of s1"
   ]
  },
  {
   "cell_type": "markdown",
   "id": "718cbad0",
   "metadata": {},
   "source": [
    "### f. Checking Superset\n",
    "- The `s1.issuperset(s2)` method or `s1 >= s2`, returns True if s1 is a superset of s2"
   ]
  },
  {
   "cell_type": "code",
   "execution_count": 59,
   "id": "64ede34f",
   "metadata": {},
   "outputs": [
    {
     "name": "stdout",
     "output_type": "stream",
     "text": [
      "True\n",
      "True\n"
     ]
    }
   ],
   "source": [
    "s1 = {1,2,3,4,5,6,7}\n",
    "s2 = {1,2,3,4}\n",
    "\n",
    "print(s1.issuperset(s2)) # is s1 a superset of s2\n",
    "print(s1 >= s2)          # is s1 a superset of s2"
   ]
  },
  {
   "cell_type": "markdown",
   "id": "25cd43a5",
   "metadata": {},
   "source": [
    "### g. Checking Disjoint\n",
    "- The `s1.isdisjoint(s2)` method, returns True if two sets have a null intersection"
   ]
  },
  {
   "cell_type": "code",
   "execution_count": 60,
   "id": "f8a174cd",
   "metadata": {},
   "outputs": [
    {
     "name": "stdout",
     "output_type": "stream",
     "text": [
      "False\n",
      "True\n"
     ]
    }
   ],
   "source": [
    "s1 = {1,2,3,4,5,6,7}\n",
    "s2 = {1,2,3,4}\n",
    "print(s1.isdisjoint(s2))\n",
    "\n",
    "# Another example\n",
    "s3 = {1,2,3,4}\n",
    "s4 = {5,6,7,8}\n",
    "print(s3.isdisjoint(s4))\n",
    "\n"
   ]
  },
  {
   "cell_type": "markdown",
   "id": "e4b2dbaf",
   "metadata": {},
   "source": [
    "## Motivation to use Dictionary"
   ]
  },
  {
   "cell_type": "code",
   "execution_count": 61,
   "id": "cbac5174",
   "metadata": {},
   "outputs": [],
   "source": [
    "students = ['rauf', 'arif', 'maaz', 'hadeed', 'mujahid']\n",
    "marks = [81, 52, 70, 74, 78]"
   ]
  },
  {
   "cell_type": "code",
   "execution_count": 62,
   "id": "bd07512c",
   "metadata": {},
   "outputs": [],
   "source": [
    "def get_marks(name):\n",
    "    i = students.index(name)\n",
    "    return marks[i]"
   ]
  },
  {
   "cell_type": "code",
   "execution_count": 63,
   "id": "03c81d8c",
   "metadata": {},
   "outputs": [
    {
     "data": {
      "text/plain": [
       "74"
      ]
     },
     "execution_count": 63,
     "metadata": {},
     "output_type": "execute_result"
    }
   ],
   "source": [
    "get_marks('hadeed')"
   ]
  },
  {
   "cell_type": "code",
   "execution_count": 64,
   "id": "dd76e14a",
   "metadata": {},
   "outputs": [
    {
     "data": {
      "text/plain": [
       "70"
      ]
     },
     "execution_count": 64,
     "metadata": {},
     "output_type": "execute_result"
    }
   ],
   "source": [
    "get_marks('maaz')"
   ]
  },
  {
   "cell_type": "markdown",
   "id": "8c20df9d",
   "metadata": {},
   "source": [
    "## 1. How to create Dictionaries?\n",
    "- A Dictionary object  is created by placing comma separated `key:value` pairs in curly braces.\n",
    "- The keys of a dictionary has to be unique and can be of heterogeneous immutable types only (int, string or tuple).\n",
    "- The values can be duplicated and can be of heterogeneous types (mutable + immutable)."
   ]
  },
  {
   "cell_type": "code",
   "execution_count": 65,
   "id": "e572e625",
   "metadata": {},
   "outputs": [
    {
     "name": "stdout",
     "output_type": "stream",
     "text": [
      "{'arif': 51, 'rauf': 52, 'hadeed': 22}\n",
      "<class 'dict'>\n",
      "140647164333568\n"
     ]
    }
   ],
   "source": [
    "# A dictionary with string keys, and integer values, showing age of person\n",
    "dict1 = {\n",
    "    'arif':51, \n",
    "    'rauf':52, \n",
    "    'hadeed':22\n",
    "}\n",
    "print(dict1)\n",
    "print(type(dict1))\n",
    "print(id(dict1))"
   ]
  },
  {
   "cell_type": "code",
   "execution_count": 66,
   "id": "3f90273c",
   "metadata": {},
   "outputs": [
    {
     "data": {
      "text/plain": [
       "{2580: 'var1', 2582: 'var2', 2586: 'var3'}"
      ]
     },
     "execution_count": 66,
     "metadata": {},
     "output_type": "execute_result"
    }
   ],
   "source": [
    "# A dictionary with integer keys, and string values, showing a symbol table generated by compiler\n",
    "dict2 = {\n",
    "    2580:'var1', \n",
    "    2582:'var2', \n",
    "    2586:'var3'\n",
    "}\n",
    "dict2"
   ]
  },
  {
   "cell_type": "code",
   "execution_count": 67,
   "id": "607b66dc",
   "metadata": {},
   "outputs": [
    {
     "data": {
      "text/plain": [
       "{'name': 'kakamanna', 1: 10, 'abc': 25, 33: 'xyz'}"
      ]
     },
     "execution_count": 67,
     "metadata": {},
     "output_type": "execute_result"
    }
   ],
   "source": [
    "# dictionary with mixed keys (immutable types only)\n",
    "dict3 = {\n",
    "    'name': 'kakamanna', \n",
    "    1: 10,\n",
    "    'abc':25,\n",
    "    33: 'xyz'\n",
    "}\n",
    "dict3"
   ]
  },
  {
   "cell_type": "code",
   "execution_count": 68,
   "id": "8ffa8c32",
   "metadata": {},
   "outputs": [
    {
     "data": {
      "text/plain": [
       "{1: 'hello', 2: 'bye'}"
      ]
     },
     "execution_count": 68,
     "metadata": {},
     "output_type": "execute_result"
    }
   ],
   "source": [
    "# creating dictionary using dict() method\n",
    "dict4 = dict({1: 'hello', 2: 'bye'})\n",
    "dict4"
   ]
  },
  {
   "cell_type": "code",
   "execution_count": 69,
   "id": "5fb12218",
   "metadata": {},
   "outputs": [
    {
     "data": {
      "text/plain": [
       "{}"
      ]
     },
     "execution_count": 69,
     "metadata": {},
     "output_type": "execute_result"
    }
   ],
   "source": [
    "# Creating an empty dictionary\n",
    "dict5 = dict()\n",
    "dict5"
   ]
  },
  {
   "cell_type": "code",
   "execution_count": 70,
   "id": "ee5bce17",
   "metadata": {},
   "outputs": [
    {
     "data": {
      "text/plain": [
       "{}"
      ]
     },
     "execution_count": 70,
     "metadata": {},
     "output_type": "execute_result"
    }
   ],
   "source": [
    "# other way to create empty dictionary\n",
    "dict6 = {}\n",
    "dict6"
   ]
  },
  {
   "cell_type": "code",
   "execution_count": 71,
   "id": "407c34e8",
   "metadata": {},
   "outputs": [
    {
     "data": {
      "text/plain": [
       "{'name': 'arif', 'age': 51, 'city': 'Lahore'}"
      ]
     },
     "execution_count": 71,
     "metadata": {},
     "output_type": "execute_result"
    }
   ],
   "source": [
    "# A list of two object tuples can also be used to create dictionaries\n",
    "dict7 = dict([('name', 'arif'), ('age',51), ('city', 'Lahore')])\n",
    "dict7"
   ]
  },
  {
   "cell_type": "markdown",
   "id": "61f22a2e",
   "metadata": {},
   "source": [
    "## 2. Proof of concepts"
   ]
  },
  {
   "cell_type": "markdown",
   "id": "080a2771",
   "metadata": {},
   "source": [
    "### a. Dictionary allows Duplicate Values"
   ]
  },
  {
   "cell_type": "code",
   "execution_count": 72,
   "id": "38898638",
   "metadata": {},
   "outputs": [
    {
     "data": {
      "text/plain": [
       "{'name1': 'kakamanna', 'name2': 'kakamanna'}"
      ]
     },
     "execution_count": 72,
     "metadata": {},
     "output_type": "execute_result"
    }
   ],
   "source": [
    "# Duplicate values are allowed\n",
    "d1 = {'name1' : 'kakamanna',\n",
    "     'name2' : 'kakamanna'\n",
    "     }\n",
    "d1"
   ]
  },
  {
   "cell_type": "markdown",
   "id": "86d6af9c",
   "metadata": {},
   "source": [
    "### b. Dictionary DOESNOT allows Duplicate Keys"
   ]
  },
  {
   "cell_type": "code",
   "execution_count": 73,
   "id": "147b4194",
   "metadata": {},
   "outputs": [
    {
     "data": {
      "text/plain": [
       "{'name': 'arif'}"
      ]
     },
     "execution_count": 73,
     "metadata": {},
     "output_type": "execute_result"
    }
   ],
   "source": [
    "# Duplicate keys are not allowed\n",
    "# This will not raise an error, but will overwrite the value corresponding to the key\n",
    "d1 = {'name' : 'kakamanna',\n",
    "     'name' : 'arif'\n",
    "     }\n",
    "d1"
   ]
  },
  {
   "cell_type": "markdown",
   "id": "9e5591d5",
   "metadata": {},
   "source": [
    "### c. Keys inside Dictionaries Must be of Immutable data types\n",
    "- The keys of a dictionary has to be of immutable data type (number, string, tuple)"
   ]
  },
  {
   "cell_type": "code",
   "execution_count": 74,
   "id": "7efc072f",
   "metadata": {},
   "outputs": [
    {
     "data": {
      "text/plain": [
       "{'kakamanna': 'name', (60, 78, 83): 'marks'}"
      ]
     },
     "execution_count": 74,
     "metadata": {},
     "output_type": "execute_result"
    }
   ],
   "source": [
    "# Tuple being immutable can be used as a key\n",
    "d1 = {'kakamanna':'name', \n",
    "      (60, 78, 83): 'marks' \n",
    "     }\n",
    "d1"
   ]
  },
  {
   "cell_type": "code",
   "execution_count": 75,
   "id": "3af05b16",
   "metadata": {},
   "outputs": [
    {
     "ename": "TypeError",
     "evalue": "unhashable type: 'list'",
     "output_type": "error",
     "traceback": [
      "\u001b[0;31m---------------------------------------------------------------------------\u001b[0m",
      "\u001b[0;31mTypeError\u001b[0m                                 Traceback (most recent call last)",
      "\u001b[0;32m/var/folders/m_/dkp183594w5d5gh0rl8770hh0000gq/T/ipykernel_32173/357288203.py\u001b[0m in \u001b[0;36m<module>\u001b[0;34m\u001b[0m\n\u001b[1;32m      1\u001b[0m \u001b[0;31m# List being mutable cannot be used as a key\u001b[0m\u001b[0;34m\u001b[0m\u001b[0;34m\u001b[0m\u001b[0m\n\u001b[0;32m----> 2\u001b[0;31m d1 = {'kakamanna':'name', \n\u001b[0m\u001b[1;32m      3\u001b[0m       \u001b[0;34m[\u001b[0m\u001b[0;36m60\u001b[0m\u001b[0;34m,\u001b[0m \u001b[0;36m78\u001b[0m\u001b[0;34m,\u001b[0m \u001b[0;36m83\u001b[0m\u001b[0;34m]\u001b[0m\u001b[0;34m:\u001b[0m\u001b[0;34m'marks'\u001b[0m\u001b[0;34m\u001b[0m\u001b[0;34m\u001b[0m\u001b[0m\n\u001b[1;32m      4\u001b[0m      }\n\u001b[1;32m      5\u001b[0m \u001b[0md1\u001b[0m\u001b[0;34m\u001b[0m\u001b[0;34m\u001b[0m\u001b[0m\n",
      "\u001b[0;31mTypeError\u001b[0m: unhashable type: 'list'"
     ]
    }
   ],
   "source": [
    "# List being mutable cannot be used as a key\n",
    "d1 = {'kakamanna':'name', \n",
    "      [60, 78, 83]:'marks' \n",
    "     }\n",
    "d1"
   ]
  },
  {
   "cell_type": "markdown",
   "id": "9703d3be",
   "metadata": {},
   "source": [
    "### d. Values inside Dictionaies can be of mutable/immutable data type"
   ]
  },
  {
   "cell_type": "code",
   "execution_count": 76,
   "id": "cb719475",
   "metadata": {},
   "outputs": [
    {
     "data": {
      "text/plain": [
       "{'nam': 'kakamanna', 'marks': [60, 78, 83]}"
      ]
     },
     "execution_count": 76,
     "metadata": {},
     "output_type": "execute_result"
    }
   ],
   "source": [
    "# List being mutable can be used as a value\n",
    "d1 = {'nam':'kakamanna', \n",
    "      'marks':[60,78,83] \n",
    "     }\n",
    "d1"
   ]
  },
  {
   "cell_type": "code",
   "execution_count": 77,
   "id": "c7c84eaf",
   "metadata": {},
   "outputs": [
    {
     "data": {
      "text/plain": [
       "{'nam': 'kakamanna', 'marks': (60, 78, 83)}"
      ]
     },
     "execution_count": 77,
     "metadata": {},
     "output_type": "execute_result"
    }
   ],
   "source": [
    "# Tuple being immutable can also be used as a value\n",
    "d1 = {'nam':'kakamanna', \n",
    "      'marks': (60,78,83) \n",
    "     }\n",
    "d1"
   ]
  },
  {
   "cell_type": "markdown",
   "id": "ad64c057",
   "metadata": {},
   "source": [
    "### e. Dictionaries are heterogeneous\n",
    "- The keys of a dictionary can be of integer, string, or tuple type\n",
    "- The values of a dictionary can be of any data type"
   ]
  },
  {
   "cell_type": "code",
   "execution_count": 78,
   "id": "3f0a53a6",
   "metadata": {},
   "outputs": [
    {
     "data": {
      "text/plain": [
       "{'name': 'kakamanna', 1: 10, 'abc': 25, 33: 'xyz'}"
      ]
     },
     "execution_count": 78,
     "metadata": {},
     "output_type": "execute_result"
    }
   ],
   "source": [
    "dict3 = {\n",
    "    'name': 'kakamanna', \n",
    "    1: 10,\n",
    "    'abc':25,\n",
    "    33: 'xyz'\n",
    "}\n",
    "dict3"
   ]
  },
  {
   "cell_type": "markdown",
   "id": "639a23a2",
   "metadata": {},
   "source": [
    "### f. Dictionaries can be nested to arbitrary depth"
   ]
  },
  {
   "cell_type": "code",
   "execution_count": 79,
   "id": "cd0171b6",
   "metadata": {},
   "outputs": [
    {
     "data": {
      "text/plain": [
       "{'name': 'arif',\n",
       " 'occupation': 'teaching',\n",
       " 'address': {'house#': 131, 'area': 'model town', 'city': 'lahore'},\n",
       " 'phone': '03214456454'}"
      ]
     },
     "execution_count": 79,
     "metadata": {},
     "output_type": "execute_result"
    }
   ],
   "source": [
    "# Creating a Nested Dictionary\n",
    "dict7 = {'name':'arif', \n",
    "         'occupation':'teaching',\n",
    "        'address':{'house#' : 131, 'area' : 'model town', 'city' : 'lahore'},\n",
    "         'phone': '03214456454'\n",
    "        }\n",
    " \n",
    "dict7"
   ]
  },
  {
   "cell_type": "markdown",
   "id": "9c7e316c",
   "metadata": {},
   "source": [
    "### g. Dictionaries from Python 3.7 onward are ordered\n",
    "- From Python 3.7 onwards, dictionaries are guranteed to be in insertion ordered. i.e., every time you access dictionary elements they will show up in same sequence. \n",
    "- However, like string, list, and tuple, the elements of a dictionary are not associated by an index\n",
    "- Moreover, two dictionaries having same key-value pairs are two different objects"
   ]
  },
  {
   "cell_type": "code",
   "execution_count": 80,
   "id": "f2f44872",
   "metadata": {},
   "outputs": [
    {
     "data": {
      "text/plain": [
       "(140647164308992, 140647164201088, 140647164316096)"
      ]
     },
     "execution_count": 80,
     "metadata": {},
     "output_type": "execute_result"
    }
   ],
   "source": [
    "d1 = {\n",
    "    'arif':51, \n",
    "    'rauf':52, \n",
    "    'hadeed':20\n",
    "}\n",
    "d1\n",
    "d2 = {\n",
    "    'arif':51, \n",
    "    'rauf':52, \n",
    "    'hadeed':20\n",
    "}\n",
    "d2\n",
    "d3 = {\n",
    "    'rauf':52, \n",
    "    'hadeed':20,\n",
    "    'arif':51\n",
    "}\n",
    "id(d1), id(d2), id(d3)"
   ]
  },
  {
   "cell_type": "markdown",
   "id": "d32f506f",
   "metadata": {},
   "source": [
    "## 3. Accessing Elements of a Dictionary"
   ]
  },
  {
   "cell_type": "markdown",
   "id": "949a5c62",
   "metadata": {},
   "source": [
    "### a. Retrieving a `value`of a Dictionary given a `key`\n",
    "- Given a key, you can retrieve corresponding value from a dictionary using two ways:\n",
    "    - Use key inside `[]` operator\n",
    "    - Pass the key as argument to `dict.get(key)` method"
   ]
  },
  {
   "cell_type": "code",
   "execution_count": 81,
   "id": "3b0e8ee6",
   "metadata": {},
   "outputs": [],
   "source": [
    "d1 = {\n",
    "    'name':'kakamanna', \n",
    "    'age':22, \n",
    "    'address':'Johar Town', \n",
    "    'marks':[60, 75, 80]\n",
    "}"
   ]
  },
  {
   "cell_type": "code",
   "execution_count": 82,
   "id": "9df1f127",
   "metadata": {},
   "outputs": [
    {
     "data": {
      "text/plain": [
       "'Johar Town'"
      ]
     },
     "execution_count": 82,
     "metadata": {},
     "output_type": "execute_result"
    }
   ],
   "source": [
    "d1['address']"
   ]
  },
  {
   "cell_type": "code",
   "execution_count": 83,
   "id": "558c412d",
   "metadata": {},
   "outputs": [
    {
     "data": {
      "text/plain": [
       "[60, 75, 80]"
      ]
     },
     "execution_count": 83,
     "metadata": {},
     "output_type": "execute_result"
    }
   ],
   "source": [
    "d1.get('marks')"
   ]
  },
  {
   "cell_type": "markdown",
   "id": "29f2a6f3",
   "metadata": {},
   "source": [
    "**To retrieve a value from a nested dictionary**"
   ]
  },
  {
   "cell_type": "code",
   "execution_count": 84,
   "id": "b5671dd0",
   "metadata": {},
   "outputs": [
    {
     "data": {
      "text/plain": [
       "{'name': 'arif',\n",
       " 'occupation': 'teaching',\n",
       " 'address': {'house#': 131, 'area': 'model town', 'city': 'lahore'}}"
      ]
     },
     "execution_count": 84,
     "metadata": {},
     "output_type": "execute_result"
    }
   ],
   "source": [
    "d2 = {'name':'arif', \n",
    "      'occupation':'teaching',\n",
    "      'address':{'house#' : 131, \n",
    "                 'area' : 'model town', \n",
    "                 'city' : 'lahore'\n",
    "                }\n",
    "        }\n",
    "d2"
   ]
  },
  {
   "cell_type": "code",
   "execution_count": 85,
   "id": "016b7c48",
   "metadata": {},
   "outputs": [
    {
     "data": {
      "text/plain": [
       "{'house#': 131, 'area': 'model town', 'city': 'lahore'}"
      ]
     },
     "execution_count": 85,
     "metadata": {},
     "output_type": "execute_result"
    }
   ],
   "source": [
    "d2['address']"
   ]
  },
  {
   "cell_type": "code",
   "execution_count": 86,
   "id": "888e3e9a",
   "metadata": {},
   "outputs": [
    {
     "data": {
      "text/plain": [
       "'lahore'"
      ]
     },
     "execution_count": 86,
     "metadata": {},
     "output_type": "execute_result"
    }
   ],
   "source": [
    "d2['address']['city']"
   ]
  },
  {
   "cell_type": "code",
   "execution_count": 87,
   "id": "c8dd8d28",
   "metadata": {},
   "outputs": [
    {
     "data": {
      "text/plain": [
       "{'house#': 131, 'area': 'model town', 'city': 'lahore'}"
      ]
     },
     "execution_count": 87,
     "metadata": {},
     "output_type": "execute_result"
    }
   ],
   "source": [
    "d2.get('address')"
   ]
  },
  {
   "cell_type": "code",
   "execution_count": 88,
   "id": "e61e060a",
   "metadata": {},
   "outputs": [
    {
     "data": {
      "text/plain": [
       "'lahore'"
      ]
     },
     "execution_count": 88,
     "metadata": {},
     "output_type": "execute_result"
    }
   ],
   "source": [
    "d2.get('address').get('city')"
   ]
  },
  {
   "cell_type": "markdown",
   "id": "50c62ac6",
   "metadata": {},
   "source": [
    "### c. Retrieving all `key:value` pairs from a Dictionary using `dict.items()`  method\n",
    "- The `dict.items()` method returns all the key-value pairs of a dictionary as a two object tuple"
   ]
  },
  {
   "cell_type": "code",
   "execution_count": 89,
   "id": "5e3e86ec",
   "metadata": {},
   "outputs": [],
   "source": [
    "d1 = {\n",
    "    'name':'kakamanna', \n",
    "    'age':22, \n",
    "    'address':'Johar Town', \n",
    "    'marks':[60, 75, 80]\n",
    "}"
   ]
  },
  {
   "cell_type": "code",
   "execution_count": 90,
   "id": "ce0a533f",
   "metadata": {},
   "outputs": [
    {
     "data": {
      "text/plain": [
       "dict_items([('name', 'kakamanna'), ('age', 22), ('address', 'Johar Town'), ('marks', [60, 75, 80])])"
      ]
     },
     "execution_count": 90,
     "metadata": {},
     "output_type": "execute_result"
    }
   ],
   "source": [
    "l1 = d1.items()\n",
    "l1"
   ]
  },
  {
   "cell_type": "markdown",
   "id": "c18cde7c",
   "metadata": {},
   "source": [
    "### d. Retrieving all `keys` of a Dictionary using `dict.keys()`  method\n",
    "- The `dict.keys()` method returns all the keys  of a dictionary object"
   ]
  },
  {
   "cell_type": "code",
   "execution_count": 91,
   "id": "43b5531f",
   "metadata": {},
   "outputs": [],
   "source": [
    "d1 = {\n",
    "    'name':'kakamanna', \n",
    "    'age':22, \n",
    "    'address':'Johar Town', \n",
    "    'marks':[60, 75, 80]\n",
    "}"
   ]
  },
  {
   "cell_type": "code",
   "execution_count": 92,
   "id": "9f4dc331",
   "metadata": {},
   "outputs": [
    {
     "data": {
      "text/plain": [
       "dict_keys(['name', 'age', 'address', 'marks'])"
      ]
     },
     "execution_count": 92,
     "metadata": {},
     "output_type": "execute_result"
    }
   ],
   "source": [
    "d1.keys()"
   ]
  },
  {
   "cell_type": "markdown",
   "id": "9a505dc5",
   "metadata": {},
   "source": [
    "### e. Retrieving all `values` from a Dictionary using `dict.values()`  method\n",
    "- The `dict.values()` method returns all the values  of a dict object\n",
    "- If a value occurs multiple times in the dictionary, it will appear that many times"
   ]
  },
  {
   "cell_type": "code",
   "execution_count": 93,
   "id": "baa7c2c3",
   "metadata": {},
   "outputs": [],
   "source": [
    "d1 = {\n",
    "    'name':'kakamanna', \n",
    "    'age':22, \n",
    "    'address':'Johar Town', \n",
    "    'marks':[60, 75, 80]\n",
    "}"
   ]
  },
  {
   "cell_type": "code",
   "execution_count": 94,
   "id": "32dafc1c",
   "metadata": {},
   "outputs": [
    {
     "data": {
      "text/plain": [
       "dict_values(['kakamanna', 22, 'Johar Town', [60, 75, 80]])"
      ]
     },
     "execution_count": 94,
     "metadata": {},
     "output_type": "execute_result"
    }
   ],
   "source": [
    "d1.values()"
   ]
  },
  {
   "cell_type": "markdown",
   "id": "62021371",
   "metadata": {},
   "source": [
    "## 4. Adding/Modifying Elements of a Dictionary"
   ]
  },
  {
   "cell_type": "markdown",
   "id": "5289ff34",
   "metadata": {},
   "source": [
    "### a. Adding/Modifying Elements using `[]` Operator\n",
    "- You can  modify value associated with a key using `[]` operator and assignment statement\n",
    "```\n",
    "dict[key] = value\n",
    "```\n",
    "- If the key donot already exist, a new key:value is inserted in the dictionary"
   ]
  },
  {
   "cell_type": "code",
   "execution_count": 95,
   "id": "fe0f087e",
   "metadata": {},
   "outputs": [
    {
     "data": {
      "text/plain": [
       "{'name': 'kakamanna',\n",
       " 'age': 22,\n",
       " 'address': 'Johar Town',\n",
       " 'marks': [60, 75, 80]}"
      ]
     },
     "execution_count": 95,
     "metadata": {},
     "output_type": "execute_result"
    }
   ],
   "source": [
    "# Create a simple dictionary\n",
    "d1 = {\n",
    "    'name':'kakamanna', \n",
    "    'age':22, \n",
    "    'address':'Johar Town', \n",
    "    'marks':[60, 75, 80]\n",
    "}\n",
    "d1"
   ]
  },
  {
   "cell_type": "code",
   "execution_count": 96,
   "id": "9844d6dd",
   "metadata": {},
   "outputs": [
    {
     "data": {
      "text/plain": [
       "{'name': 'kakamanna',\n",
       " 'age': 22,\n",
       " 'address': 'Model Town',\n",
       " 'marks': [60, 75, 80]}"
      ]
     },
     "execution_count": 96,
     "metadata": {},
     "output_type": "execute_result"
    }
   ],
   "source": [
    "# Modify value corresponding to an existing key\n",
    "d1['address'] = 'Model Town'\n",
    "d1"
   ]
  },
  {
   "cell_type": "code",
   "execution_count": 97,
   "id": "bee3f29e",
   "metadata": {},
   "outputs": [
    {
     "data": {
      "text/plain": [
       "{'name': 'kakamanna',\n",
       " 'age': 22,\n",
       " 'address': 'Model Town',\n",
       " 'marks': [60, 75, 80],\n",
       " 'key1': 'value1'}"
      ]
     },
     "execution_count": 97,
     "metadata": {},
     "output_type": "execute_result"
    }
   ],
   "source": [
    "# Adding a new key:value pair\n",
    "d1['key1'] = 'value1'\n",
    "d1"
   ]
  },
  {
   "cell_type": "markdown",
   "id": "49e3395b",
   "metadata": {},
   "source": [
    "### b. Modifying Elements using `d1.update()` method \n",
    "- The `d1.update()` method is used to update the value corresponding to an existing key inside the dictionary\n",
    "```\n",
    "dict.update(key:value)\n",
    "```\n",
    "- If the key donot already exist, a new key:value is inserted in the dictionary"
   ]
  },
  {
   "cell_type": "code",
   "execution_count": 98,
   "id": "dac65953",
   "metadata": {},
   "outputs": [
    {
     "data": {
      "text/plain": [
       "{'name': 'kakamanna',\n",
       " 'age': 22,\n",
       " 'address': 'Johar Town',\n",
       " 'marks': [60, 75, 80]}"
      ]
     },
     "execution_count": 98,
     "metadata": {},
     "output_type": "execute_result"
    }
   ],
   "source": [
    "# Create a simple dictionary\n",
    "d1 = {\n",
    "    'name':'kakamanna', \n",
    "    'age':22, \n",
    "    'address':'Johar Town', \n",
    "    'marks':[60, 75, 80]\n",
    "}\n",
    "d1"
   ]
  },
  {
   "cell_type": "code",
   "execution_count": 99,
   "id": "d34ea2b2",
   "metadata": {},
   "outputs": [
    {
     "data": {
      "text/plain": [
       "{'name': 'Arif Butt',\n",
       " 'age': 22,\n",
       " 'address': 'Johar Town',\n",
       " 'marks': [60, 75, 80]}"
      ]
     },
     "execution_count": 99,
     "metadata": {},
     "output_type": "execute_result"
    }
   ],
   "source": [
    "# Modify value corresponding to an existing key\n",
    "d1.update({'name':'Arif Butt'})\n",
    "d1"
   ]
  },
  {
   "cell_type": "code",
   "execution_count": 100,
   "id": "3a139c1e",
   "metadata": {},
   "outputs": [
    {
     "data": {
      "text/plain": [
       "{'name': 'Arif Butt',\n",
       " 'age': 22,\n",
       " 'address': 'Johar Town',\n",
       " 'marks': [60, 75, 80],\n",
       " 'key2': 'value2'}"
      ]
     },
     "execution_count": 100,
     "metadata": {},
     "output_type": "execute_result"
    }
   ],
   "source": [
    "# Adding a new key:value pair\n",
    "d1.update({'key2':'value2'})\n",
    "d1"
   ]
  },
  {
   "cell_type": "markdown",
   "id": "6659a652",
   "metadata": {},
   "source": [
    "**You can use the `dict.update()` method to merge two dictionaries**"
   ]
  },
  {
   "cell_type": "code",
   "execution_count": 101,
   "id": "8d525a71",
   "metadata": {},
   "outputs": [],
   "source": [
    "d1 = {\n",
    "    'name':'kakamanna', \n",
    "    'age':22, \n",
    "}\n",
    "\n",
    "d2 = {\n",
    "    'address':'Johar Town', \n",
    "    'marks':[60, 75, 80]\n",
    "}"
   ]
  },
  {
   "cell_type": "code",
   "execution_count": 102,
   "id": "cedda4bf",
   "metadata": {},
   "outputs": [
    {
     "data": {
      "text/plain": [
       "{'name': 'kakamanna',\n",
       " 'age': 22,\n",
       " 'address': 'Johar Town',\n",
       " 'marks': [60, 75, 80]}"
      ]
     },
     "execution_count": 102,
     "metadata": {},
     "output_type": "execute_result"
    }
   ],
   "source": [
    "d1.update(d2)\n",
    "d1"
   ]
  },
  {
   "cell_type": "markdown",
   "id": "ac9bf698",
   "metadata": {},
   "source": [
    "## 5. Removing Elements from a Dictionary"
   ]
  },
  {
   "cell_type": "markdown",
   "id": "592eb8ef",
   "metadata": {},
   "source": [
    "### a. Removing Element using `[]` operator\n",
    "- To delete a dictionary element use the `del d1[key]` \n",
    "- To delete an entire dictionary from memory use `del d1` "
   ]
  },
  {
   "cell_type": "code",
   "execution_count": 104,
   "id": "2bac7f43",
   "metadata": {},
   "outputs": [
    {
     "data": {
      "text/plain": [
       "{'name': 'kakamanna',\n",
       " 'age': 22,\n",
       " 'address': 'Johar Town',\n",
       " 'marks': [60, 75, 80]}"
      ]
     },
     "execution_count": 104,
     "metadata": {},
     "output_type": "execute_result"
    }
   ],
   "source": [
    "d1 = {\n",
    "    'name':'kakamanna', \n",
    "    'age':22, \n",
    "    'address':'Johar Town', \n",
    "    'marks':[60, 75, 80]\n",
    "}\n",
    "d1"
   ]
  },
  {
   "cell_type": "code",
   "execution_count": 105,
   "id": "8f12fd20",
   "metadata": {},
   "outputs": [
    {
     "data": {
      "text/plain": [
       "{'name': 'kakamanna', 'address': 'Johar Town', 'marks': [60, 75, 80]}"
      ]
     },
     "execution_count": 105,
     "metadata": {},
     "output_type": "execute_result"
    }
   ],
   "source": [
    "del d1['age']\n",
    "d1"
   ]
  },
  {
   "cell_type": "code",
   "execution_count": 106,
   "id": "4da7318e",
   "metadata": {},
   "outputs": [
    {
     "ename": "NameError",
     "evalue": "name 'd1' is not defined",
     "output_type": "error",
     "traceback": [
      "\u001b[0;31m---------------------------------------------------------------------------\u001b[0m",
      "\u001b[0;31mNameError\u001b[0m                                 Traceback (most recent call last)",
      "\u001b[0;32m/var/folders/m_/dkp183594w5d5gh0rl8770hh0000gq/T/ipykernel_32173/1687696692.py\u001b[0m in \u001b[0;36m<module>\u001b[0;34m\u001b[0m\n\u001b[1;32m      1\u001b[0m \u001b[0;31m#this will delete the whole directory\u001b[0m\u001b[0;34m\u001b[0m\u001b[0;34m\u001b[0m\u001b[0m\n\u001b[1;32m      2\u001b[0m \u001b[0;32mdel\u001b[0m \u001b[0md1\u001b[0m\u001b[0;34m\u001b[0m\u001b[0;34m\u001b[0m\u001b[0m\n\u001b[0;32m----> 3\u001b[0;31m \u001b[0mprint\u001b[0m\u001b[0;34m(\u001b[0m\u001b[0md1\u001b[0m\u001b[0;34m)\u001b[0m  \u001b[0;31m# will generate an error now\u001b[0m\u001b[0;34m\u001b[0m\u001b[0;34m\u001b[0m\u001b[0m\n\u001b[0m",
      "\u001b[0;31mNameError\u001b[0m: name 'd1' is not defined"
     ]
    }
   ],
   "source": [
    "#this will delete the whole directory\n",
    "del d1\n",
    "print(d1)  # will generate an error now"
   ]
  },
  {
   "cell_type": "markdown",
   "id": "63128ffd",
   "metadata": {},
   "source": [
    "### b. Removing Element using `d1.popitem()` Method\n",
    "- The `d1.popitem()` removes and returns a (key,value) pair as a 2-tuple\n",
    "- Pairs are returned in LIFO order, i.e., last inserted element is returned\n",
    "- Raises KeyError if the dict is empty"
   ]
  },
  {
   "cell_type": "code",
   "execution_count": 107,
   "id": "31f02a66",
   "metadata": {},
   "outputs": [
    {
     "data": {
      "text/plain": [
       "{'name': 'kakamanna',\n",
       " 'age': 22,\n",
       " 'address': 'Johar Town',\n",
       " 'marks': [60, 75, 80]}"
      ]
     },
     "execution_count": 107,
     "metadata": {},
     "output_type": "execute_result"
    }
   ],
   "source": [
    "d1 = {\n",
    "    'name':'kakamanna', \n",
    "    'age':22, \n",
    "    'address':'Johar Town', \n",
    "    'marks':[60, 75, 80]\n",
    "}\n",
    "d1"
   ]
  },
  {
   "cell_type": "code",
   "execution_count": 108,
   "id": "c80d4433",
   "metadata": {},
   "outputs": [
    {
     "data": {
      "text/plain": [
       "('marks', [60, 75, 80])"
      ]
     },
     "execution_count": 108,
     "metadata": {},
     "output_type": "execute_result"
    }
   ],
   "source": [
    "d1.popitem()"
   ]
  },
  {
   "cell_type": "code",
   "execution_count": 109,
   "id": "102a5e85",
   "metadata": {},
   "outputs": [
    {
     "data": {
      "text/plain": [
       "('address', 'Johar Town')"
      ]
     },
     "execution_count": 109,
     "metadata": {},
     "output_type": "execute_result"
    }
   ],
   "source": [
    "d1.popitem()"
   ]
  },
  {
   "cell_type": "code",
   "execution_count": 110,
   "id": "05c11553",
   "metadata": {},
   "outputs": [
    {
     "data": {
      "text/plain": [
       "{'name': 'kakamanna', 'age': 22}"
      ]
     },
     "execution_count": 110,
     "metadata": {},
     "output_type": "execute_result"
    }
   ],
   "source": [
    "d1"
   ]
  },
  {
   "cell_type": "markdown",
   "id": "cc1cb924",
   "metadata": {},
   "source": [
    "### c. Removing Element using `d1.pop(key)` Method\n",
    "- The `d1.pop(key)` returns the value only of the key passed as its required argument\n",
    "- Moreover, the corresponding key-value pair is also removed from the dictionary\n",
    "- If key is not found a KeyError is raised"
   ]
  },
  {
   "cell_type": "code",
   "execution_count": 111,
   "id": "63f8b351",
   "metadata": {},
   "outputs": [
    {
     "data": {
      "text/plain": [
       "{'name': 'kakamanna',\n",
       " 'age': 22,\n",
       " 'address': 'Johar Town',\n",
       " 'marks': [60, 75, 80]}"
      ]
     },
     "execution_count": 111,
     "metadata": {},
     "output_type": "execute_result"
    }
   ],
   "source": [
    "d1 = {\n",
    "    'name':'kakamanna', \n",
    "    'age':22, \n",
    "    'address':'Johar Town', \n",
    "    'marks':[60, 75, 80]\n",
    "}\n",
    "d1"
   ]
  },
  {
   "cell_type": "code",
   "execution_count": 112,
   "id": "8197e5c4",
   "metadata": {},
   "outputs": [
    {
     "data": {
      "text/plain": [
       "'kakamanna'"
      ]
     },
     "execution_count": 112,
     "metadata": {},
     "output_type": "execute_result"
    }
   ],
   "source": [
    "d1.pop('name')"
   ]
  },
  {
   "cell_type": "code",
   "execution_count": 113,
   "id": "ff600b96",
   "metadata": {},
   "outputs": [
    {
     "data": {
      "text/plain": [
       "{'age': 22, 'address': 'Johar Town', 'marks': [60, 75, 80]}"
      ]
     },
     "execution_count": 113,
     "metadata": {},
     "output_type": "execute_result"
    }
   ],
   "source": [
    "d1"
   ]
  },
  {
   "cell_type": "code",
   "execution_count": null,
   "id": "85f1e0b6",
   "metadata": {},
   "outputs": [],
   "source": [
    "#d1.pop('nokey') #This will raise an error"
   ]
  },
  {
   "cell_type": "markdown",
   "id": "6c10c34e",
   "metadata": {},
   "source": [
    "### d. Removing Element using `d1.clear()` Method\n",
    "- The `d1.clear()` removes all items from the dictionary and returns None"
   ]
  },
  {
   "cell_type": "code",
   "execution_count": 115,
   "id": "43daa52d",
   "metadata": {},
   "outputs": [
    {
     "data": {
      "text/plain": [
       "{'name': 'kakamanna',\n",
       " 'age': 22,\n",
       " 'address': 'Johar Town',\n",
       " 'marks': [60, 75, 80]}"
      ]
     },
     "execution_count": 115,
     "metadata": {},
     "output_type": "execute_result"
    }
   ],
   "source": [
    "d1 = {\n",
    "    'name':'kakamanna', \n",
    "    'age':22, \n",
    "    'address':'Johar Town', \n",
    "    'marks':[60, 75, 80]\n",
    "}\n",
    "d1"
   ]
  },
  {
   "cell_type": "code",
   "execution_count": 116,
   "id": "21c195c0",
   "metadata": {},
   "outputs": [],
   "source": [
    "d1.clear()"
   ]
  },
  {
   "cell_type": "code",
   "execution_count": 117,
   "id": "f683613b",
   "metadata": {},
   "outputs": [
    {
     "data": {
      "text/plain": [
       "{}"
      ]
     },
     "execution_count": 117,
     "metadata": {},
     "output_type": "execute_result"
    }
   ],
   "source": [
    "d1"
   ]
  },
  {
   "cell_type": "markdown",
   "id": "4bbf6453",
   "metadata": {},
   "source": [
    "## 6. Dictionary, Tuple and List conversions"
   ]
  },
  {
   "cell_type": "code",
   "execution_count": 118,
   "id": "ffa6930a",
   "metadata": {},
   "outputs": [
    {
     "data": {
      "text/plain": [
       "{'Name': 'Kakamanna',\n",
       " 'Sex': 'Male',\n",
       " 'Age': 23,\n",
       " 'Height': 6.1,\n",
       " 'Occupation': 'Student'}"
      ]
     },
     "execution_count": 118,
     "metadata": {},
     "output_type": "execute_result"
    }
   ],
   "source": [
    "# Create a simple dictionary for these operations\n",
    "d1 = {\n",
    "    'Name': 'Kakamanna', \n",
    "    'Sex': 'Male', \n",
    "    'Age': 23, \n",
    "    'Height': 6.1, \n",
    "    'Occupation': 'Student'\n",
    "}\n",
    "d1"
   ]
  },
  {
   "cell_type": "code",
   "execution_count": 119,
   "id": "de172055",
   "metadata": {},
   "outputs": [
    {
     "name": "stdout",
     "output_type": "stream",
     "text": [
      "dict_items([('Name', 'Kakamanna'), ('Sex', 'Male'), ('Age', 23), ('Height', 6.1), ('Occupation', 'Student')])\n",
      "\n",
      " <class 'dict_items'>\n"
     ]
    }
   ],
   "source": [
    "# The items() method, returns an object of dict_items containing two value tuples\n",
    "rv = d1.items()\n",
    "print(rv)\n",
    "print(\"\\n\", type(rv))"
   ]
  },
  {
   "cell_type": "code",
   "execution_count": 120,
   "id": "ec846c0c",
   "metadata": {},
   "outputs": [
    {
     "name": "stdout",
     "output_type": "stream",
     "text": [
      "(('Name', 'Kakamanna'), ('Sex', 'Male'), ('Age', 23), ('Height', 6.1), ('Occupation', 'Student'))\n",
      "\n",
      " <class 'tuple'>\n"
     ]
    }
   ],
   "source": [
    "# You can convert dictionary key-value pairs into a tuple containing two valued tuples\n",
    "t1 = tuple(d1.items())\n",
    "print(t1)\n",
    "print(\"\\n\", type(t1))"
   ]
  },
  {
   "cell_type": "code",
   "execution_count": 121,
   "id": "a4211319",
   "metadata": {},
   "outputs": [
    {
     "name": "stdout",
     "output_type": "stream",
     "text": [
      "('Name', 'Sex', 'Age', 'Height', 'Occupation')\n",
      "\n",
      " <class 'tuple'>\n"
     ]
    }
   ],
   "source": [
    "#converting dictionary keys only into a tuple\n",
    "t1 = tuple(d1.keys())\n",
    "print(t1)\n",
    "print(\"\\n\", type(t1))"
   ]
  },
  {
   "cell_type": "code",
   "execution_count": 122,
   "id": "76426182",
   "metadata": {},
   "outputs": [
    {
     "name": "stdout",
     "output_type": "stream",
     "text": [
      "\n",
      " ['Kakamanna', 'Male', 23, 6.1, 'Student']\n",
      "<class 'list'>\n"
     ]
    }
   ],
   "source": [
    "#converting dictionary values only into a list\n",
    "mylist = list(d1.values())\n",
    "print(\"\\n\", mylist)\n",
    "print(type(mylist))"
   ]
  },
  {
   "cell_type": "markdown",
   "id": "b896d333",
   "metadata": {},
   "source": [
    "## 7. Sorting a Dictionary by Values\n",
    "- We can use the built-in function `sorted(iterable)` to get a sorted copy of a dictionary (by value). \n",
    "- The `sorted(iterable)` returns a sorted version of the iterable, without making any change to the iterable. \n",
    "- It's syntax is quite similar to `list.sort()` method, however, the iterator to be sorted needs to be passed as a required parameteras shown below:\n",
    "```\n",
    "    sorted(iterable, key=None, reverse=False)\n",
    "```\n",
    "- By default the `reverse` argument is `False`, you override the default behavior by passing a `True` value to this argument to perform a descending sort\n",
    "- A custom key function can also be supplied to customize the sort order."
   ]
  },
  {
   "cell_type": "markdown",
   "id": "e5372537",
   "metadata": {},
   "source": [
    "**Consider the following dictionary having `names` as keys and `marks` as values**"
   ]
  },
  {
   "cell_type": "code",
   "execution_count": 123,
   "id": "0e5e1dea",
   "metadata": {},
   "outputs": [
    {
     "data": {
      "text/plain": [
       "{'rauf': 81, 'arif': 90, 'maaz': 76, 'hadeed': 73, 'mujahid': 93}"
      ]
     },
     "execution_count": 123,
     "metadata": {},
     "output_type": "execute_result"
    }
   ],
   "source": [
    "dict1 = {'rauf': 81, \n",
    "         'arif':90, \n",
    "        'maaz':76, \n",
    "        'hadeed':73,\n",
    "         'mujahid':93, \n",
    "        }\n",
    "dict1"
   ]
  },
  {
   "cell_type": "code",
   "execution_count": 124,
   "id": "4bc95553",
   "metadata": {},
   "outputs": [
    {
     "data": {
      "text/plain": [
       "['rauf', 'mujahid', 'maaz', 'hadeed', 'arif']"
      ]
     },
     "execution_count": 124,
     "metadata": {},
     "output_type": "execute_result"
    }
   ],
   "source": [
    "sorted(dict1, reverse=True)"
   ]
  },
  {
   "cell_type": "markdown",
   "id": "cbd5d23e",
   "metadata": {},
   "source": [
    "**When you pass a dictionary object to the `sorted()` function, it will return the list of sorted dictionary keys**"
   ]
  },
  {
   "cell_type": "code",
   "execution_count": 125,
   "id": "0c62bbb3",
   "metadata": {},
   "outputs": [
    {
     "data": {
      "text/plain": [
       "['arif', 'hadeed', 'maaz', 'mujahid', 'rauf']"
      ]
     },
     "execution_count": 125,
     "metadata": {},
     "output_type": "execute_result"
    }
   ],
   "source": [
    "d2 = sorted(dict1)\n",
    "d2"
   ]
  },
  {
   "cell_type": "markdown",
   "id": "91208885",
   "metadata": {},
   "source": [
    "**You can pass the keys only to the `sorted()` function, to do the above task**"
   ]
  },
  {
   "cell_type": "code",
   "execution_count": 126,
   "id": "3b3674a3",
   "metadata": {},
   "outputs": [
    {
     "data": {
      "text/plain": [
       "['arif', 'hadeed', 'maaz', 'mujahid', 'rauf']"
      ]
     },
     "execution_count": 126,
     "metadata": {},
     "output_type": "execute_result"
    }
   ],
   "source": [
    "d2 = sorted(dict1.keys())\n",
    "d2"
   ]
  },
  {
   "cell_type": "markdown",
   "id": "29260515",
   "metadata": {},
   "source": [
    "**Similarly you can pass the values only to the `sorted()` function, and it will return the list of sorted values**"
   ]
  },
  {
   "cell_type": "code",
   "execution_count": 127,
   "id": "a8ac1dd7",
   "metadata": {},
   "outputs": [
    {
     "data": {
      "text/plain": [
       "[73, 76, 81, 90, 93]"
      ]
     },
     "execution_count": 127,
     "metadata": {},
     "output_type": "execute_result"
    }
   ],
   "source": [
    "d2 = sorted(dict1.values())\n",
    "d2"
   ]
  },
  {
   "cell_type": "markdown",
   "id": "ef475209",
   "metadata": {},
   "source": [
    "**Let us do customized sorting with Python Dictionaries**"
   ]
  },
  {
   "cell_type": "markdown",
   "id": "217241eb",
   "metadata": {},
   "source": [
    "**Example 1: Suppose we have a dictionary containing student names along with their marks and we want to sort the dictionary by highest marks of the students first**"
   ]
  },
  {
   "cell_type": "code",
   "execution_count": 128,
   "id": "a9a007c1",
   "metadata": {},
   "outputs": [
    {
     "data": {
      "text/plain": [
       "{'rauf': 81, 'arif': 90, 'maaz': 76, 'hadeed': 73, 'mujahid': 93}"
      ]
     },
     "execution_count": 128,
     "metadata": {},
     "output_type": "execute_result"
    }
   ],
   "source": [
    "dict1 = {'rauf': 81, \n",
    "         'arif':90, \n",
    "        'maaz':76, \n",
    "        'hadeed':73,\n",
    "         'mujahid':93, \n",
    "        }\n",
    "dict1"
   ]
  },
  {
   "cell_type": "code",
   "execution_count": 129,
   "id": "4c0f3b35",
   "metadata": {},
   "outputs": [
    {
     "name": "stdout",
     "output_type": "stream",
     "text": [
      "[('mujahid', 93), ('arif', 90), ('rauf', 81), ('maaz', 76), ('hadeed', 73)]\n"
     ]
    }
   ],
   "source": [
    "# Function receives a key:value tuple (key, value) and returns the value\n",
    "def func1(item):\n",
    "    return item[1]\n",
    "\n",
    "\n",
    "mylist = sorted(dict1.items(), key = func1, reverse=True)\n",
    "\n",
    "print(mylist)\n"
   ]
  },
  {
   "cell_type": "markdown",
   "id": "a3a979a9",
   "metadata": {},
   "source": [
    "Note the `sorted()` function returned a list object in which each element is a two valued tuple having (key,value) pairs. You can always typecast such lists to a dictionary object"
   ]
  },
  {
   "cell_type": "code",
   "execution_count": 130,
   "id": "4d1e99d6",
   "metadata": {},
   "outputs": [
    {
     "data": {
      "text/plain": [
       "{'mujahid': 93, 'arif': 90, 'rauf': 81, 'maaz': 76, 'hadeed': 73}"
      ]
     },
     "execution_count": 130,
     "metadata": {},
     "output_type": "execute_result"
    }
   ],
   "source": [
    "sorted_dict = dict(mylist)\n",
    "sorted_dict"
   ]
  },
  {
   "cell_type": "code",
   "execution_count": 131,
   "id": "e1f42db7",
   "metadata": {},
   "outputs": [
    {
     "data": {
      "text/plain": [
       "dict"
      ]
     },
     "execution_count": 131,
     "metadata": {},
     "output_type": "execute_result"
    }
   ],
   "source": [
    "type(sorted_dict)"
   ]
  },
  {
   "cell_type": "markdown",
   "id": "1aa3caf3",
   "metadata": {},
   "source": [
    "**Example 2: Suppose we have a JSON array containing name, age and grades of students. We want to sort it by the age of the students.**\n",
    "- JSON stands for JavaScript Object Notation\n",
    "- JSON is a text format for storing and transporting data\n",
    "- A JSON string has comma separated `key:value` pairs"
   ]
  },
  {
   "cell_type": "code",
   "execution_count": 132,
   "id": "390d8fc2",
   "metadata": {},
   "outputs": [
    {
     "data": {
      "text/plain": [
       "[{'name': 'Hashim', 'age': 18, 'grade': 'B'},\n",
       " {'name': 'Salman', 'age': 11, 'grade': 'A'},\n",
       " {'name': 'Mazhar', 'age': 12, 'grade': 'C'},\n",
       " {'name': 'Farhan', 'age': 22, 'grade': 'D'},\n",
       " {'name': 'Bilal', 'age': 19, 'grade': 'A'},\n",
       " {'name': 'Zalaid', 'age': 17, 'grade': 'B'}]"
      ]
     },
     "execution_count": 132,
     "metadata": {},
     "output_type": "execute_result"
    }
   ],
   "source": [
    "# The following JSON array defines a student object with 3 properties: `name`, `age`, and `grade`\n",
    "# It is actually a list containing dictionary objects each object containing three key:value pairs\n",
    "students = [\n",
    "         {\"name\": \"Hashim\", \"age\": 18, \"grade\": \"B\"},\n",
    "         {\"name\": \"Salman\", \"age\": 11, \"grade\": \"A\"},\n",
    "         {\"name\": \"Mazhar\", \"age\": 12, \"grade\": \"C\"},\n",
    "         {\"name\": \"Farhan\", \"age\": 22, \"grade\": \"D\"},\n",
    "         {\"name\": \"Bilal\", \"age\": 19, \"grade\": \"A\"},\n",
    "         {\"name\": \"Zalaid\", \"age\": 17, \"grade\": \"B\"}\n",
    "        ]\n",
    "students"
   ]
  },
  {
   "cell_type": "code",
   "execution_count": 133,
   "id": "98ec59c4",
   "metadata": {},
   "outputs": [
    {
     "data": {
      "text/plain": [
       "[{'name': 'Salman', 'age': 11, 'grade': 'A'},\n",
       " {'name': 'Mazhar', 'age': 12, 'grade': 'C'},\n",
       " {'name': 'Zalaid', 'age': 17, 'grade': 'B'},\n",
       " {'name': 'Hashim', 'age': 18, 'grade': 'B'},\n",
       " {'name': 'Bilal', 'age': 19, 'grade': 'A'},\n",
       " {'name': 'Farhan', 'age': 22, 'grade': 'D'}]"
      ]
     },
     "execution_count": 133,
     "metadata": {},
     "output_type": "execute_result"
    }
   ],
   "source": [
    "# Function receives a dictionary object and returns the value corresponding to key age in that dictionary\n",
    "def func2(item):\n",
    "     return item.get('age') #return item['age']\n",
    "\n",
    "sorted_students = sorted(students, key = func2)\n",
    "\n",
    "sorted_students"
   ]
  },
  {
   "cell_type": "markdown",
   "id": "af2bb767",
   "metadata": {},
   "source": [
    "Note the `sorted()` function returned a list object in which each element is a dictionary object having three key:value pairs"
   ]
  },
  {
   "cell_type": "markdown",
   "id": "b137a71e",
   "metadata": {},
   "source": [
    "## 8. Simple Assignment (aliasing) vs Shallow Copy vs Deep Copy"
   ]
  },
  {
   "cell_type": "markdown",
   "id": "7c97d429",
   "metadata": {},
   "source": [
    "### a. Aliasing: Making an Alias of a List object using simple Assignment `=` Operator\n",
    "- In Python, we use `=` operator to create a copy/alias of an object. \n",
    "- Remember it doesnot create a new object, rather creates a new variable that shares the reference of the original object."
   ]
  },
  {
   "cell_type": "code",
   "execution_count": 134,
   "id": "a12c4cb0",
   "metadata": {},
   "outputs": [
    {
     "name": "stdout",
     "output_type": "stream",
     "text": [
      "ID of dict1: 140647166336320\n",
      "ID of dict2: 140647166336320\n"
     ]
    }
   ],
   "source": [
    "dict1 = {'rauf': 81, \n",
    "         'arif':90, \n",
    "        'maaz':76, \n",
    "        'hadeed':73,\n",
    "         'mujahid':93, \n",
    "        }\n",
    "\n",
    "dict2 = dict1\n",
    "\n",
    "# Both references point to same memory object, so have the same ID\n",
    "print('ID of dict1:', id(dict1))\n",
    "print('ID of dict2:', id(dict2))"
   ]
  },
  {
   "cell_type": "code",
   "execution_count": 135,
   "id": "eccc213b",
   "metadata": {},
   "outputs": [
    {
     "name": "stdout",
     "output_type": "stream",
     "text": [
      "\n",
      "dict1: {'rauf': 81, 'arif': 90, 'maaz': 100, 'hadeed': 73, 'mujahid': 93}\n",
      "dict2: {'rauf': 81, 'arif': 90, 'maaz': 100, 'hadeed': 73, 'mujahid': 93}\n"
     ]
    }
   ],
   "source": [
    "# If you modify an element of one object, the change will be visible in both\n",
    "dict2[\"maaz\"] = 100\n",
    "\n",
    "print('\\ndict1:', dict1)\n",
    "print('dict2:', dict2)\n"
   ]
  },
  {
   "cell_type": "markdown",
   "id": "8c1cb6e6",
   "metadata": {},
   "source": [
    "### b. Shallow Copy\n",
    "- We have used the `copy.copy()` method of copy module to create a shallow copy of List objects in our previous session\n",
    "- To create a shallow copy of a list or dictionary, we can also use `copy()` method of List and Dictionary objects."
   ]
  },
  {
   "cell_type": "code",
   "execution_count": 136,
   "id": "984c9a3d",
   "metadata": {},
   "outputs": [
    {
     "name": "stdout",
     "output_type": "stream",
     "text": [
      "ID of dict1: 140647166336384\n",
      "ID of dict2: 140647166334656\n"
     ]
    }
   ],
   "source": [
    "import copy\n",
    "dict1 = {'rauf': 81, \n",
    "         'arif':90, \n",
    "        'maaz':76, \n",
    "        'hadeed':73,\n",
    "         'mujahid':93, \n",
    "        }\n",
    "\n",
    "#dict2 = copy.copy(dict1)\n",
    "dict2 = dict1.copy()\n",
    "\n",
    "\n",
    "# Both variables point to different memory objects, so have the different ID\n",
    "print('ID of dict1:', id(dict1))\n",
    "print('ID of dict2:', id(dict2))"
   ]
  },
  {
   "cell_type": "code",
   "execution_count": 137,
   "id": "5f67a44f",
   "metadata": {},
   "outputs": [
    {
     "name": "stdout",
     "output_type": "stream",
     "text": [
      "\n",
      "dict1: {'rauf': 81, 'arif': 90, 'maaz': 76, 'hadeed': 73, 'mujahid': 93}\n",
      "dict2: {'rauf': 81, 'arif': 90, 'maaz': 100, 'hadeed': 73, 'mujahid': 93}\n"
     ]
    }
   ],
   "source": [
    "# If you modify an element of one object, the change will NOT be visible in other\n",
    "dict2[\"maaz\"] = 100\n",
    "\n",
    "print('\\ndict1:', dict1)\n",
    "print('dict2:', dict2)\n"
   ]
  },
  {
   "cell_type": "markdown",
   "id": "eae99977",
   "metadata": {},
   "source": [
    "**This seems woking fine, then why this is called shallow copy**"
   ]
  },
  {
   "cell_type": "markdown",
   "id": "31372965",
   "metadata": {},
   "source": [
    "**Limitation of Shallow Copy**\n",
    "- The word Shallow copy comes in picture when there is some object in dictionary like list or user define objects instead of primitive datatypes.\n",
    "- The limitation of shallow copy is that it does not create a copy of nested objects, instead it just copies the reference of nested objects. This means, a copy process does not recurse or create copies of nested objects itself.\n",
    "- Let us understand this by an example"
   ]
  },
  {
   "cell_type": "code",
   "execution_count": 138,
   "id": "64d97fd9",
   "metadata": {},
   "outputs": [
    {
     "name": "stdout",
     "output_type": "stream",
     "text": [
      "ID of dict1: 140647166335936\n",
      "ID of dict2: 140647166314304\n"
     ]
    }
   ],
   "source": [
    "import copy\n",
    "\n",
    "dict1 = {'rauf': 81, \n",
    "         'arif':90, \n",
    "        'maaz':[55, 66, 77], #note we have a list of marks as a dictionary value\n",
    "        'hadeed':73,\n",
    "         'mujahid':93, \n",
    "        }\n",
    " \n",
    "#dict2 = copy.copy(dict1)\n",
    "dict2 = dict1.copy()\n",
    "\n",
    "\n",
    "# Both variables point to different memory objects, so have the different ID\n",
    "print('ID of dict1:', id(dict1))\n",
    "print('ID of dict2:', id(dict2))"
   ]
  },
  {
   "cell_type": "code",
   "execution_count": 139,
   "id": "289a7fd2",
   "metadata": {},
   "outputs": [
    {
     "name": "stdout",
     "output_type": "stream",
     "text": [
      "\n",
      "dict1: {'rauf': 81, 'arif': 90, 'maaz': [55, 0, 77], 'hadeed': 73, 'mujahid': 93}\n",
      "\n",
      "dict2: {'rauf': 81, 'arif': 90, 'maaz': [55, 0, 77], 'hadeed': 73, 'mujahid': 93}\n"
     ]
    }
   ],
   "source": [
    "# If you modify a nested element of one object, the change will be visible in both\n",
    "# This is the limitation of shallow copy\n",
    "\n",
    "dict2[\"maaz\"][1] = 0\n",
    "\n",
    "print('\\ndict1:', dict1)\n",
    "print('\\ndict2:', dict2)\n"
   ]
  },
  {
   "cell_type": "markdown",
   "id": "7c7476a7",
   "metadata": {},
   "source": [
    "- **Marks of student 'maaz' has been changed in both :(**\n",
    "- **So in case of a dictionary having primitive datatypes, the shallow copy works fine. However, when we have nested objects inside the dictionary the shallow copy does not work**\n",
    "- **Lets solve this using deep copy**"
   ]
  },
  {
   "cell_type": "markdown",
   "id": "e5aabb17",
   "metadata": {},
   "source": [
    "### c. Deep Copy: Making a Copy of an Object using `copy.deepcopy()` Method\n",
    "- Deep copy creates a new object and recursively creates independent copy of original object and all its nested objects."
   ]
  },
  {
   "cell_type": "code",
   "execution_count": 140,
   "id": "dca1a925",
   "metadata": {},
   "outputs": [
    {
     "name": "stdout",
     "output_type": "stream",
     "text": [
      "ID of dict1: 140647166336384\n",
      "ID of dict2: 140647164358016\n"
     ]
    }
   ],
   "source": [
    "import copy\n",
    "\n",
    "dict1 = {'rauf': 81, \n",
    "         'arif':90, \n",
    "        'maaz':[55, 66, 77], \n",
    "        'hadeed':73,\n",
    "         'mujahid':93, \n",
    "        }\n",
    " \n",
    "dict2 = copy.deepcopy(dict1)\n",
    "\n",
    "# Both variables point to different memory objects, so have the different ID\n",
    "print('ID of dict1:', id(dict1))\n",
    "print('ID of dict2:', id(dict2))"
   ]
  },
  {
   "cell_type": "code",
   "execution_count": 141,
   "id": "e7047c1c",
   "metadata": {},
   "outputs": [
    {
     "name": "stdout",
     "output_type": "stream",
     "text": [
      "\n",
      "dict1: {'rauf': 81, 'arif': 90, 'maaz': [55, 66, 77], 'hadeed': 73, 'mujahid': 93}\n",
      "\n",
      "dict2: {'rauf': 81, 'arif': 90, 'maaz': [55, 0, 77], 'hadeed': 73, 'mujahid': 93}\n"
     ]
    }
   ],
   "source": [
    "# If you modify a nested element of one object, the change will be visible in other\n",
    "dict2[\"maaz\"][1] = 0\n",
    "\n",
    "print('\\ndict1:', dict1)\n",
    "print('\\ndict2:', dict2)\n"
   ]
  },
  {
   "cell_type": "code",
   "execution_count": null,
   "id": "0b3f330b",
   "metadata": {},
   "outputs": [],
   "source": []
  }
 ],
 "metadata": {
  "kernelspec": {
   "display_name": "Python 3 (ipykernel)",
   "language": "python",
   "name": "python3"
  },
  "language_info": {
   "codemirror_mode": {
    "name": "ipython",
    "version": 3
   },
   "file_extension": ".py",
   "mimetype": "text/x-python",
   "name": "python",
   "nbconvert_exporter": "python",
   "pygments_lexer": "ipython3",
   "version": "3.9.13"
  }
 },
 "nbformat": 4,
 "nbformat_minor": 5
}
