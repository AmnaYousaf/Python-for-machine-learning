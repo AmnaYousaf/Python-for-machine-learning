{
 "cells": [
  {
   "cell_type": "markdown",
   "id": "bed2e397",
   "metadata": {},
   "source": [
    "## 1. Defining Strings in Python\n",
    "- A string is a collection of character(s) closed within single or double quotation marks. (There is no `char` data type in Python as in C/C++)\n",
    "- A string can also contain a single character or be entirely empty.\n",
    "- To make a single quote part of a string, define the string using double quotes and vice versa. You can also make use of escape sequence"
   ]
  },
  {
   "cell_type": "code",
   "execution_count": 1,
   "id": "a0e35794",
   "metadata": {},
   "outputs": [
    {
     "name": "stdout",
     "output_type": "stream",
     "text": [
      "Hello\n",
      "World\n",
      "\n",
      "A\n"
     ]
    }
   ],
   "source": [
    "string1 = 'Hello'\n",
    "print(string1)\n",
    "\n",
    "string2 = \"World\"\n",
    "print(string2)\n",
    "\n",
    "string3 = \"\"\n",
    "print(string3)\n",
    "\n",
    "string4 = \"A\"\n",
    "print(string4)"
   ]
  },
  {
   "cell_type": "code",
   "execution_count": 2,
   "id": "a0b75460",
   "metadata": {},
   "outputs": [
    {
     "name": "stdout",
     "output_type": "stream",
     "text": [
      "Hello, This is\n",
      "            multi-line string\n",
      "Hello, This is\n",
      "            multi-line string\n"
     ]
    }
   ],
   "source": [
    "# triple quotes string can extend multiple lines\n",
    "\n",
    "string5 = \"\"\"Hello, This is\n",
    "            multi-line string\"\"\"\n",
    "print(string5)\n",
    "\n",
    "string5 = '''Hello, This is\n",
    "            multi-line string'''\n",
    "print(string5)"
   ]
  },
  {
   "cell_type": "code",
   "execution_count": 3,
   "id": "d2182899",
   "metadata": {},
   "outputs": [
    {
     "ename": "SyntaxError",
     "evalue": "invalid syntax (2198476966.py, line 2)",
     "output_type": "error",
     "traceback": [
      "\u001b[0;36m  File \u001b[0;32m\"/var/folders/m_/dkp183594w5d5gh0rl8770hh0000gq/T/ipykernel_5047/2198476966.py\"\u001b[0;36m, line \u001b[0;32m2\u001b[0m\n\u001b[0;31m    'I'm using single quotes, but will create an error'\u001b[0m\n\u001b[0m       ^\u001b[0m\n\u001b[0;31mSyntaxError\u001b[0m\u001b[0;31m:\u001b[0m invalid syntax\n"
     ]
    }
   ],
   "source": [
    "# Be careful with quotes!\n",
    "'I'm using single quotes, but will create an error'"
   ]
  },
  {
   "cell_type": "code",
   "execution_count": null,
   "id": "90559838",
   "metadata": {},
   "outputs": [],
   "source": []
  },
  {
   "cell_type": "code",
   "execution_count": 5,
   "id": "552a7f2f",
   "metadata": {},
   "outputs": [
    {
     "data": {
      "text/plain": [
       "\"Now I'm ready to use the single quotes inside a string!\""
      ]
     },
     "execution_count": 5,
     "metadata": {},
     "output_type": "execute_result"
    }
   ],
   "source": [
    "\"Now I'm ready to use the single quotes inside a string!\""
   ]
  },
  {
   "cell_type": "markdown",
   "id": "85779de7",
   "metadata": {},
   "source": [
    "## 2. Accessing Characters of a String in Python\n",
    "- Since string is of type sequence, and any component within a sequence can be accessed by entrying an index within square brackets. So naturally this work for strings as well\n",
    "- Similarly, if we want to find out the index of a specific item/character, we can use the `str.index()` method"
   ]
  },
  {
   "cell_type": "code",
   "execution_count": 7,
   "id": "4a118e84",
   "metadata": {},
   "outputs": [
    {
     "name": "stdout",
     "output_type": "stream",
     "text": [
      "str =  Python Programming is fun\n",
      "str[0] =  P\n",
      "str[-1] =  n\n",
      "str[-2] =  u\n"
     ]
    }
   ],
   "source": [
    "str = 'Python Programming is fun'\n",
    "print('str = ', str)\n",
    "\n",
    "#access first index\n",
    "print('str[0] = ', str[0])\n",
    "\n",
    "# Negative indices start from the opposite end of the string. Hence, -1 index corresponds to the last character\n",
    "print('str[-1] = ', str[-1])\n",
    "\n",
    "#access second last index\n",
    "print('str[-2] = ', str[-2])\n",
    "\n",
    "#print(str[17])     #access an index out of the range, will get error\n",
    "\n",
    "#print(str[1.5])    #use numbers other than an integer as index will flag an error"
   ]
  },
  {
   "cell_type": "code",
   "execution_count": 8,
   "id": "76120c6d",
   "metadata": {},
   "outputs": [
    {
     "data": {
      "text/plain": [
       "2"
      ]
     },
     "execution_count": 8,
     "metadata": {},
     "output_type": "execute_result"
    }
   ],
   "source": [
    "# To find out the index of a specific character\n",
    "str = \"Python Programming is fun\"\n",
    "str.index('th')"
   ]
  },
  {
   "cell_type": "code",
   "execution_count": 10,
   "id": "bb524ba5",
   "metadata": {},
   "outputs": [
    {
     "data": {
      "text/plain": [
       "['In',\n",
       " 'Out',\n",
       " '_',\n",
       " '_4',\n",
       " '_5',\n",
       " '_8',\n",
       " '_9',\n",
       " '__',\n",
       " '___',\n",
       " '__builtin__',\n",
       " '__builtins__',\n",
       " '__doc__',\n",
       " '__loader__',\n",
       " '__name__',\n",
       " '__package__',\n",
       " '__spec__',\n",
       " '_dh',\n",
       " '_i',\n",
       " '_i1',\n",
       " '_i10',\n",
       " '_i2',\n",
       " '_i3',\n",
       " '_i4',\n",
       " '_i5',\n",
       " '_i6',\n",
       " '_i7',\n",
       " '_i8',\n",
       " '_i9',\n",
       " '_ih',\n",
       " '_ii',\n",
       " '_iii',\n",
       " '_oh',\n",
       " 'exit',\n",
       " 'get_ipython',\n",
       " 'quit',\n",
       " 'str',\n",
       " 'string1',\n",
       " 'string2',\n",
       " 'string3',\n",
       " 'string4',\n",
       " 'string5']"
      ]
     },
     "execution_count": 10,
     "metadata": {},
     "output_type": "execute_result"
    }
   ],
   "source": [
    "dir()"
   ]
  },
  {
   "cell_type": "markdown",
   "id": "1cbf5213",
   "metadata": {},
   "source": [
    "## 3. Strings are Immutable"
   ]
  },
  {
   "cell_type": "code",
   "execution_count": 11,
   "id": "2c2302a2",
   "metadata": {},
   "outputs": [
    {
     "name": "stdout",
     "output_type": "stream",
     "text": [
      "140577095104240\n",
      "140577062180784\n"
     ]
    }
   ],
   "source": [
    "#strings are immutable, means string object does not support item assignment\n",
    "str1 = 'Amna Yousaf'\n",
    "\n",
    "#str1[5] = 'c'\n",
    "\n",
    "print(id(str1))\n",
    "\n",
    "#assigning a new value is valid\n",
    "str1 = 'python'\n",
    "\n",
    "print(id(str1))"
   ]
  },
  {
   "cell_type": "markdown",
   "id": "66b08cc6",
   "metadata": {},
   "source": [
    "The object `Amna yousaf` is now orphan, since there is no variable referring to it now and will be collected by Python garbage collector."
   ]
  },
  {
   "cell_type": "markdown",
   "id": "1acfac5c",
   "metadata": {},
   "source": [
    "## 4. Slicing Strings\n",
    "- Slicing is the process of obtaining a portion (substring) of a string by using its indices.\n",
    "- Given a string, we can use the following syntax to slice it and obtain a substring:\n",
    "```\n",
    "string[start:end]\n",
    "```\n",
    "\n",
    "- **start** is the index from where we want the substring to start. If start is not provided, slicing starts from the beginning.\n",
    "- **end** is the index where we want our substring to end (not inclusive in the substring). If end is not provided, slicing goes till the end of the string (includes the last character of the string)."
   ]
  },
  {
   "cell_type": "code",
   "execution_count": 12,
   "id": "7c91193b",
   "metadata": {},
   "outputs": [
    {
     "name": "stdout",
     "output_type": "stream",
     "text": [
      "Data\n",
      "Data\n",
      "Tools\n",
      "Techniques\n",
      "Techni\n",
      "\n"
     ]
    }
   ],
   "source": [
    "str1 = 'DataScienceToolsAndTechniques'\n",
    "\n",
    "print(str1[0:4]) # From the start till before the 4th index\n",
    "print(str1[:4]) # From the start till before the 4th index\n",
    "print(str1[11:16])\n",
    "print(str1[19:]) # From the 19th index till the end\n",
    "print(str1[19:len(str)]) # From the 19th index till the end\n",
    "#if start is greater than end, it will return empty string\n",
    "print(str1[5:2])"
   ]
  },
  {
   "cell_type": "markdown",
   "id": "0cee2c1d",
   "metadata": {},
   "source": [
    "### a. Slicing with a Step \n",
    "- In the above example, we’ve used slicing to obtain a contiguous piece of a string, i.e., all the characters from the starting index to before the ending index are retrieved.\n",
    "- However, we can define a step through which we can skip characters in the string. The default step is 1, so we iterate through the string one character at a time.\n",
    "- The step is defined after the end index:\n",
    "```\n",
    "string[start:end:step]\n",
    "```"
   ]
  },
  {
   "cell_type": "code",
   "execution_count": 13,
   "id": "6fee98fe",
   "metadata": {},
   "outputs": [
    {
     "name": "stdout",
     "output_type": "stream",
     "text": [
      "DataScienceToolsAndTechniques\n",
      "DataScienceToolsAndTechniques\n",
      "DtSineolAdehius\n"
     ]
    }
   ],
   "source": [
    "str1 = 'DataScienceToolsAndTechniques'\n",
    "print(str1[::])  # A default step of 1\n",
    "print(str1[::1])  # A step of 1\n",
    "print(str1[::2])  # A step of 2"
   ]
  },
  {
   "cell_type": "markdown",
   "id": "27f90fb2",
   "metadata": {},
   "source": [
    "### b. Reverse Slicing\n",
    "- Strings can also be sliced to return a reversed substring. \n",
    "- For reverse slicing we need to give a negative step\n",
    "- For reverse slicing the `start` index must be greater than the `end` index, otherwise an empty string will be returned"
   ]
  },
  {
   "cell_type": "code",
   "execution_count": 14,
   "id": "49630ff3",
   "metadata": {},
   "outputs": [
    {
     "name": "stdout",
     "output_type": "stream",
     "text": [
      "9876543210\n",
      "5432\n",
      "\n",
      "97531\n"
     ]
    }
   ],
   "source": [
    "str1 = '0123456789'\n",
    "print(str1[::-1]) \n",
    "print(str1[5:1:-1]) \n",
    "print(str1[2:10:-1])\n",
    "print(str1[::-2]) "
   ]
  },
  {
   "cell_type": "markdown",
   "id": "bf227b9e",
   "metadata": {},
   "source": [
    "## 5. String Concatenation\n",
    "- Two strings can be joined or concatenated using the `+` operator"
   ]
  },
  {
   "cell_type": "code",
   "execution_count": 15,
   "id": "1253b282",
   "metadata": {},
   "outputs": [
    {
     "name": "stdout",
     "output_type": "stream",
     "text": [
      "str1 + str2 =  Hello World!\n",
      "Yello World!\n"
     ]
    }
   ],
   "source": [
    "str1 = 'Hello'\n",
    "str2 =' World!'\n",
    "str3 = str1 + str2\n",
    "print('str1 + str2 = ', str3)\n",
    "\n",
    "\n",
    "print(\"Y\" + str3[1:])"
   ]
  },
  {
   "cell_type": "markdown",
   "id": "b48fc047",
   "metadata": {},
   "source": [
    "## 6. Creating Large strings\n",
    "- A string can be replicated/repeated using the `*` operator"
   ]
  },
  {
   "cell_type": "code",
   "execution_count": 16,
   "id": "5c867b70",
   "metadata": {},
   "outputs": [
    {
     "name": "stdout",
     "output_type": "stream",
     "text": [
      "str1 * 5 = HelloHelloHelloHelloHello\n",
      "AAAAAAAAAAAAAAAAAAAAAAAAAAAAAAAAAAAAAAAAAAAAAAAAAAAAAAAAAAAAAAAAAAAAAAAAAAAAAAAAAAAAAAAAAAAAAAAAAAAA\n"
     ]
    }
   ],
   "source": [
    "str1 = 'Hello'\n",
    "print('str1 * 5 =', str1 * 5)\n",
    "\n",
    "buffer = 'A' * 100\n",
    "print(buffer)"
   ]
  },
  {
   "cell_type": "markdown",
   "id": "5ab64ca6",
   "metadata": {},
   "source": [
    "## 7. String Methods\n",
    "- Objects in Python usually have built-in **methods**. These methods are functions defined in the class that can perform actions on the object of that class. \n",
    "- To keep it simple, methods are actions that are performed on object of a class, while functions are actions that belong to no 'data thing' (object). They just exist in the program.\n",
    "- Methods will perform specific actions on the object and can also take arguments. We call methods with a period and then the method name. Basically, we say `\"Hey object, do this to these arguments\"`. The syntax to call methods is:\n",
    "```\n",
    "object.method(arg1, arg2, ...)\n",
    "```\n",
    "- Where parameters are extra arguments we can pass to the method.\n",
    "- Remember, most of the String methods do not modify the string object on which they are called, rather return a new string object that has been altered as per the requested opertaion. \n",
    "- Let me re-emphasize, that all string methods return new values and DO NOT change the existing string. \n",
    "- [Click me to learn more about string methods](https://www.w3schools.com/python/python_ref_string.asp)a"
   ]
  },
  {
   "cell_type": "markdown",
   "id": "e9e9bdb0",
   "metadata": {},
   "source": [
    "### a. The `len()`, `str.lower()`, `str.upper()` and `str.capitalize()` methods\n",
    "- The `len()` is a built-in function that returns the number of items of a container data type passed as argument. We can check the length of any data types that are collections with built-in `len()` function.\n",
    "It is considered a built-in function.\n",
    "- The `str.lower()` method return a copy of the string converted to lowercase.\n",
    "- The `str.upper()` method return a copy of the string converted to uppercase.\n",
    "- The `str.capitalize()` method return a capitalized version of the string."
   ]
  },
  {
   "cell_type": "code",
   "execution_count": 17,
   "id": "feda077b",
   "metadata": {},
   "outputs": [
    {
     "data": {
      "text/plain": [
       "5"
      ]
     },
     "execution_count": 17,
     "metadata": {},
     "output_type": "execute_result"
    }
   ],
   "source": [
    "str1= \"Hello World\"\n",
    "mylist = [1,2,3,4,5]\n",
    "len(str1)\n",
    "len(mylist)"
   ]
  },
  {
   "cell_type": "code",
   "execution_count": 18,
   "id": "76846f8f",
   "metadata": {},
   "outputs": [
    {
     "name": "stdout",
     "output_type": "stream",
     "text": [
      "Orignial string =  python for machine learning\n",
      "len(str1) =  27\n",
      "str1.lower() =  python for machine learning\n",
      "str1.upper() =  PYTHON FOR MACHINE LEARNING\n",
      "str1.capitalize() =  Python programming is fun\n",
      "Orignial string =  python for machine learning\n"
     ]
    }
   ],
   "source": [
    "str1 = 'python for machine learning'\n",
    "print('Orignial string = ', str1)\n",
    "\n",
    "rv = len(str1)\n",
    "print('len(str1) = ', rv)\n",
    "\n",
    "rv = str1.lower()\n",
    "print('str1.lower() = ', rv)\n",
    "      \n",
    "print('str1.upper() = ', str1.upper())\n",
    "\n",
    "rv = str.capitalize()\n",
    "print('str1.capitalize() = ', rv)\n",
    "print('Orignial string = ', str1)\n"
   ]
  },
  {
   "cell_type": "markdown",
   "id": "2fa9d73b",
   "metadata": {},
   "source": [
    "### b. The `str.strip()` method\n",
    "- The `str.strip()` method removes whitespace characters from the beginning and end of a string.\n",
    "- The `str.lstrip()` method removes whitespace characters from the beginning of a string.\n",
    "- The `str.rstrip()` method removes whitespace characters from the end of a string.\n"
   ]
  },
  {
   "cell_type": "code",
   "execution_count": 19,
   "id": "02138ad9",
   "metadata": {},
   "outputs": [
    {
     "name": "stdout",
     "output_type": "stream",
     "text": [
      "    hello world, this is       python for machine learning class       \n",
      "hello world, this is       python for machine learning class\n"
     ]
    }
   ],
   "source": [
    "buffer =\"    hello world, this is       python for machine learning class       \"\n",
    "rv = buffer.strip()\n",
    "print(buffer)\n",
    "print(rv)"
   ]
  },
  {
   "cell_type": "code",
   "execution_count": 20,
   "id": "4a19800a",
   "metadata": {},
   "outputs": [
    {
     "data": {
      "text/plain": [
       "'hello world, this is       python for machine learning class       '"
      ]
     },
     "execution_count": 20,
     "metadata": {},
     "output_type": "execute_result"
    }
   ],
   "source": [
    "buffer\n",
    "buffer.lstrip()"
   ]
  },
  {
   "cell_type": "code",
   "execution_count": 21,
   "id": "0e092af1",
   "metadata": {},
   "outputs": [
    {
     "data": {
      "text/plain": [
       "'    hello world, this is       python for machine learning class'"
      ]
     },
     "execution_count": 21,
     "metadata": {},
     "output_type": "execute_result"
    }
   ],
   "source": [
    "buffer\n",
    "buffer.rstrip()"
   ]
  },
  {
   "cell_type": "markdown",
   "id": "862fe4aa",
   "metadata": {},
   "source": [
    "### c. The `str.startswith()` method\n",
    "The `str.startswith()` method return True if str starts with the specified prefix, False otherwise.\n",
    "```\n",
    "str.startswith(prefix[, start[, end]])\n",
    "```"
   ]
  },
  {
   "cell_type": "code",
   "execution_count": 29,
   "id": "858a5953",
   "metadata": {},
   "outputs": [
    {
     "name": "stdout",
     "output_type": "stream",
     "text": [
      "False\n",
      "True\n",
      "False\n",
      "False\n",
      "True\n"
     ]
    }
   ],
   "source": [
    "str1 = \"python for machine learning class\"\n",
    "\n",
    "rv = str1.startswith('class')\n",
    "print(rv)\n",
    "\n",
    "rv = str1.startswith('python')\n",
    "print(rv)\n",
    "\n",
    "\n",
    "rv = str1.startswith('for', 21)\n",
    "print(rv)\n",
    "\n",
    "# case sensitive\n",
    "rv = str1.startswith('Python', 21)\n",
    "print(rv)\n",
    "\n",
    "rv = str1.startswith('tho', 2, 10)  # character at ending index is not included\n",
    "print(rv)\n"
   ]
  },
  {
   "cell_type": "markdown",
   "id": "20c58c33",
   "metadata": {},
   "source": [
    "### d. The `str.split()` and `str.join()` method\n",
    "- The `str.split()` method splits a string into a list of strings at every occurrence of space character by default. You may pass a parameter `sep='i'` to split method to split at that specific character instead.\n",
    "- The `sep.join(list)` method is passed a list/iterable as parameter and is called on a separater character. It joins the strings inside the list to a single string and returns"
   ]
  },
  {
   "cell_type": "code",
   "execution_count": 30,
   "id": "d499bfd1",
   "metadata": {},
   "outputs": [
    {
     "name": "stdout",
     "output_type": "stream",
     "text": [
      "['Learning', 'is', 'fun', 'with', 'machine', 'learning']\n",
      "<class 'list'>\n"
     ]
    }
   ],
   "source": [
    "str1 = 'Learning is fun with machine learning'\n",
    "rv = str1.split()\n",
    "print(rv)\n",
    "print(type(rv))"
   ]
  },
  {
   "cell_type": "code",
   "execution_count": 31,
   "id": "cb85b819",
   "metadata": {},
   "outputs": [
    {
     "name": "stdout",
     "output_type": "stream",
     "text": [
      "['Learn', 'ng ', 's fun w', 'th mach', 'ne learn', 'ng']\n",
      "<class 'list'>\n"
     ]
    }
   ],
   "source": [
    "str1 = 'Learning is fun with machine learning'\n",
    "rv = str1.split(sep='i')\n",
    "print(rv)\n",
    "print(type(rv))"
   ]
  },
  {
   "cell_type": "code",
   "execution_count": 32,
   "id": "99faeb42",
   "metadata": {},
   "outputs": [
    {
     "data": {
      "text/plain": [
       "['L', 'e', 'a', 'r', 'n', 'i', 'n', 'g']"
      ]
     },
     "execution_count": 32,
     "metadata": {},
     "output_type": "execute_result"
    }
   ],
   "source": [
    "mystr = \"L e a r n i n g\"\n",
    "mystr.split(' ')"
   ]
  },
  {
   "cell_type": "code",
   "execution_count": 33,
   "id": "c53f4bcf",
   "metadata": {},
   "outputs": [
    {
     "name": "stdout",
     "output_type": "stream",
     "text": [
      "['Learning', 'is', 'fun', 'with', 'machine', 'learning'] <class 'list'>\n",
      "Learning is fun with machine learning <class 'str'>\n"
     ]
    }
   ],
   "source": [
    "# The join() method takes all items in an iterable and joins them into one string.\n",
    "mylist = ['Learning', 'is', 'fun', 'with', 'machine','learning']\n",
    "\n",
    "#Note the separator is space character\n",
    "mystr = ' '.join(mylist)\n",
    "\n",
    "print(mylist, type(mylist))\n",
    "print(mystr, type(mystr))"
   ]
  },
  {
   "cell_type": "markdown",
   "id": "01491e8f",
   "metadata": {},
   "source": [
    "### e. The `str.find()` method\n",
    "- The `str.find()` method is used to find a substring from within a string, which returns the first index at which a substring occurs in a string. If no instance of the substring is found, the method returns -1.\n",
    "```\n",
    "str.find(substring, start, end)\n",
    "```\n",
    "where \n",
    "    - `substring` is what we are searching for,\n",
    "    - `start` is the index from where we want to start searching (default value is 0)\n",
    "    - `end` is the index where we want to stop our search (default value is len(str) -1)"
   ]
  },
  {
   "cell_type": "code",
   "execution_count": 34,
   "id": "6d8d73ca",
   "metadata": {},
   "outputs": [
    {
     "name": "stdout",
     "output_type": "stream",
     "text": [
      "0\n",
      "16\n",
      "4\n",
      "15\n",
      "-1\n",
      "4\n"
     ]
    }
   ],
   "source": [
    "str1 = 'DataScienceToolsAndTechniques'\n",
    "print(str1.find('Data'))\n",
    "print(str1.find('And'))\n",
    "\n",
    "\n",
    "print(str1.find('S',2)) # second argument starts searching from that index\n",
    "print(str1.find('s',2)) # case sensitive\n",
    "\n",
    "print(str1.find('S',0, 4)) # third argument stops searching uptill that index\n",
    "print(str1.find('S',0, 5)) "
   ]
  },
  {
   "cell_type": "markdown",
   "id": "2245cd8d",
   "metadata": {},
   "source": [
    "### f. Use `str.replace()` method to find a substring\n",
    "- The `str.replace()` method returns a string after replacing all occurrences of `substring_to_be_replaced` with `new_string`.\n",
    "```\n",
    "str.replace(substring_to_be_replaced, new_string, count = -1)\n",
    "```\n",
    "- Note that `replace` returns a new string, and the original string is not modified."
   ]
  },
  {
   "cell_type": "code",
   "execution_count": 35,
   "id": "94735e64",
   "metadata": {},
   "outputs": [
    {
     "name": "stdout",
     "output_type": "stream",
     "text": [
      "hallo\n"
     ]
    }
   ],
   "source": [
    "print(\"hello\".replace(\"e\",\"a\"))"
   ]
  },
  {
   "cell_type": "code",
   "execution_count": 36,
   "id": "3df9eeaf",
   "metadata": {},
   "outputs": [
    {
     "name": "stdout",
     "output_type": "stream",
     "text": [
      "Welcome to Learning Data Science with me\n",
      "Welcome to Learning Life with me\n"
     ]
    }
   ],
   "source": [
    "str1 = 'Welcome to Learning Data Science with me'\n",
    "newstring = str1.replace('Data Science', 'Life')\n",
    "print(str1)\n",
    "print(newstring)"
   ]
  },
  {
   "cell_type": "code",
   "execution_count": null,
   "id": "8fff1af2",
   "metadata": {},
   "outputs": [],
   "source": [
    "\n"
   ]
  },
  {
   "cell_type": "code",
   "execution_count": null,
   "id": "1c84e439",
   "metadata": {},
   "outputs": [],
   "source": []
  },
  {
   "cell_type": "markdown",
   "id": "1b084673",
   "metadata": {},
   "source": [
    "## 1. How to Create Lists?\n",
    ">- **A Python List is a numerically ordered sequence of elements that can store multiple items of heterogeneous types and allows duplicate elements.**\n",
    ">- **A Python List can be created by placing comma separated values in square brackets.**"
   ]
  },
  {
   "cell_type": "code",
   "execution_count": 37,
   "id": "039d0884",
   "metadata": {},
   "outputs": [
    {
     "name": "stdout",
     "output_type": "stream",
     "text": [
      "[1, 2, 3, 4, 5]\n",
      "[3.7, 6.5, 3.8, 7.95]\n",
      "['hello', 'this', 'F', 'good show']\n",
      "[True, False, True]\n",
      "[]\n",
      "<class 'list'>\n"
     ]
    }
   ],
   "source": [
    "# It allows us to store elements of different data types (number, boolean, string, list) in one container.\n",
    "\n",
    "list1 = [1,2,3,4,5]   #list of integers\n",
    "print(list1)\n",
    "\n",
    "list2 = [3.7, 6.5, 3.8, 7.95 ]   #list of floats\n",
    "print(list2)\n",
    "\n",
    "list3 = [\"hello\", \"this\", \"F\", \"good show\"]   #list of strings\n",
    "print(list3)\n",
    "\n",
    "list4 = [True, False, True]   #list of boolean\n",
    "print(list4)\n",
    "\n",
    "list5 = []   #this will create an empty list\n",
    "print(list5)\n",
    "\n",
    "print(type(list5))"
   ]
  },
  {
   "cell_type": "code",
   "execution_count": 38,
   "id": "94f48a41",
   "metadata": {},
   "outputs": [
    {
     "name": "stdout",
     "output_type": "stream",
     "text": [
      "['class', 30, 5.5, [10, 'learning']]\n"
     ]
    }
   ],
   "source": [
    "# Nested list: list can also have another list as an item\n",
    "list1 = [\"class\", 30, 5.5, [10,'learning']]\n",
    "print(list1)"
   ]
  },
  {
   "cell_type": "code",
   "execution_count": 39,
   "id": "e94134f3",
   "metadata": {},
   "outputs": [
    {
     "name": "stdout",
     "output_type": "stream",
     "text": [
      "[]\n"
     ]
    }
   ],
   "source": [
    "# we can create empty list\n",
    "empty_list = []\n",
    "print (empty_list)"
   ]
  },
  {
   "cell_type": "code",
   "execution_count": 40,
   "id": "2ad6aae6",
   "metadata": {},
   "outputs": [
    {
     "name": "stdout",
     "output_type": "stream",
     "text": [
      "[1, 2, 3, 4, 5]\n",
      "['class', 30, 5.5, [10, 'learning']]\n",
      "[]\n"
     ]
    }
   ],
   "source": [
    "#printing multiple lists\n",
    "list1 = [1,2,3,4,5]\n",
    "list2 = [\"class\", 30, 5.5, [10,'learning']]\n",
    "empty_list = []\n",
    "\n",
    "print(list1, list2, empty_list, sep='\\n')"
   ]
  },
  {
   "cell_type": "code",
   "execution_count": null,
   "id": "3f7c93d4",
   "metadata": {},
   "outputs": [],
   "source": []
  },
  {
   "cell_type": "markdown",
   "id": "7d0f3522",
   "metadata": {},
   "source": [
    "## 2. Proof of concepts"
   ]
  },
  {
   "cell_type": "markdown",
   "id": "c156f685",
   "metadata": {},
   "source": [
    "### a. Lists are heterogeneous\n",
    "- Lists are heterogeneous, as their elements/items can be of any data type"
   ]
  },
  {
   "cell_type": "code",
   "execution_count": 41,
   "id": "7e92e8e2",
   "metadata": {},
   "outputs": [
    {
     "name": "stdout",
     "output_type": "stream",
     "text": [
      "list1:  ['class', 30, 5.5]\n"
     ]
    }
   ],
   "source": [
    "list1 = [\"class\", 30, 5.5]\n",
    "print(\"list1: \", list1)"
   ]
  },
  {
   "cell_type": "markdown",
   "id": "2f6c2cd9",
   "metadata": {},
   "source": [
    "### b. Lists are ordered\n",
    "- Lists are ordered means every element is associated by an index\n",
    "- Every time you access list elements they will show up in same sequence. \n",
    "- Moreover, two lists having same elements in different order are not same."
   ]
  },
  {
   "cell_type": "code",
   "execution_count": 42,
   "id": "4f47fa01",
   "metadata": {},
   "outputs": [
    {
     "data": {
      "text/plain": [
       "(140577095266368, 140577095265728, False, True)"
      ]
     },
     "execution_count": 42,
     "metadata": {},
     "output_type": "execute_result"
    }
   ],
   "source": [
    "x = [1, 2, 3]\n",
    "y = [1, 2, 3]\n",
    "id(x), id(y), x is y, x==y"
   ]
  },
  {
   "cell_type": "code",
   "execution_count": 43,
   "id": "55b81f10",
   "metadata": {},
   "outputs": [
    {
     "data": {
      "text/plain": [
       "(140577095206592, 140577095190848, False, False)"
      ]
     },
     "execution_count": 43,
     "metadata": {},
     "output_type": "execute_result"
    }
   ],
   "source": [
    "a = [1, 2, 3]\n",
    "b = [2, 3, 1]\n",
    "id(a), id(b), a is b, a == b"
   ]
  },
  {
   "cell_type": "markdown",
   "id": "ada9f0af",
   "metadata": {},
   "source": [
    "### c. Lists are mutable\n",
    "- We have seen in previous session that Strings are **immutable**, i.e., we cannot change the contents of a string, however, we can assign an entirely new string to a variable\n",
    "- List on the contrary are **mutable**, i.e., once a List object is created, you can change an element of the list using the index `[]` and assignment `=' operator"
   ]
  },
  {
   "cell_type": "code",
   "execution_count": 44,
   "id": "0d3be3f7",
   "metadata": {},
   "outputs": [
    {
     "name": "stdout",
     "output_type": "stream",
     "text": [
      "numbers:  [10, 20, 555, 40, 50]\n"
     ]
    }
   ],
   "source": [
    "numbers = [10, 20, 30, 40, 50]\n",
    "numbers[2] = 555\n",
    "print(\"numbers: \", numbers)"
   ]
  },
  {
   "cell_type": "markdown",
   "id": "9af7bd55",
   "metadata": {},
   "source": [
    "### d. Lists can have duplicate emements"
   ]
  },
  {
   "cell_type": "code",
   "execution_count": 45,
   "id": "c123261e",
   "metadata": {},
   "outputs": [
    {
     "name": "stdout",
     "output_type": "stream",
     "text": [
      "['Amna', 'Noor', 'Hina', 'Amna', 'warda']\n"
     ]
    }
   ],
   "source": [
    "# lists allow duplicate elements\n",
    "names = ['Amna', 'Noor', 'Hina', 'Amna', 'warda']\n",
    "print(names)"
   ]
  },
  {
   "cell_type": "markdown",
   "id": "9f2f0d69",
   "metadata": {},
   "source": [
    "### e. Lists can be nested to arbitrary depth\n",
    "- You can have list within list and that can be done to an arbitrary depth. You are only restricted to the available memory on your system"
   ]
  },
  {
   "cell_type": "code",
   "execution_count": 46,
   "id": "1ec65f5e",
   "metadata": {},
   "outputs": [
    {
     "data": {
      "text/plain": [
       "([1, 2, 3, [4, 5], [6, 7, 8, 9], 10, 11],\n",
       " [1, 2, 3, [4, 5, [6, 7, 8, [9, 10, 11]]]])"
      ]
     },
     "execution_count": 46,
     "metadata": {},
     "output_type": "execute_result"
    }
   ],
   "source": [
    "# A list having two sub-lists within it\n",
    "a = [1,2,3,[4,5],[6,7,8,9],10,11]\n",
    "\n",
    "# A list having a sublist, which is further having a sublist and that again having a sublist\n",
    "b = [1,2,3,[4,5,[6,7,8,[9,10,11]]]]\n",
    "a, b"
   ]
  },
  {
   "cell_type": "markdown",
   "id": "ae05eb7d",
   "metadata": {},
   "source": [
    "### f. Packing and Unpacking Lists"
   ]
  },
  {
   "cell_type": "code",
   "execution_count": 47,
   "id": "01de36b2",
   "metadata": {},
   "outputs": [
    {
     "name": "stdout",
     "output_type": "stream",
     "text": [
      "learning with me\n",
      "<class 'str'>\n"
     ]
    }
   ],
   "source": [
    "# you can unpack list elements\n",
    "mylist = ['learning', 'is', 'fun', 'with', 'me']\n",
    "a, b, c, d, e = mylist # the number of variables on the left must match the number of elements in the list\n",
    "print (a, d, e)\n",
    "print(type(a))"
   ]
  },
  {
   "cell_type": "code",
   "execution_count": 48,
   "id": "44a49015",
   "metadata": {},
   "outputs": [
    {
     "name": "stdout",
     "output_type": "stream",
     "text": [
      "['learning', 'is', 'fun', 'with', 'me']\n",
      "<class 'list'>\n"
     ]
    }
   ],
   "source": [
    "# you can pack individual elements to a list\n",
    "tuple1 = a,b,c,d,e\n",
    "mylist2 = list(tuple1)\n",
    "print(mylist2)\n",
    "print(type(mylist2))"
   ]
  },
  {
   "cell_type": "code",
   "execution_count": 49,
   "id": "2aff9024",
   "metadata": {},
   "outputs": [
    {
     "data": {
      "text/plain": [
       "tuple"
      ]
     },
     "execution_count": 49,
     "metadata": {},
     "output_type": "execute_result"
    }
   ],
   "source": [
    "tuple1 = a,b,c,d,e\n",
    "tuple1\n",
    "type(tuple1)"
   ]
  },
  {
   "cell_type": "markdown",
   "id": "3a9bc33c",
   "metadata": {},
   "source": [
    "## 3. Different ways to access elements of a list\n",
    "- Since Lists like Strings are of type sequence, and any element within a sequence can be accessed by entrying an index within square brackets. So naturally this must work for Lists as well\n",
    "- Similarly, if we want to find out the index of a specific item/element, we can use the `index()` method of List class"
   ]
  },
  {
   "cell_type": "code",
   "execution_count": 50,
   "id": "a13723cf",
   "metadata": {},
   "outputs": [
    {
     "name": "stdout",
     "output_type": "stream",
     "text": [
      "[10, 'learning']\n",
      "a\n",
      "learning\n"
     ]
    }
   ],
   "source": [
    "#You can access elements of list using indexing which starts from zero\n",
    "list1 = [\"class\", 30, 5.5, [10,'learning']]\n",
    "print(list1[3])\n",
    "\n",
    "#accessing Nested list element\n",
    "print(list1[0][2])              #accessing third element of string at index 0\n",
    "print(list1[3][1])              #accessing second element of Nested list"
   ]
  },
  {
   "cell_type": "code",
   "execution_count": 51,
   "id": "1dc4b64d",
   "metadata": {},
   "outputs": [
    {
     "name": "stdout",
     "output_type": "stream",
     "text": [
      "[10, 'learning']\n",
      "5.5\n"
     ]
    }
   ],
   "source": [
    "#Negative indexing starts looking at the list from the right hand side\n",
    "list1 = [\"class\", 30, 5.5, [10,'learning']]\n",
    "print(list1[-1])                #accessing last element\n",
    "print(list1[-2])                #accessing second last element"
   ]
  },
  {
   "cell_type": "markdown",
   "id": "1a5aaa3f",
   "metadata": {},
   "source": [
    "## 4. Slicing Lists\n",
    "- Like anyother sequence object we can perform slicing with lists as well.\n",
    "- Slicing is the process of obtaining a portion of a list by using its indices.\n",
    "- Given a list, we can use the following template to slice it and obtain a sublist:\n",
    "```\n",
    "mylist[start:end:step]\n",
    "```\n",
    "\n",
    "- **start** is the index from where we want the sublist to start. If start is not provided, slicing starts from the beginning.\n",
    "- **end** is the index where we want our sublist to end (not inclusive in the sublist). If end is not provided, slicing goes till the last element of the list.\n",
    "- **step** is the step through which we want to skip elements in the list. The default step is 1, so we iterate through every element of the list."
   ]
  },
  {
   "cell_type": "code",
   "execution_count": 52,
   "id": "3f66a55d",
   "metadata": {},
   "outputs": [
    {
     "data": {
      "text/plain": [
       "['a', 'b', 'c', 'd', 'e', 'f', 'g', 'h', 'i']"
      ]
     },
     "execution_count": 52,
     "metadata": {},
     "output_type": "execute_result"
    }
   ],
   "source": [
    "list1 = ['a','b','c','d','e','f','g','h','i']\n",
    "list1"
   ]
  },
  {
   "cell_type": "code",
   "execution_count": 53,
   "id": "3c889b35",
   "metadata": {},
   "outputs": [
    {
     "data": {
      "text/plain": [
       "['a', 'b', 'c', 'd', 'e', 'f', 'g', 'h', 'i']"
      ]
     },
     "execution_count": 53,
     "metadata": {},
     "output_type": "execute_result"
    }
   ],
   "source": [
    "list1[::]"
   ]
  },
  {
   "cell_type": "code",
   "execution_count": 54,
   "id": "d35ea182",
   "metadata": {},
   "outputs": [
    {
     "data": {
      "text/plain": [
       "['d', 'e', 'f', 'g', 'h', 'i']"
      ]
     },
     "execution_count": 54,
     "metadata": {},
     "output_type": "execute_result"
    }
   ],
   "source": [
    "list1[3:]"
   ]
  },
  {
   "cell_type": "code",
   "execution_count": 55,
   "id": "bfed2f17",
   "metadata": {},
   "outputs": [
    {
     "data": {
      "text/plain": [
       "['a', 'b', 'c', 'd']"
      ]
     },
     "execution_count": 55,
     "metadata": {},
     "output_type": "execute_result"
    }
   ],
   "source": [
    "list1[:4]"
   ]
  },
  {
   "cell_type": "code",
   "execution_count": 56,
   "id": "a20b17c2",
   "metadata": {},
   "outputs": [
    {
     "data": {
      "text/plain": [
       "['c', 'd', 'e']"
      ]
     },
     "execution_count": 56,
     "metadata": {},
     "output_type": "execute_result"
    }
   ],
   "source": [
    "list1[2:5]"
   ]
  },
  {
   "cell_type": "code",
   "execution_count": 57,
   "id": "8b6a1a70",
   "metadata": {},
   "outputs": [
    {
     "data": {
      "text/plain": [
       "['a', 'b', 'c', 'd', 'e', 'f', 'g']"
      ]
     },
     "execution_count": 57,
     "metadata": {},
     "output_type": "execute_result"
    }
   ],
   "source": [
    "list1[:-2]"
   ]
  },
  {
   "cell_type": "code",
   "execution_count": 58,
   "id": "a990e1a4",
   "metadata": {},
   "outputs": [
    {
     "data": {
      "text/plain": [
       "'i'"
      ]
     },
     "execution_count": 58,
     "metadata": {},
     "output_type": "execute_result"
    }
   ],
   "source": [
    "list1[-1]"
   ]
  },
  {
   "cell_type": "code",
   "execution_count": 59,
   "id": "f414c282",
   "metadata": {},
   "outputs": [
    {
     "name": "stdout",
     "output_type": "stream",
     "text": [
      "['a', 'b', 'c', 'd', 'e', 'f', 'g', 'h', 'i']\n",
      "['a', 'b', 'c', 'd', 'e', 'f', 'g', 'h', 'i']\n",
      "['a', 'c', 'e', 'g', 'i']\n",
      "['a', 'd', 'g']\n"
     ]
    }
   ],
   "source": [
    "# Slicing by using strides\n",
    "list1 = ['a','b','c','d','e','f','g','h','i']\n",
    "print(list1[::])  # A default step of 1\n",
    "print(list1[::1])  # A step of 1\n",
    "print(list1[::2])  # A step of 2\n",
    "print(list1[::3])  # A step of 3"
   ]
  },
  {
   "cell_type": "code",
   "execution_count": 60,
   "id": "09a5e57c",
   "metadata": {},
   "outputs": [
    {
     "name": "stdout",
     "output_type": "stream",
     "text": [
      "['i', 'h', 'g', 'f', 'e', 'd', 'c', 'b', 'a']\n",
      "['f', 'e', 'd', 'c']\n",
      "[]\n",
      "['i', 'g', 'e', 'c', 'a']\n"
     ]
    }
   ],
   "source": [
    "# Reverse slicing\n",
    "list1 = ['a','b','c','d','e','f','g','h','i']\n",
    "print(list1[::-1]) # Take 1 step back each time\n",
    "print(list1[5:1:-1]) # Take 1 step back each time\n",
    "#if start is less than end in case of a negative step, it will return empty string\n",
    "print(list1[2:10:-1])\n",
    "print(list1[::-2]) # Take 2 steps back"
   ]
  },
  {
   "cell_type": "markdown",
   "id": "17fd66ae",
   "metadata": {},
   "source": [
    "Here are some experiments you should try out:\n",
    "\n",
    "* Try setting one or both indices of the range are larger than the size of the list, e.g., `a_list[2:10]`\n",
    "* Try setting the start index of the range to be larger than the end index, e.g., `a_list[12:10]`\n",
    "* Try leaving out the start or end index of a range, e.g., `a_list[2:]` or `a_list[:5]`\n",
    "* Try using negative indices for the range, e.g., `a_list[-2:-5]` or `a_list[-5:-2]` (can you explain the results?)\n",
    "\n",
    "> The flexible and interactive nature of Jupyter notebooks makes them an excellent tool for learning and experimentation. If you are new to Python, you can resolve most questions as soon as they arise simply by typing the code into a cell and executing it. **Let your curiosity run wild, discover what Python is capable of and what it isn't!**"
   ]
  },
  {
   "cell_type": "code",
   "execution_count": 61,
   "id": "51f41963",
   "metadata": {},
   "outputs": [
    {
     "name": "stdout",
     "output_type": "stream",
     "text": [
      "['a', 'd', 'g']\n",
      "['d', 'e', 'f']\n",
      "[]\n",
      "['i', 'h']\n"
     ]
    }
   ],
   "source": [
    "list1 = ['a','b','c','d','e','f','g','h','i']\n",
    "\n",
    "print(list1[::3])\n",
    "print(list1[3:6])\n",
    "print(list1[2:8:-1])\n",
    "print(list1[-1:-3:-1])"
   ]
  },
  {
   "cell_type": "code",
   "execution_count": null,
   "id": "8adafa73",
   "metadata": {},
   "outputs": [],
   "source": []
  },
  {
   "cell_type": "markdown",
   "id": "c7eb6656",
   "metadata": {},
   "source": [
    "## 5. List Concatenation and Repetition"
   ]
  },
  {
   "cell_type": "markdown",
   "id": "f43bd1d7",
   "metadata": {},
   "source": [
    "### a. Concatenating Lists\n",
    "- Like Strings, the `+` operator can be used to concatenate two or more lists"
   ]
  },
  {
   "cell_type": "code",
   "execution_count": 62,
   "id": "caa21630",
   "metadata": {},
   "outputs": [
    {
     "data": {
      "text/plain": [
       "([1, 2, 3], [1, 2, 3, 4, 5], [0, 1, 2, 3, 4, 5])"
      ]
     },
     "execution_count": 62,
     "metadata": {},
     "output_type": "execute_result"
    }
   ],
   "source": [
    "# Add some elements to the end of an existing list using concatenation operator\n",
    "a = [1,2,3]\n",
    "b = a + [4,5]\n",
    "# Add some elements to the beginning of an existing list using concatenation operator\n",
    "c = [0] + b\n",
    "a, b, c"
   ]
  },
  {
   "cell_type": "code",
   "execution_count": 63,
   "id": "1475987e",
   "metadata": {},
   "outputs": [
    {
     "name": "stdout",
     "output_type": "stream",
     "text": [
      "['fruits', 'bread', 'veggies', 'meat', 'spices', 'burger']\n"
     ]
    }
   ],
   "source": [
    "# use + operator to concatenate two lists\n",
    "food_items1 = ['fruits', 'bread', 'veggies'] \n",
    "food_items2 = ['meat', 'spices', 'burger']\n",
    "food = food_items1 + food_items2\n",
    "print(food)"
   ]
  },
  {
   "cell_type": "code",
   "execution_count": 64,
   "id": "a7f2e38e",
   "metadata": {},
   "outputs": [
    {
     "name": "stdout",
     "output_type": "stream",
     "text": [
      "[5, 3.4, 'hello', 31, 9.7, 'bye']\n"
     ]
    }
   ],
   "source": [
    "# You can concatenate two heterogeneous lists\n",
    "list1 = [5, 3.4, 'hello']\n",
    "list2 = [31, 9.7, 'bye']\n",
    "list3 = list1 + list2\n",
    "print(list3)"
   ]
  },
  {
   "cell_type": "code",
   "execution_count": 65,
   "id": "d56e6eb4",
   "metadata": {},
   "outputs": [
    {
     "name": "stdout",
     "output_type": "stream",
     "text": [
      "[1, 2, 3, 4, 5, 6, [7, 8]]\n"
     ]
    }
   ],
   "source": [
    "num1 = [1,2,3]\n",
    "num2 = num1 + [4, 5, 6, [7, 8]]\n",
    "print (num2)"
   ]
  },
  {
   "cell_type": "markdown",
   "id": "38a33c4d",
   "metadata": {},
   "source": [
    "### b. Replicating Lists\n",
    "- Like Strings, the `*` operator can be used to repeat or replicate a list multiple times"
   ]
  },
  {
   "cell_type": "code",
   "execution_count": 66,
   "id": "69d343d0",
   "metadata": {},
   "outputs": [
    {
     "name": "stdout",
     "output_type": "stream",
     "text": [
      "['Amna', 'noor', 'warda', 'Amna', 'noor', 'warda', 'Amna', 'noor', 'warda']\n"
     ]
    }
   ],
   "source": [
    "# use list * n syntax to create large lists by repeating the list n times\n",
    "name = ['Amna', 'noor', 'warda']\n",
    "a = name * 3\n",
    "print(a)"
   ]
  },
  {
   "cell_type": "code",
   "execution_count": 67,
   "id": "ca4178e8",
   "metadata": {},
   "outputs": [
    {
     "name": "stdout",
     "output_type": "stream",
     "text": [
      "['A', 'A', 'A', 'A', 'A', 'A', 'A', 'A', 'A', 'A', 'A', 'A', 'A', 'A', 'A', 'A', 'A', 'A', 'A', 'A', 'A', 'A', 'A', 'A', 'A', 'A', 'A', 'A', 'A', 'A', 'A', 'A', 'A', 'A', 'A', 'A', 'A', 'A', 'A', 'A', 'A', 'A', 'A', 'A', 'A', 'A', 'A', 'A', 'A', 'A', 'A', 'A', 'A', 'A', 'A', 'A', 'A', 'A', 'A', 'A', 'A', 'A', 'A', 'A', 'A', 'A', 'A', 'A', 'A', 'A', 'A', 'A', 'A', 'A', 'A', 'A', 'A', 'A', 'A', 'A', 'A', 'A', 'A', 'A', 'A', 'A', 'A', 'A', 'A', 'A', 'A', 'A', 'A', 'A', 'A', 'A', 'A', 'A', 'A', 'A']\n"
     ]
    }
   ],
   "source": [
    "#list of 100 A's\n",
    "buf = ['A']\n",
    "newbuf = buf * 100\n",
    "print(newbuf)"
   ]
  },
  {
   "cell_type": "markdown",
   "id": "051ca5c4",
   "metadata": {},
   "source": [
    "## 6. Modifying/Adding elements to a list\n",
    "\n",
    "- We have worked on different methods of String class in our previous session. Similarly there are several built-in methods of the List class. \n",
    "> **Remember, unlike String methods, most methods of List class modify the original List rather than returning a new one.**\n",
    "- Lists are dynamic, as we write our Python program, we can actually make changes to our already created list, whithout having to go for compiling it again. \n",
    "- If we have to add certain elements to an already created list, the original list gorws dynamically without the need of compiling/running the program again (as in case of heap memory in C/C++)\n",
    "\n",
    "- We can use a list methods to perform various tasks on a list object and modify it. \n",
    "- Some list methods that can be used to alter a list are (append, insert, extend, remove, pop, clear, index, count, sort, reverse, split and join)\n",
    "- Check out some common list operations here: https://www.w3schools.com/python/python_ref_list.asp ."
   ]
  },
  {
   "cell_type": "markdown",
   "id": "07d915de",
   "metadata": {},
   "source": [
    "### a. Modifying/Adding elements to a list using [ ] operator"
   ]
  },
  {
   "cell_type": "code",
   "execution_count": 68,
   "id": "8c5a26e8",
   "metadata": {},
   "outputs": [
    {
     "data": {
      "text/plain": [
       "['data science', 'big data', 2, 5, 7]"
      ]
     },
     "execution_count": 68,
     "metadata": {},
     "output_type": "execute_result"
    }
   ],
   "source": [
    "mylist = ['data science', 'machine learning', 2, 5, 7]\n",
    "# Let us change the second element of this list\n",
    "mylist[1] = 'big data'\n",
    "mylist"
   ]
  },
  {
   "cell_type": "code",
   "execution_count": 69,
   "id": "8d5daca6",
   "metadata": {},
   "outputs": [
    {
     "data": {
      "text/plain": [
       "['english', 'urdu', 2, 5, 7]"
      ]
     },
     "execution_count": 69,
     "metadata": {},
     "output_type": "execute_result"
    }
   ],
   "source": [
    "# We can use the slice index to modify multiple list elements in one go\n",
    "mylist = ['data science', 'machine learning', 2, 5, 7]\n",
    "mylist[0:2] = ['english', 'urdu'] # Note we are replacing two elements with two elements\n",
    "mylist"
   ]
  },
  {
   "cell_type": "code",
   "execution_count": 70,
   "id": "f592e3b0",
   "metadata": {},
   "outputs": [
    {
     "data": {
      "text/plain": [
       "['BIG DATA', 2, 5, 7]"
      ]
     },
     "execution_count": 70,
     "metadata": {},
     "output_type": "execute_result"
    }
   ],
   "source": [
    "# We can replace more number of elements with lesser number of elements in a list\n",
    "mylist = ['data science', 'machine learning', 2, 5, 7]\n",
    "mylist[0:2] = ['BIG DATA'] # Note we are replacing two elements with one element\n",
    "mylist"
   ]
  },
  {
   "cell_type": "code",
   "execution_count": 71,
   "id": "bfe98d6d",
   "metadata": {},
   "outputs": [
    {
     "data": {
      "text/plain": [
       "[['math', 'stat'], 'machine learning', 2, 5, 7]"
      ]
     },
     "execution_count": 71,
     "metadata": {},
     "output_type": "execute_result"
    }
   ],
   "source": [
    "# We can replace one element with more number of elements in a list\n",
    "mylist = ['data science', 'machine learning', 2, 5, 7]\n",
    "mylist[0] = ['math', 'stat'] # Note we are replacing one element with two elements\n",
    "mylist"
   ]
  },
  {
   "cell_type": "markdown",
   "id": "abff04f8",
   "metadata": {},
   "source": [
    "- Note the elements have been added, but as a sub-list. The first element 'data science' is replaced by a sub-list having two elements 'math' and 'stat'\n",
    "- If you want the elements to be individually placed in the list do as follows:"
   ]
  },
  {
   "cell_type": "code",
   "execution_count": 72,
   "id": "57335de6",
   "metadata": {},
   "outputs": [
    {
     "data": {
      "text/plain": [
       "['math', 'stat', 'machine learning', 2, 5, 7]"
      ]
     },
     "execution_count": 72,
     "metadata": {},
     "output_type": "execute_result"
    }
   ],
   "source": [
    "mylist = ['data science', 'machine learning', 2, 5, 7]\n",
    "mylist[0:1] = ['math', 'stat'] # Note we using a slice instead of single index, although it means just zero\n",
    "mylist"
   ]
  },
  {
   "cell_type": "markdown",
   "id": "79302fb8",
   "metadata": {},
   "source": [
    "### b. Adding elements to a list using `list.append(value)` method\n",
    "- `list.append(value)` method is used when you want to add a single element at the end of the list\n",
    "- It is passed one argument which is the element to be inserted and returns none/void"
   ]
  },
  {
   "cell_type": "code",
   "execution_count": 73,
   "id": "ccc189c3",
   "metadata": {},
   "outputs": [
    {
     "data": {
      "text/plain": [
       "[2, 4, 6, 8, 4.631, 'hello']"
      ]
     },
     "execution_count": 73,
     "metadata": {},
     "output_type": "execute_result"
    }
   ],
   "source": [
    "list1 = [2, 4, 6, 8]\n",
    "list1.append(4.631)\n",
    "list1.append('hello')\n",
    "list1"
   ]
  },
  {
   "cell_type": "code",
   "execution_count": 74,
   "id": "58d270aa",
   "metadata": {},
   "outputs": [
    {
     "data": {
      "text/plain": [
       "[2, 4, 6, 8, [4.631, 'hello']]"
      ]
     },
     "execution_count": 74,
     "metadata": {},
     "output_type": "execute_result"
    }
   ],
   "source": [
    "# You cannot add multiple elements using append\n",
    "# If you try it will actually add those elements as a sub-list\n",
    "list1 = [2, 4, 6, 8]\n",
    "list1.append([4.631, 'hello'])\n",
    "list1"
   ]
  },
  {
   "cell_type": "markdown",
   "id": "602f23a5",
   "metadata": {},
   "source": [
    "### c. Adding elements to a list using `list.extend(sublist)` method\n",
    "- `list.extend(sublist)` method is used when you want to add multiple elements at the end of the list\n",
    "- It is passed a list to be added at the end and returns none/void"
   ]
  },
  {
   "cell_type": "code",
   "execution_count": 75,
   "id": "56fb204c",
   "metadata": {},
   "outputs": [
    {
     "data": {
      "text/plain": [
       "[2, 4, 6, 8, 4.631, 'hello']"
      ]
     },
     "execution_count": 75,
     "metadata": {},
     "output_type": "execute_result"
    }
   ],
   "source": [
    "list1 = [2, 4, 6, 8]\n",
    "list1.extend([4.631, 'hello'])\n",
    "list1"
   ]
  },
  {
   "cell_type": "code",
   "execution_count": 76,
   "id": "2f332a6b",
   "metadata": {},
   "outputs": [
    {
     "data": {
      "text/plain": [
       "['apple', 'banana', 'cherry', 'potato', 'tomato', 'radish']"
      ]
     },
     "execution_count": 76,
     "metadata": {},
     "output_type": "execute_result"
    }
   ],
   "source": [
    "# another example of extend()\n",
    "fruits = ['apple', 'banana', 'cherry']\n",
    "vegs = ['potato', 'tomato', 'radish']\n",
    "fruits.extend(vegs)\n",
    "fruits"
   ]
  },
  {
   "cell_type": "markdown",
   "id": "5825e5ec",
   "metadata": {},
   "source": [
    "### d. Adding elements to a list using `list.insert(index, value)` method\n",
    "- `list.insert(index, value)` method is used when you want to add an element at a specific location in the list\n",
    "- It is passed index and value and returns none/void"
   ]
  },
  {
   "cell_type": "code",
   "execution_count": 77,
   "id": "75276464",
   "metadata": {},
   "outputs": [
    {
     "name": "stdout",
     "output_type": "stream",
     "text": [
      "\n",
      "Original family list:  ['shahid', 'abu bakar', 'warda']\n",
      "After insert:  ['shahid', 'abu bakar', 'me', 'warda']\n"
     ]
    }
   ],
   "source": [
    "myfamily = [\"shahid\", 'abu bakar', 'warda']\n",
    "print(\"\\nOriginal family list: \", myfamily)\n",
    "myfamily.insert(2,'me')\n",
    "print(\"After insert: \", myfamily)"
   ]
  },
  {
   "cell_type": "code",
   "execution_count": 78,
   "id": "5c46f36a",
   "metadata": {},
   "outputs": [
    {
     "data": {
      "text/plain": [
       "['Amna', 'me', ['zainab', 'shahid'], 'Abu bakar']"
      ]
     },
     "execution_count": 78,
     "metadata": {},
     "output_type": "execute_result"
    }
   ],
   "source": [
    "# you can insert a sub-list\n",
    "myfamily = [\"Amna\", 'me', 'Abu bakar']\n",
    "myfamily.insert(2,['zainab','shahid'])\n",
    "myfamily"
   ]
  },
  {
   "cell_type": "markdown",
   "id": "9fa73c21",
   "metadata": {},
   "source": [
    "## 7. Removing elements from a list using `list.pop()` and `list.remove()` methods\n",
    "- Lists are dynamic, as we write our Python program, we can actually make changes to our already created list, whithout having to go for compiling it again. \n",
    "- If we have to remove certain elements from an already created list, the original list shrinks dynamically without the need of compiling/running the program again (as in case of heap memory in C/C++)"
   ]
  },
  {
   "cell_type": "markdown",
   "id": "e0675715",
   "metadata": {},
   "source": [
    "### a. Removing element from a List using `list.pop(index)` method\n",
    "- The `list.pop()` method without any argument removes the last item (right most element) in the list and returns it\n",
    "- If given an argument/index, will remove that item from list whose index is given and returns it"
   ]
  },
  {
   "cell_type": "code",
   "execution_count": 79,
   "id": "3c94a558",
   "metadata": {},
   "outputs": [
    {
     "name": "stdout",
     "output_type": "stream",
     "text": [
      "Original list:  ['learning', 'is', 'fun', 'with', 'me']\n",
      "\n",
      "After pop():  ['learning', 'is', 'fun', 'with']\n",
      "Element popped is:  me\n"
     ]
    }
   ],
   "source": [
    "list1 = ['learning', 'is', 'fun', 'with', 'me']\n",
    "print(\"Original list: \", list1)\n",
    "x  = list1.pop()\n",
    "print(\"\\nAfter pop(): \", list1)\n",
    "print(\"Element popped is: \", x)"
   ]
  },
  {
   "cell_type": "code",
   "execution_count": 80,
   "id": "bdf54c50",
   "metadata": {},
   "outputs": [
    {
     "name": "stdout",
     "output_type": "stream",
     "text": [
      "\n",
      "After pop(2):  ['learning', 'is', 'with']\n",
      "Element popped is:  fun\n"
     ]
    }
   ],
   "source": [
    "y = list1.pop(2)\n",
    "print(\"\\nAfter pop(2): \", list1)\n",
    "print(\"Element popped is: \", y)"
   ]
  },
  {
   "cell_type": "code",
   "execution_count": 81,
   "id": "4f40df7a",
   "metadata": {},
   "outputs": [
    {
     "name": "stdout",
     "output_type": "stream",
     "text": [
      "\n",
      "After pop(-2):  ['learning', 'with']\n",
      "Element popped is:  is\n"
     ]
    }
   ],
   "source": [
    "z = list1.pop(-2)\n",
    "print(\"\\nAfter pop(-2): \", list1)\n",
    "print(\"Element popped is: \", z)"
   ]
  },
  {
   "cell_type": "markdown",
   "id": "b8c7779a",
   "metadata": {},
   "source": [
    "### b. Removing element from a list using `list.remove(val)` method\n",
    "- The `list.remove(value)` method is used when you want to remove a specific element without returning it\n",
    "- It is passed exactly one argument, which is the value to be removed and returns none/void\n",
    "- In case of multiple occurrances, it removes the first occurrence of the element"
   ]
  },
  {
   "cell_type": "code",
   "execution_count": 82,
   "id": "c8e857eb",
   "metadata": {},
   "outputs": [
    {
     "name": "stdout",
     "output_type": "stream",
     "text": [
      "\n",
      "Original list:  ['learning', 'is', 'fun', 'with', 'me', 'yes', 'fun']\n",
      "After remove('fun'):  ['learning', 'is', 'with', 'me', 'yes', 'fun']\n",
      "Return value of remove() is:  None\n"
     ]
    }
   ],
   "source": [
    "list2 = ['learning', 'is', 'fun', 'with', 'me', 'yes', 'fun']\n",
    "print(\"\\nOriginal list: \", list2)\n",
    "\n",
    "x = list2.remove('fun')\n",
    "\n",
    "print(\"After remove('fun'): \", list2)\n",
    "print(\"Return value of remove() is: \", x)"
   ]
  },
  {
   "cell_type": "markdown",
   "id": "01df3a54",
   "metadata": {},
   "source": [
    "### c. Using `list.clear()` method to remove all the list elements"
   ]
  },
  {
   "cell_type": "code",
   "execution_count": 83,
   "id": "8fa39152",
   "metadata": {},
   "outputs": [
    {
     "name": "stdout",
     "output_type": "stream",
     "text": [
      "\n",
      "After clear() the list becomes empty:  []\n"
     ]
    }
   ],
   "source": [
    "list2 = ['learning', 'is', 'fun', 'with', 'me']\n",
    "list2.clear()\n",
    "print(\"\\nAfter clear() the list becomes empty: \", list2)"
   ]
  },
  {
   "cell_type": "markdown",
   "id": "d05f589a",
   "metadata": {},
   "source": [
    "### d. Using `del` Keyword to delete one or more list items or delete the list entirely from memory"
   ]
  },
  {
   "cell_type": "code",
   "execution_count": 84,
   "id": "0cbaf4fe",
   "metadata": {},
   "outputs": [
    {
     "data": {
      "text/plain": [
       "[1, 2, 3, 7, 8, 9]"
      ]
     },
     "execution_count": 84,
     "metadata": {},
     "output_type": "execute_result"
    }
   ],
   "source": [
    "# use del keyword to delete one or more list items by using index or to delete the list entirely from memory\n",
    "list3 = [1,2,3,4,5,6,7,8,9]\n",
    "del list3[3:6]\n",
    "list3"
   ]
  },
  {
   "cell_type": "code",
   "execution_count": 85,
   "id": "45992767",
   "metadata": {},
   "outputs": [
    {
     "name": "stdout",
     "output_type": "stream",
     "text": [
      "\n",
      "Original list [1, 2, 3, [53, 41, 99, 12], 8, 9]\n",
      "After del list1[3] the list becomes [1, 2, 3, 8, 9]\n"
     ]
    }
   ],
   "source": [
    "# use del keyword to delete one or more list items by using index or to delete the list entirely from memory\n",
    "list3 = [1,2,3,[53, 41, 99, 12], 8,9]\n",
    "print(\"\\nOriginal list\", list3)\n",
    "del list3[3]\n",
    "print(\"After del list1[3] the list becomes\", list3)"
   ]
  },
  {
   "cell_type": "code",
   "execution_count": 86,
   "id": "03410d17",
   "metadata": {},
   "outputs": [],
   "source": [
    "#to delete entire list\n",
    "mylist = ['learning', 'is', 'fun', 'with', 'me']\n",
    "del mylist\n",
    "#mylist"
   ]
  },
  {
   "cell_type": "markdown",
   "id": "42a04666",
   "metadata": {},
   "source": [
    "## 1. How to create Tuples?\n",
    "- A Tuple is created by placing comma separated values in parenthesis (or without prenthesis as well) "
   ]
  },
  {
   "cell_type": "code",
   "execution_count": 88,
   "id": "5cef4207",
   "metadata": {},
   "outputs": [
    {
     "name": "stdout",
     "output_type": "stream",
     "text": [
      "t1:  (1, 2, 3, 4, 5)\n",
      "t2:  (2.3, 5.6, 1.8)\n",
      "t3:  ('hello', 'this', 'F', 'good show')\n",
      "t4:  (True, False, True)\n",
      "Type of t4 is:  <class 'tuple'>\n"
     ]
    }
   ],
   "source": [
    "t1 = (1, 2, 3, 4, 5)   #tuple of integers\n",
    "t1 = 1, 2, 3, 4, 5\n",
    "print(\"t1: \", t1)\n",
    "\n",
    "t2 = (2.3, 5.6, 1.8)  #tuple of floats\n",
    "print(\"t2: \", t2)\n",
    "\n",
    "t3 = ('hello', 'this', 'F', 'good show') #tuple of strings\n",
    "print(\"t3: \", t3)\n",
    "\n",
    "t4 = (True, False, True)    # tuple of boolean values\n",
    "print(\"t4: \", t4)\n",
    "\n",
    "\n",
    "print(\"Type of t4 is: \", type(t4))"
   ]
  },
  {
   "cell_type": "code",
   "execution_count": 89,
   "id": "0031cb6e",
   "metadata": {},
   "outputs": [
    {
     "name": "stdout",
     "output_type": "stream",
     "text": [
      "t5:  ()\n"
     ]
    }
   ],
   "source": [
    "# creating empty tuple\n",
    "t5 = ()\n",
    "print(\"t5: \", t5)"
   ]
  },
  {
   "cell_type": "code",
   "execution_count": 90,
   "id": "3a5ba4ad",
   "metadata": {},
   "outputs": [
    {
     "name": "stdout",
     "output_type": "stream",
     "text": [
      "\n",
      "t6:  (25,)\n",
      "<class 'tuple'>\n"
     ]
    }
   ],
   "source": [
    "# to create a tuple with only one element is a bit tricky\n",
    "t6 = (25,)       # note the comma, without it, Python will take it as int/float/string and not tuple\n",
    "print(\"\\nt6: \", t6)\n",
    "print(type(t6))"
   ]
  },
  {
   "cell_type": "code",
   "execution_count": 91,
   "id": "8d3d561c",
   "metadata": {},
   "outputs": [
    {
     "name": "stdout",
     "output_type": "stream",
     "text": [
      "('class', 30, 5.5, (10, 'learning'))\n"
     ]
    }
   ],
   "source": [
    "# Nested Tuple: a tuple can also have another tuple as an item\n",
    "t1 = (\"class\", 30, 5.5, (10,'learning'))\n",
    "print(t1)"
   ]
  },
  {
   "cell_type": "code",
   "execution_count": 92,
   "id": "61d8963d",
   "metadata": {},
   "outputs": [
    {
     "name": "stdout",
     "output_type": "stream",
     "text": [
      "t1:  (1, 'Hello', [8, 'OK', 6], (1, 2, 'BYE'), 5.5)\n",
      "Type of t1 is:  <class 'tuple'>\n"
     ]
    }
   ],
   "source": [
    "# Nested tuple: A tuple can also have another tuple, or list as an item\n",
    "t1 = (1, \"Hello\", [8, 'OK', 6], (1, 2, 'BYE'), 5.5)\n",
    "print(\"t1: \", t1)\n",
    "print(\"Type of t1 is: \", type(t1))"
   ]
  },
  {
   "cell_type": "markdown",
   "id": "6bebace7",
   "metadata": {},
   "source": [
    "## 2. Proof of Concepts:"
   ]
  },
  {
   "cell_type": "markdown",
   "id": "d55174e8",
   "metadata": {},
   "source": [
    "### a. Tuples are Heterogeneous\n",
    "- Like Lists, Tuples are heterogeneous, as their elements/items can be of any data type"
   ]
  },
  {
   "cell_type": "code",
   "execution_count": 93,
   "id": "5e68cc14",
   "metadata": {},
   "outputs": [
    {
     "name": "stdout",
     "output_type": "stream",
     "text": [
      "t1:  ('Amna', 30, 5.5)\n"
     ]
    }
   ],
   "source": [
    "t1 = (\"Amna\", 30, 5.5)\n",
    "print(\"t1: \", t1)"
   ]
  },
  {
   "cell_type": "markdown",
   "id": "8334933f",
   "metadata": {},
   "source": [
    "### b. Tuples are ordered\n",
    "- Like Lists Tuples are ordered.\n",
    "- Tuples are ordered means every element is associated by an index.\n",
    "- Every time you access tuple elements they will show up in same sequence. \n",
    "- Moreover, two tuples having same elements in different order are not same."
   ]
  },
  {
   "cell_type": "code",
   "execution_count": 94,
   "id": "107cc33f",
   "metadata": {},
   "outputs": [
    {
     "data": {
      "text/plain": [
       "(140577094974784, 140577095192128, False, False)"
      ]
     },
     "execution_count": 94,
     "metadata": {},
     "output_type": "execute_result"
    }
   ],
   "source": [
    "a = (1, 2, 3)\n",
    "b = (2, 3, 1)\n",
    "id(a), id(b), a is b, a == b"
   ]
  },
  {
   "cell_type": "markdown",
   "id": "1755b7f2",
   "metadata": {},
   "source": [
    "### c. Tuples are immutable\n",
    "- Unlike Lists Tuples are immutable\n",
    "- Means once a tuple object is created, you CANNOT make changes to it and modify its elements"
   ]
  },
  {
   "cell_type": "code",
   "execution_count": 95,
   "id": "50a12f26",
   "metadata": {},
   "outputs": [
    {
     "ename": "TypeError",
     "evalue": "'tuple' object does not support item assignment",
     "output_type": "error",
     "traceback": [
      "\u001b[0;31m---------------------------------------------------------------------------\u001b[0m",
      "\u001b[0;31mTypeError\u001b[0m                                 Traceback (most recent call last)",
      "\u001b[0;32m/var/folders/m_/dkp183594w5d5gh0rl8770hh0000gq/T/ipykernel_5047/769081338.py\u001b[0m in \u001b[0;36m<module>\u001b[0;34m\u001b[0m\n\u001b[1;32m      1\u001b[0m \u001b[0;31m# Tuples are immutable, i.e., tuple elements cannot be changed\u001b[0m\u001b[0;34m\u001b[0m\u001b[0;34m\u001b[0m\u001b[0m\n\u001b[1;32m      2\u001b[0m \u001b[0mnumbers\u001b[0m \u001b[0;34m=\u001b[0m \u001b[0;34m(\u001b[0m\u001b[0;36m10\u001b[0m\u001b[0;34m,\u001b[0m \u001b[0;36m20\u001b[0m\u001b[0;34m,\u001b[0m \u001b[0;36m30\u001b[0m\u001b[0;34m)\u001b[0m\u001b[0;34m\u001b[0m\u001b[0;34m\u001b[0m\u001b[0m\n\u001b[0;32m----> 3\u001b[0;31m \u001b[0mnumbers\u001b[0m\u001b[0;34m[\u001b[0m\u001b[0;36m2\u001b[0m\u001b[0;34m]\u001b[0m \u001b[0;34m=\u001b[0m \u001b[0;36m15\u001b[0m    \u001b[0;31m# this will generate an error\u001b[0m\u001b[0;34m\u001b[0m\u001b[0;34m\u001b[0m\u001b[0m\n\u001b[0m",
      "\u001b[0;31mTypeError\u001b[0m: 'tuple' object does not support item assignment"
     ]
    }
   ],
   "source": [
    "# Tuples are immutable, i.e., tuple elements cannot be changed\n",
    "numbers = (10, 20, 30)\n",
    "numbers[2] = 15    # this will generate an error"
   ]
  },
  {
   "cell_type": "code",
   "execution_count": 96,
   "id": "0cae16a0",
   "metadata": {},
   "outputs": [
    {
     "data": {
      "text/plain": [
       "(1, 2, 3)"
      ]
     },
     "execution_count": 96,
     "metadata": {},
     "output_type": "execute_result"
    }
   ],
   "source": [
    "# Tupple however can be reassigned\n",
    "numbers = (10, 20, 30)\n",
    "numbers = (1, 2, 3)  # A tupple can be reassigned\n",
    "numbers"
   ]
  },
  {
   "cell_type": "markdown",
   "id": "2f5b1f15",
   "metadata": {},
   "source": [
    "Remember the tuple object `(10,20,20)` in memory has become an orphan, since the numbers variable is now pointing to another tuple object `(1,2,3)` in memory. The unreferenced tuple object will be garbage collected by Python garbage collector"
   ]
  },
  {
   "cell_type": "code",
   "execution_count": 97,
   "id": "598ff7fc",
   "metadata": {},
   "outputs": [
    {
     "data": {
      "text/plain": [
       "(1, 'Hello', [8, 'Not OK', 6], (1, 2, 'BYE'), 5.5)"
      ]
     },
     "execution_count": 97,
     "metadata": {},
     "output_type": "execute_result"
    }
   ],
   "source": [
    "# A List within a tuple is still mutable\n",
    "t1 = (1, \"Hello\", [8, 'OK', 6], (1, 2, 'BYE'), 5.5)\n",
    "t1[2][1] = 'Not OK'         # will work fine\n",
    "t1"
   ]
  },
  {
   "cell_type": "markdown",
   "id": "0d57c86e",
   "metadata": {},
   "source": [
    "### d. Tuples can have duplicate elements"
   ]
  },
  {
   "cell_type": "code",
   "execution_count": 98,
   "id": "56217551",
   "metadata": {},
   "outputs": [
    {
     "name": "stdout",
     "output_type": "stream",
     "text": [
      "('Amna', 'noor', 'hina', 'Amna', 'warda')\n"
     ]
    }
   ],
   "source": [
    "# Like Lists, Tuples allow duplicate elements\n",
    "names = ('Amna', 'noor', 'hina', 'Amna', 'warda')\n",
    "print(names)"
   ]
  },
  {
   "cell_type": "markdown",
   "id": "f77e6f3c",
   "metadata": {},
   "source": [
    "### e. Tuples can be nested to arbitrary depth\n",
    "- Like Lists, you can have tuples within tuples and that can be done to an arbitrary depth. You are only restricted to the available memory on your system"
   ]
  },
  {
   "cell_type": "code",
   "execution_count": 99,
   "id": "868dd8d0",
   "metadata": {},
   "outputs": [
    {
     "data": {
      "text/plain": [
       "((1, 2, 3, (4, 5), (6, 7, 8, 9), 10, 11),\n",
       " (1, 2, 3, (4, 5, (6, 7, 8, (9, 10, 11)))))"
      ]
     },
     "execution_count": 99,
     "metadata": {},
     "output_type": "execute_result"
    }
   ],
   "source": [
    "# A tuple having two sub-tuples within it\n",
    "a = (1,2,3,(4,5),(6,7,8,9),10,11)\n",
    "# A tuple having a sub-tuple, which is further having a sub-tuple and that again having a subtuple\n",
    "b = (1,2,3,(4,5,(6,7,8,(9,10,11))))\n",
    "a, b"
   ]
  },
  {
   "cell_type": "markdown",
   "id": "af3e808d",
   "metadata": {},
   "source": [
    "### f. Packing and Unpacking Tuples"
   ]
  },
  {
   "cell_type": "code",
   "execution_count": 100,
   "id": "efa03c1c",
   "metadata": {},
   "outputs": [
    {
     "name": "stdout",
     "output_type": "stream",
     "text": [
      "learning fun me\n",
      "<class 'str'>\n"
     ]
    }
   ],
   "source": [
    "# you can unpack tuple elements\n",
    "t1 = ('learning', 'is', 'fun', 'with', 'me')\n",
    "a, b, c, d, e = t1 # the number of variables on the left must match the length of tuple\n",
    "print (a, c, e)\n",
    "print(type(a))"
   ]
  },
  {
   "cell_type": "code",
   "execution_count": 101,
   "id": "f213e199",
   "metadata": {},
   "outputs": [
    {
     "name": "stdout",
     "output_type": "stream",
     "text": [
      "('learning', 'is', 'fun', 'with', 'me')\n",
      "<class 'tuple'>\n"
     ]
    }
   ],
   "source": [
    "# you can pack individual elements to a tuple\n",
    "t1 = a,b,c,d,e\n",
    "print(t1)\n",
    "print(type(t1))"
   ]
  },
  {
   "cell_type": "markdown",
   "id": "bc22ed08",
   "metadata": {},
   "source": [
    "## 3. Different ways to access Elements of a Tuple\n",
    "- Since Tuple like List is of type Sequence, and any component within a sequence can be accessed by entrying an index within square brackets. So naturally this must work for Tuple as well\n",
    "- Similarly, if we want to find out the index of a specific item/character, we can use the `index()` method of Tuple class"
   ]
  },
  {
   "cell_type": "code",
   "execution_count": 102,
   "id": "10f02a06",
   "metadata": {},
   "outputs": [
    {
     "name": "stdout",
     "output_type": "stream",
     "text": [
      "5.5\n",
      "(10, 'learning')\n",
      "a\n",
      "learning\n"
     ]
    }
   ],
   "source": [
    "#You can access elements of tuple using indexing which starts from zero\n",
    "t1 = (\"class\", 30, 5.5, (10,'learning'))\n",
    "\n",
    "print(t1[2])       #accessing element of tuple at index2\n",
    "print(t1[3])       #accessing element of tuple at index3, which is again a tuple\n",
    "\n",
    "#accessing Nested tuple element\n",
    "print(t1[0][2])              #accessing third character of a tuple element at index 0\n",
    "print(t1[3][1])              #accessing second element of Nested tuple at index 3"
   ]
  },
  {
   "cell_type": "code",
   "execution_count": 103,
   "id": "9bc95166",
   "metadata": {},
   "outputs": [
    {
     "name": "stdout",
     "output_type": "stream",
     "text": [
      "(10, 'learning')\n",
      "5.5\n"
     ]
    }
   ],
   "source": [
    "#Negative indexing starts looking at the tuple from the right hand side\n",
    "t1 = (\"class\", 30, 5.5, (10,'learning'))\n",
    "print(t1[-1])                #accessing last element\n",
    "print(t1[-2])                #accessing second last element"
   ]
  },
  {
   "cell_type": "code",
   "execution_count": 105,
   "id": "56c1da1e",
   "metadata": {},
   "outputs": [
    {
     "name": "stdout",
     "output_type": "stream",
     "text": [
      "\n",
      "mytuple:  (27, 4.5, 'amna', 64, 'warda', 19, 'amna')\n",
      "mytuple.index(3):  2\n"
     ]
    }
   ],
   "source": [
    "# index(value) method is used when you know the tuple element and wants to get its index\n",
    "# index(value) method returns the index of the first matched item with its only argument\n",
    "mytuple = (27, 4.5, 'amna', 64, 'warda', 19, 'amna')\n",
    "print(\"\\nmytuple: \", mytuple)\n",
    "print(\"mytuple.index(3): \", mytuple.index('amna'))"
   ]
  },
  {
   "cell_type": "markdown",
   "id": "21850594",
   "metadata": {},
   "source": [
    "## 4. Slicing Tuples\n",
    "- Like anyother sequence object we can perform slicing with tuples as well.\n",
    "- Slicing is the process of obtaining a portion of a tuple by using its indices.\n",
    "- Given a tuple, we can use the following template to slice it and obtain a sublist:\n",
    "```\n",
    "mytuple[start:end:step]\n",
    "```\n",
    "\n",
    "- **start** is the index from where we want the subtuple to start.If start is not provided, slicing starts from the beginning.\n",
    "- **end** is the index where we want our subtuple to end (not inclusive in the subtuple). If end is not provided, slicing goes till the last element of the tuple.\n",
    "- **step** is the step through which we want to skip elements in the tuple. The default step is 1, so we iterate through every element of the tuple."
   ]
  },
  {
   "cell_type": "code",
   "execution_count": 106,
   "id": "51b9af0f",
   "metadata": {},
   "outputs": [
    {
     "data": {
      "text/plain": [
       "('a', 'b', 'c', 'd', 'e', 'f', 'g', 'h', 'i')"
      ]
     },
     "execution_count": 106,
     "metadata": {},
     "output_type": "execute_result"
    }
   ],
   "source": [
    "t1 = ('a','b','c','d','e','f','g','h','i')\n",
    "t1"
   ]
  },
  {
   "cell_type": "code",
   "execution_count": 107,
   "id": "722d5904",
   "metadata": {},
   "outputs": [
    {
     "data": {
      "text/plain": [
       "('a', 'b', 'c', 'd', 'e', 'f', 'g', 'h', 'i')"
      ]
     },
     "execution_count": 107,
     "metadata": {},
     "output_type": "execute_result"
    }
   ],
   "source": [
    "t1[::]"
   ]
  },
  {
   "cell_type": "code",
   "execution_count": 108,
   "id": "583248d3",
   "metadata": {},
   "outputs": [
    {
     "data": {
      "text/plain": [
       "('d', 'e', 'f', 'g', 'h', 'i')"
      ]
     },
     "execution_count": 108,
     "metadata": {},
     "output_type": "execute_result"
    }
   ],
   "source": [
    "t1[3:]"
   ]
  },
  {
   "cell_type": "code",
   "execution_count": 109,
   "id": "50207f14",
   "metadata": {},
   "outputs": [
    {
     "data": {
      "text/plain": [
       "('a', 'b', 'c', 'd')"
      ]
     },
     "execution_count": 109,
     "metadata": {},
     "output_type": "execute_result"
    }
   ],
   "source": [
    "t1[:4]"
   ]
  },
  {
   "cell_type": "code",
   "execution_count": 110,
   "id": "28237c00",
   "metadata": {},
   "outputs": [
    {
     "data": {
      "text/plain": [
       "('c', 'd', 'e')"
      ]
     },
     "execution_count": 110,
     "metadata": {},
     "output_type": "execute_result"
    }
   ],
   "source": [
    "t1[2:5]"
   ]
  },
  {
   "cell_type": "code",
   "execution_count": 111,
   "id": "80e0939c",
   "metadata": {},
   "outputs": [
    {
     "data": {
      "text/plain": [
       "('a', 'b', 'c', 'd', 'e', 'f', 'g')"
      ]
     },
     "execution_count": 111,
     "metadata": {},
     "output_type": "execute_result"
    }
   ],
   "source": [
    "t1[:-2]"
   ]
  },
  {
   "cell_type": "code",
   "execution_count": 112,
   "id": "407cee6d",
   "metadata": {},
   "outputs": [
    {
     "data": {
      "text/plain": [
       "'i'"
      ]
     },
     "execution_count": 112,
     "metadata": {},
     "output_type": "execute_result"
    }
   ],
   "source": [
    "t1[-1]"
   ]
  },
  {
   "cell_type": "code",
   "execution_count": 113,
   "id": "768d9ac3",
   "metadata": {},
   "outputs": [
    {
     "name": "stdout",
     "output_type": "stream",
     "text": [
      "('a', 'b', 'c', 'd', 'e', 'f', 'g', 'h', 'i')\n",
      "('a', 'b', 'c', 'd', 'e', 'f', 'g', 'h', 'i')\n",
      "('a', 'c', 'e', 'g', 'i')\n",
      "('a', 'd', 'g')\n"
     ]
    }
   ],
   "source": [
    "# Slicing by using strides\n",
    "print(t1[::])  # A default step of 1\n",
    "print(t1[::1])  # A step of 1\n",
    "print(t1[::2])  # A step of 2\n",
    "print(t1[::3])  # A step of 3"
   ]
  },
  {
   "cell_type": "code",
   "execution_count": 114,
   "id": "87ef106b",
   "metadata": {},
   "outputs": [
    {
     "name": "stdout",
     "output_type": "stream",
     "text": [
      "('i', 'h', 'g', 'f', 'e', 'd', 'c', 'b', 'a')\n",
      "('f', 'e', 'd', 'c')\n",
      "()\n",
      "('i', 'g', 'e', 'c', 'a')\n"
     ]
    }
   ],
   "source": [
    "# Reverse slicing\n",
    "print(t1[::-1]) # Take 1 step back each time\n",
    "print(t1[5:1:-1]) # Take 1 step back each time\n",
    "#if start is less than end in case of a negative step, it will return empty string\n",
    "print(t1[2:10:-1])\n",
    "print(t1[::-2]) # Take 2 steps back"
   ]
  },
  {
   "cell_type": "code",
   "execution_count": 115,
   "id": "017e7c59",
   "metadata": {},
   "outputs": [],
   "source": [
    "# You CANNOT use slice operator on the left side of assignment as tuple is immutable\n",
    "t1 = (1, 2, 3, 4, 5, 6, 7)\n",
    "#t1[2:4] = ['a', 'b', 'c']  # will generate an error as 'tuple' object does not support item assignment"
   ]
  },
  {
   "cell_type": "markdown",
   "id": "967855fd",
   "metadata": {},
   "source": [
    "## 5. Tuple Concatenation and Repetition\n",
    "- The `+` operator is used to concatenate two or more tuples\n",
    "- The `*` operator is used to repeat or replicate"
   ]
  },
  {
   "cell_type": "markdown",
   "id": "0b103c4f",
   "metadata": {},
   "source": [
    "### a. Concatenating Tuples"
   ]
  },
  {
   "cell_type": "code",
   "execution_count": 118,
   "id": "30b27d79",
   "metadata": {},
   "outputs": [
    {
     "data": {
      "text/plain": [
       "((1, 2, 3), (1, 2, 3, 4, 5), (0, 1, 2, 3, 4, 5))"
      ]
     },
     "execution_count": 118,
     "metadata": {},
     "output_type": "execute_result"
    }
   ],
   "source": [
    "# Add some elements to the end of an existing tuple using concatenation operator\n",
    "a = (1,2,3)\n",
    "b = a + (4,5)\n",
    "# Add some elements to the beginning of an existing tuple using concatenation operator\n",
    "c = (0,) + b\n",
    "a, b, c"
   ]
  },
  {
   "cell_type": "code",
   "execution_count": 119,
   "id": "f68b602e",
   "metadata": {},
   "outputs": [
    {
     "name": "stdout",
     "output_type": "stream",
     "text": [
      "('fruits', 'bread', 'veggies', 'meat', 'spices', 'burger')\n"
     ]
    }
   ],
   "source": [
    "# use + operator to concatenate two tuples\n",
    "food_items1 = ('fruits', 'bread', 'veggies')\n",
    "food_items2 = ('meat', 'spices', 'burger')\n",
    "food = food_items1 + food_items2\n",
    "print(food)"
   ]
  },
  {
   "cell_type": "code",
   "execution_count": 120,
   "id": "16ed9f29",
   "metadata": {},
   "outputs": [
    {
     "name": "stdout",
     "output_type": "stream",
     "text": [
      "(5, 3.4, 'hello', 31, 9.7, 'bye')\n"
     ]
    }
   ],
   "source": [
    "# You can concatenate two heterogeneous tuples\n",
    "t1 = (5, 3.4, 'hello')\n",
    "t2 = (31, 9.7, 'bye')\n",
    "t3 = t1 + t2\n",
    "print(t3)"
   ]
  },
  {
   "cell_type": "code",
   "execution_count": 121,
   "id": "218645a2",
   "metadata": {},
   "outputs": [
    {
     "name": "stdout",
     "output_type": "stream",
     "text": [
      "(1, 2, 3, 4, 5, 6, (7, 8))\n"
     ]
    }
   ],
   "source": [
    "num1 = (1,2,3)\n",
    "num2 = num1 + (4, 5, 6, (7, 8))\n",
    "print (num2)"
   ]
  },
  {
   "cell_type": "code",
   "execution_count": 122,
   "id": "d836a90f",
   "metadata": {},
   "outputs": [
    {
     "name": "stdout",
     "output_type": "stream",
     "text": [
      "('Amna', 'abu bakar', 'warda', 'Amna', 'abu bakar', 'warda', 'Amna', 'abu bakar', 'warda')\n"
     ]
    }
   ],
   "source": [
    "# use tuple * n syntax to create large tuples by repeating the tuple n times\n",
    "name = ('Amna', 'abu bakar', 'warda')\n",
    "a = name * 3\n",
    "print(a)"
   ]
  },
  {
   "cell_type": "code",
   "execution_count": 123,
   "id": "9cc8641b",
   "metadata": {},
   "outputs": [
    {
     "name": "stdout",
     "output_type": "stream",
     "text": [
      "('A', 'A', 'A', 'A', 'A', 'A', 'A', 'A', 'A', 'A', 'A', 'A', 'A', 'A', 'A', 'A', 'A', 'A', 'A', 'A', 'A', 'A', 'A', 'A', 'A', 'A', 'A', 'A', 'A', 'A', 'A', 'A', 'A', 'A', 'A', 'A', 'A', 'A', 'A', 'A', 'A', 'A', 'A', 'A', 'A', 'A', 'A', 'A', 'A', 'A', 'A', 'A', 'A', 'A', 'A', 'A', 'A', 'A', 'A', 'A', 'A', 'A', 'A', 'A', 'A', 'A', 'A', 'A', 'A', 'A', 'A', 'A', 'A', 'A', 'A', 'A', 'A', 'A', 'A', 'A', 'A', 'A', 'A', 'A', 'A', 'A', 'A', 'A', 'A', 'A', 'A', 'A', 'A', 'A', 'A', 'A', 'A', 'A', 'A', 'A')\n"
     ]
    },
    {
     "data": {
      "text/plain": [
       "tuple"
      ]
     },
     "execution_count": 123,
     "metadata": {},
     "output_type": "execute_result"
    }
   ],
   "source": [
    "#tuple of 100 A's\n",
    "buf = ('A',)\n",
    "newbuf = buf * 100\n",
    "print(newbuf)\n",
    "type(newbuf)"
   ]
  },
  {
   "cell_type": "markdown",
   "id": "9e6fbacf",
   "metadata": {},
   "source": [
    "## 6. Being immutable, you cannot add elements to a tuple (in list this is possible using `append`, `extend`, and `insert`)"
   ]
  },
  {
   "cell_type": "code",
   "execution_count": 124,
   "id": "37e66fb8",
   "metadata": {},
   "outputs": [
    {
     "name": "stdout",
     "output_type": "stream",
     "text": [
      "\n",
      " myfamily tuple:  ('shahid', 'warda', 'abu bakar')\n"
     ]
    },
    {
     "ename": "AttributeError",
     "evalue": "'tuple' object has no attribute 'insert'",
     "output_type": "error",
     "traceback": [
      "\u001b[0;31m---------------------------------------------------------------------------\u001b[0m",
      "\u001b[0;31mAttributeError\u001b[0m                            Traceback (most recent call last)",
      "\u001b[0;32m/var/folders/m_/dkp183594w5d5gh0rl8770hh0000gq/T/ipykernel_5047/2968417312.py\u001b[0m in \u001b[0;36m<module>\u001b[0;34m\u001b[0m\n\u001b[1;32m      1\u001b[0m \u001b[0mmyfamily\u001b[0m \u001b[0;34m=\u001b[0m \u001b[0;34m(\u001b[0m\u001b[0;34m\"shahid\"\u001b[0m\u001b[0;34m,\u001b[0m \u001b[0;34m'warda'\u001b[0m\u001b[0;34m,\u001b[0m \u001b[0;34m'abu bakar'\u001b[0m\u001b[0;34m)\u001b[0m\u001b[0;34m\u001b[0m\u001b[0;34m\u001b[0m\u001b[0m\n\u001b[1;32m      2\u001b[0m \u001b[0mprint\u001b[0m\u001b[0;34m(\u001b[0m\u001b[0;34m\"\\n myfamily tuple: \"\u001b[0m\u001b[0;34m,\u001b[0m \u001b[0mmyfamily\u001b[0m\u001b[0;34m)\u001b[0m\u001b[0;34m\u001b[0m\u001b[0;34m\u001b[0m\u001b[0m\n\u001b[0;32m----> 3\u001b[0;31m \u001b[0mmyfamily\u001b[0m\u001b[0;34m.\u001b[0m\u001b[0minsert\u001b[0m\u001b[0;34m(\u001b[0m\u001b[0;36m2\u001b[0m\u001b[0;34m,\u001b[0m\u001b[0;34m'Amna'\u001b[0m\u001b[0;34m)\u001b[0m \u001b[0;31m# will generate an error as tuple object has no attribute 'insert'\u001b[0m\u001b[0;34m\u001b[0m\u001b[0;34m\u001b[0m\u001b[0m\n\u001b[0m",
      "\u001b[0;31mAttributeError\u001b[0m: 'tuple' object has no attribute 'insert'"
     ]
    }
   ],
   "source": [
    "myfamily = (\"shahid\", 'warda', 'abu bakar')\n",
    "print(\"\\n myfamily tuple: \", myfamily)\n",
    "myfamily.insert(2,'me') # will generate an error as tuple object has no attribute 'insert'\n"
   ]
  },
  {
   "cell_type": "markdown",
   "id": "897105d8",
   "metadata": {},
   "source": [
    "## 7. Being immutable, you cannot remove elements from a tuple (in list this is possible using `pop` and `remove` methods)"
   ]
  },
  {
   "cell_type": "code",
   "execution_count": 131,
   "id": "2a0bd703",
   "metadata": {},
   "outputs": [],
   "source": [
    "tuple1 = ('learning', 'is', 'fun', 'with', 'me')\n",
    "\n",
    "#You cannot delete items from a tuple using del keyword\n",
    "#del tuple1[3]    # will generate an error as tuple object doesn't support item deletion\n",
    "\n",
    "# However, you can assign a new tuple object to the reference tuple1\n",
    "tuple1 = (1, 2, 3, 'me')\n",
    "# However, you can delete an entire tuple object using del keyword\n",
    "#del tuple1\n",
    "#print(tuple1)\n",
    "\n"
   ]
  },
  {
   "cell_type": "markdown",
   "id": "1f7e6b91",
   "metadata": {},
   "source": [
    "## 8. Converting String object to List/Tuple and vice-versa"
   ]
  },
  {
   "cell_type": "markdown",
   "id": "286cb89d",
   "metadata": {},
   "source": [
    "### a. Type Casting"
   ]
  },
  {
   "cell_type": "code",
   "execution_count": 132,
   "id": "56b0e9ee",
   "metadata": {},
   "outputs": [
    {
     "name": "stdout",
     "output_type": "stream",
     "text": [
      "Original string:  Learning is fun and its type is:   <class 'str'>\n",
      "t1:  ('L', 'e', 'a', 'r', 'n', 'i', 'n', 'g', ' ', 'i', 's', ' ', 'f', 'u', 'n') and its type is:   <class 'tuple'>\n"
     ]
    }
   ],
   "source": [
    "# convert a string into tuple using tuple()\n",
    "str1 = 'Learning is fun'    #this is a string\n",
    "\n",
    "print(\"Original string: \", str1, \"and its type is:  \", type(str1))\n",
    "t1 = tuple(str1)\n",
    "print(\"t1: \", t1, \"and its type is:  \", type(t1))"
   ]
  },
  {
   "cell_type": "markdown",
   "id": "a0bc5ba7",
   "metadata": {},
   "source": [
    "### b. Use `str.split()` to Split a Tuple into Strings\n",
    "- Used to tokenize a string based on some delimiter, which can be stored in a tuple\n",
    "- It returns a list, so we need to type cast the returned object to a tuple"
   ]
  },
  {
   "cell_type": "code",
   "execution_count": 133,
   "id": "af62a05f",
   "metadata": {},
   "outputs": [
    {
     "name": "stdout",
     "output_type": "stream",
     "text": [
      "('Learning', 'is', 'fun')\n",
      "<class 'tuple'>\n"
     ]
    }
   ],
   "source": [
    "str1 = 'Learning is fun'    #this is a string\n",
    "t1 = tuple(str1.split(' ')) # The split() method returns a list, which you can typecast to a tuple\n",
    "print(t1)\n",
    "print(type(t1))"
   ]
  },
  {
   "cell_type": "code",
   "execution_count": 134,
   "id": "37b5ba3e",
   "metadata": {},
   "outputs": [
    {
     "name": "stdout",
     "output_type": "stream",
     "text": [
      "('Data S', 'ien', 'e is GR8 Degree')\n",
      "<class 'tuple'>\n"
     ]
    }
   ],
   "source": [
    "str2 = \"Data Science is GR8 Degree\"    #this is a string\n",
    "t2 = tuple(str2.split('c'))\n",
    "print(t2)\n",
    "print(type(t2))"
   ]
  },
  {
   "cell_type": "markdown",
   "id": "8cbea971",
   "metadata": {},
   "source": [
    "### c. Use `str.join()` to Join Strings into a Tuple\n",
    "- The `str.join()` is the reverse of split() method, and is used to joing multiple strings by inserting the string in between on which this method is called\n",
    "- Remember, you can pass any iterable as argument to `str.join()` method"
   ]
  },
  {
   "cell_type": "code",
   "execution_count": 135,
   "id": "abc3617b",
   "metadata": {},
   "outputs": [
    {
     "data": {
      "text/plain": [
       "('This', 'is', 'getting', 'more', 'and', 'more', 'interesting')"
      ]
     },
     "execution_count": 135,
     "metadata": {},
     "output_type": "execute_result"
    }
   ],
   "source": [
    "t1 = ('This', 'is', 'getting', 'more', 'and', 'more', 'interesting')\n",
    "t1"
   ]
  },
  {
   "cell_type": "code",
   "execution_count": 136,
   "id": "133babc7",
   "metadata": {},
   "outputs": [
    {
     "data": {
      "text/plain": [
       "('This is getting more and more interesting', str)"
      ]
     },
     "execution_count": 136,
     "metadata": {},
     "output_type": "execute_result"
    }
   ],
   "source": [
    "str2 = ' '.join(t1)\n",
    "str2, type(str2)"
   ]
  },
  {
   "cell_type": "markdown",
   "id": "e203561b",
   "metadata": {},
   "source": [
    "## 10. Sorting a Tuple\n",
    "- Python’s built-in `sorted()` function can be used to sort iterable objects, such as lists, tuples, and dictionaries. - We have seen its usage in our Tuple session.\n",
    "- The `sorted()` function sorts the items of the specified iterable object and creates a new object with the newly sorted values.\n",
    "- It's syntax is as shown below:\n",
    "```\n",
    "    sorted(object, key=None, reverse=False)\n",
    "```\n",
    "- Where:\n",
    "    - `object`: the iterable object that you want to sort (required)\n",
    "    - `key`: the function that allows you to perform custom sort operations (optional)\n",
    "    - `reverse`: specifies whether the object should be sorted in descending order (optional)- default value is False"
   ]
  },
  {
   "cell_type": "code",
   "execution_count": 137,
   "id": "07b728b7",
   "metadata": {},
   "outputs": [
    {
     "name": "stdout",
     "output_type": "stream",
     "text": [
      "Original Tuple =  (3, 8, 1, 6, 0, 8, 4)\n",
      "Ascending Sort:  [0, 1, 3, 4, 6, 8, 8]\n",
      "Descending Sort:  [8, 8, 6, 4, 3, 1, 0]\n"
     ]
    }
   ],
   "source": [
    "# Sorting a Dictionary by it values with numeric values\n",
    "\n",
    "t1 = (3, 8, 1, 6, 0, 8, 4)\n",
    "\n",
    "print(\"Original Tuple = \", t1)\n",
    "\n",
    "\n",
    "list1 = sorted(t1)\n",
    "list2 = sorted(t1, reverse=True)\n",
    "\n",
    "print(\"Ascending Sort: \", list1)\n",
    "print(\"Descending Sort: \", list2)"
   ]
  },
  {
   "cell_type": "code",
   "execution_count": 138,
   "id": "273bff39",
   "metadata": {},
   "outputs": [
    {
     "name": "stdout",
     "output_type": "stream",
     "text": [
      "Original Tuple:  ('XYZ', 'ABC', 'MNO', 'DEF')\n",
      "Ascending Sort:  ['ABC', 'DEF', 'MNO', 'XYZ']\n",
      "Descending Sort:  ['XYZ', 'MNO', 'DEF', 'ABC']\n"
     ]
    }
   ],
   "source": [
    "# Sorting a tuple with string values\n",
    "\n",
    "t1 = (\"XYZ\", \"ABC\", \"MNO\", \"DEF\")\n",
    "print(\"Original Tuple: \", t1)\n",
    "\n",
    "list1 = sorted(t1)\n",
    "list2 = sorted(t1, reverse=True)\n",
    "\n",
    "print(\"Ascending Sort: \", list1)\n",
    "print(\"Descending Sort: \", list2)"
   ]
  },
  {
   "cell_type": "code",
   "execution_count": null,
   "id": "00232f40",
   "metadata": {},
   "outputs": [],
   "source": []
  }
 ],
 "metadata": {
  "kernelspec": {
   "display_name": "Python 3 (ipykernel)",
   "language": "python",
   "name": "python3"
  },
  "language_info": {
   "codemirror_mode": {
    "name": "ipython",
    "version": 3
   },
   "file_extension": ".py",
   "mimetype": "text/x-python",
   "name": "python",
   "nbconvert_exporter": "python",
   "pygments_lexer": "ipython3",
   "version": "3.9.13"
  }
 },
 "nbformat": 4,
 "nbformat_minor": 5
}
