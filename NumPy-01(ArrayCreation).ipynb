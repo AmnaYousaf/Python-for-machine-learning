{
 "cells": [
  {
   "cell_type": "markdown",
   "id": "0300e96a",
   "metadata": {},
   "source": [
    "<h1 align=\"center\">Lecture 3.1 (NumPy-01)</h1>"
   ]
  },
  {
   "cell_type": "markdown",
   "id": "97ea8f3a",
   "metadata": {},
   "source": [
    "# _01-NumPy-ArrayCreation.ipynb_"
   ]
  },
  {
   "cell_type": "markdown",
   "id": "1e4a4952",
   "metadata": {},
   "source": [
    "<img align=\"center\" width=\"400\" height=\"400\"  src=\"images/numpyintro.png\" > "
   ]
  },
  {
   "cell_type": "code",
   "execution_count": null,
   "id": "086481e2",
   "metadata": {},
   "outputs": [],
   "source": []
  },
  {
   "cell_type": "markdown",
   "id": "31768d90",
   "metadata": {},
   "source": [
    "# Learning agenda of this notebook\n",
    "1. Introduction to Numpy Library\n",
    "2. Array Creation using `np.array()` constructor\n",
    "3. Miscellaneous Array Creation Functions\n",
    "    - `np.zeros()`\n",
    "    - `np.ones()`\n",
    "    - `np.empty()`\n",
    "    - `np.full()`\n",
    "    - `np.eye()`\n",
    "    - `np.fromstring()`\n",
    "    - `np.arange()`\n",
    "    - `np.linspace()`\n",
    "    - `np.random.rand()`\n",
    "    - `np.random.randint()`\n",
    "    - `np.zeros_like()`"
   ]
  },
  {
   "cell_type": "markdown",
   "id": "40b0c277",
   "metadata": {},
   "source": [
    "## 1. Introduction to Numpy Library\n",
    "<img align=\"right\" width=\"500\" height=\"300\"  src=\"images/ndarrays.png\" > \n",
    "\n",
    "- *A **NumPy array** (https://numpy.org) is a numerically ordered sequence of elements stored contiguously in memory, that can store elements of homogeneous types (usually numbers but can be boolians, strings, or other objects), is iterable, mutable, non-growable/shrinkable and allows duplicate elements.*\n",
    "- Some attributes of NumPy Array:\n",
    ">- **ndim:** The number of dimensions, can be 1, 2, 3, ... N\n",
    ">- **axis:** Each dimension is called an axis: `axis 0` is the vertical axis, goes from top to bottom, represents the number of rows, `axis 1` is the horizontal axis, goes from left to right, represents the number of columns, `axis 2` is the number of columns along z axis\n",
    ">- **rank:** The number of axes is called the rank.\n",
    ">- **shape:** It is a tuple whose length is the rank and elements are dimension of each axis.\n",
    ">- **size:** It is the total number of elements, which is the product of all axis lengths.\n",
    ">- **itemsize:** It gives you the size in bytes of each element of the array (depends on dtype).\n",
    ">- **nbytes:** It gives you the total number of bytes occupied by entire array object in memory (size x itemsize)."
   ]
  },
  {
   "cell_type": "markdown",
   "id": "6f40ff95",
   "metadata": {},
   "source": [
    "To understand the internal memory layout of NumPy ndarray object, consider the four additional attributes:\n",
    "- A pointer, to block of data in RAM or in a memory-mapped file\n",
    "- A dtype, that describes fixed-size value cells in the array\n",
    "- A shape, which is a tuple indicating the array’s shape\n",
    "- A strides, which is a tuple of integers indicating the number of bytes to “step” in order to advance one element along a dimension (C-Type/Row-Major vs F-Type/Column-Major)\n",
    "    - Row-Major means that if you have a two-dimensional array of data, the values in each row of the array are stored in adjacent memory locations\n",
    "    - Column-Major means that if you have a two-dimensional array of data, the values in each column of the array are stored in adjacent memory locations\n",
    "    \n",
    "    \n",
    "    \n",
    ">- **data:** A pointer to block of data in RAM or in memory-mapped file. (Returns memory address)\n",
    ">- **dtype:** It gives you the dtype of the numPy array elements (fixed size value cells in memory)\n",
    ">- **shape:** It gives you a tuple indicating the array's shape\n",
    ">- **strides:** The strides attribute is a tuple of the same length as the number of axes (dimensions) of the array. The strides of an array tell us how many bytes we have to skip in memory to move to the next position along a certain axis. For example, in above 2-D array (shown in figure), we have to skip 4 bytes (1 value) to move to the next column, but 12 bytes (3 values) to get to the same position in the next row (for row-major).\n",
    "    - Row-Major means that if you have a two-dimensional array of data, the values in each row of the array are stored in adjacent memory locations\n",
    "    - Column-Major means that if you have a two-dimensional array of data, the values in each column of the array are stored in adjacent memory locations\n",
    ">- **flags:** It gives you information about the memory layout of the array."
   ]
  },
  {
   "cell_type": "code",
   "execution_count": 5,
   "id": "1fbb5aa0",
   "metadata": {},
   "outputs": [
    {
     "name": "stdout",
     "output_type": "stream",
     "text": [
      "Requirement already satisfied: pip in ./opt/anaconda3/lib/python3.9/site-packages (22.2.2)\n",
      "Collecting pip\n",
      "  Downloading pip-23.2.1-py3-none-any.whl (2.1 MB)\n",
      "\u001b[2K     \u001b[90m━━━━━━━━━━━━━━━━━━━━━━━━━━━━━━━━━━━━━━━━\u001b[0m \u001b[32m2.1/2.1 MB\u001b[0m \u001b[31m386.4 kB/s\u001b[0m eta \u001b[36m0:00:00\u001b[0m00:01\u001b[0m00:01\u001b[0m\n",
      "\u001b[?25hInstalling collected packages: pip\n",
      "  Attempting uninstall: pip\n",
      "    Found existing installation: pip 22.2.2\n",
      "    Uninstalling pip-22.2.2:\n",
      "      Successfully uninstalled pip-22.2.2\n",
      "Successfully installed pip-23.2.1\n"
     ]
    }
   ],
   "source": [
    "import sys\n",
    "!{sys.executable} -m pip install --upgrade pip"
   ]
  },
  {
   "cell_type": "code",
   "execution_count": 6,
   "id": "5e73fc8b",
   "metadata": {},
   "outputs": [
    {
     "name": "stdout",
     "output_type": "stream",
     "text": [
      "Requirement already satisfied: numpy in ./opt/anaconda3/lib/python3.9/site-packages (1.21.5)\r\n"
     ]
    }
   ],
   "source": [
    "# Unlike the other modules, we have been working so far, you have to download and install numPy\n",
    "# To install this library in Jupyter notebook\n",
    "import sys\n",
    "!{sys.executable} -m pip install numpy"
   ]
  },
  {
   "cell_type": "code",
   "execution_count": 7,
   "id": "6cbcf672",
   "metadata": {},
   "outputs": [
    {
     "data": {
      "text/plain": [
       "('1.21.5', ['/Users/amna/opt/anaconda3/lib/python3.9/site-packages/numpy'])"
      ]
     },
     "execution_count": 7,
     "metadata": {},
     "output_type": "execute_result"
    }
   ],
   "source": [
    "import numpy as np\n",
    "np.__version__ , np.__path__"
   ]
  },
  {
   "cell_type": "markdown",
   "id": "7032c0c3",
   "metadata": {},
   "source": [
    "## 2.  Array Creation using `np.array()` Constructor\n",
    "<img align=\"right\" width=\"500\" height=\"400\"  src=\"images/numpytypes.png\" > \n",
    "\n",
    "```\n",
    "np.array(seq, dtype)\n",
    "```\n",
    "- The only required argument is a sequence like object like a list from which to create an array\n",
    "- The optional `dtype` argument specifies the data type of the array objects. \n",
    "- For integer values it is normally int64\n",
    "- For float values it is normally float64.\n",
    "- You can mention `dtype` if you want to limit memory usage. "
   ]
  },
  {
   "cell_type": "markdown",
   "id": "d84bbafc",
   "metadata": {},
   "source": [
    "### a.  Creating an Empty NumPy Array"
   ]
  },
  {
   "cell_type": "code",
   "execution_count": 74,
   "id": "0af50ec2",
   "metadata": {},
   "outputs": [
    {
     "name": "stdout",
     "output_type": "stream",
     "text": [
      "[]\n",
      "<class 'numpy.ndarray'>\n"
     ]
    }
   ],
   "source": [
    "import numpy as np\n",
    "arr = np.array([])\n",
    "print(arr)\n",
    "print(type(arr))"
   ]
  },
  {
   "cell_type": "code",
   "execution_count": 9,
   "id": "4bbacc1d",
   "metadata": {},
   "outputs": [
    {
     "name": "stdout",
     "output_type": "stream",
     "text": [
      "array:  []\n",
      "arr.ndim:  1\n",
      "arr.shape:  (0,)\n",
      "arr.size:  0\n",
      "arr.dtype:  float64\n",
      "arr.itemsize:  8\n",
      "arr.nbytes:  0\n",
      "arr.data:  <memory at 0x7ff52e521700>\n",
      "arr.strides:  (8,)\n",
      "arr.flags: \n",
      "   C_CONTIGUOUS : True\n",
      "  F_CONTIGUOUS : True\n",
      "  OWNDATA : True\n",
      "  WRITEABLE : True\n",
      "  ALIGNED : True\n",
      "  WRITEBACKIFCOPY : False\n",
      "  UPDATEIFCOPY : False\n",
      "\n"
     ]
    }
   ],
   "source": [
    "print(\"array: \", arr)\n",
    "print(\"arr.ndim: \", arr.ndim)   # get number of dimensions (an empty array has number of dimensions equals to 1)\n",
    "print(\"arr.shape: \", arr.shape) # This is an empty array, so have a shape of (0, )\n",
    "print(\"arr.size: \", arr.size)   # get total number of elements\n",
    "print(\"arr.dtype: \", arr.dtype) # get data type, default for empty array is float64\n",
    "print(\"arr.itemsize: \", arr.itemsize)  # get size in bytes of each element of the array default is 8 for float64\n",
    "print(\"arr.nbytes: \", arr.nbytes)  # get number of bytes occupied by entire array object in memory\n",
    "\n",
    "print(\"arr.data: \", arr.data)\n",
    "print(\"arr.strides: \", arr.strides)\n",
    "print(\"arr.flags: \\n\", arr.flags)"
   ]
  },
  {
   "cell_type": "markdown",
   "id": "950b9a59",
   "metadata": {},
   "source": [
    "### b.  0-Dimensional Array\n",
    "- A 0-D array has a single scalar value, and has zero or no axis"
   ]
  },
  {
   "cell_type": "code",
   "execution_count": 75,
   "id": "cddfd4e5",
   "metadata": {},
   "outputs": [
    {
     "name": "stdout",
     "output_type": "stream",
     "text": [
      "array:  10\n"
     ]
    }
   ],
   "source": [
    "# Create a 0-D numpy array using array() constructor\n",
    "import numpy as np\n",
    "arr = np.array(10)\n",
    "print(\"array: \", arr)"
   ]
  },
  {
   "cell_type": "code",
   "execution_count": 11,
   "id": "9729895f",
   "metadata": {},
   "outputs": [
    {
     "name": "stdout",
     "output_type": "stream",
     "text": [
      "array:  10\n",
      "arr.ndim:  0\n",
      "arr.shape:  ()\n",
      "arr.size:  1\n",
      "arr.dtype:  int64\n",
      "arr.itemsize:  8\n",
      "arr.nbytes:  8\n",
      "arr.data:  <memory at 0x7ff52e9ad7c0>\n",
      "arr.strides:  ()\n",
      "arr.flags: \n",
      "   C_CONTIGUOUS : True\n",
      "  F_CONTIGUOUS : True\n",
      "  OWNDATA : True\n",
      "  WRITEABLE : True\n",
      "  ALIGNED : True\n",
      "  WRITEBACKIFCOPY : False\n",
      "  UPDATEIFCOPY : False\n",
      "\n"
     ]
    }
   ],
   "source": [
    "print(\"array: \", arr)\n",
    "print(\"arr.ndim: \", arr.ndim)   # get number of dimensions (a 0-D array has number of dimensions equals to 0)\n",
    "print(\"arr.shape: \", arr.shape) # This is a scalar value, so have no shape ( )\n",
    "print(\"arr.size: \", arr.size)   # get total number of elements, in this case it is 1\n",
    "print(\"arr.dtype: \", arr.dtype) # get data type, default is what is minimum required to hold the only element\n",
    "print(\"arr.itemsize: \", arr.itemsize)  # get size in bytes of each element of the array default is 8 for int64\n",
    "print(\"arr.nbytes: \", arr.nbytes)  # get number of bytes occupied by entire array object in memory\n",
    "\n",
    "print(\"arr.data: \", arr.data)\n",
    "print(\"arr.strides: \", arr.strides)\n",
    "print(\"arr.flags: \\n\", arr.flags)"
   ]
  },
  {
   "cell_type": "markdown",
   "id": "1c640078",
   "metadata": {},
   "source": [
    "### c.  1-Dimensional Arrays\n",
    "<img align=\"left\" width=\"200\" height=\"100\"  src=\"images/1d.png\" > \n",
    "\n",
    "- An array that has 0-D arrays or scalar values, as its elements is called a 1-D array. \n",
    "- Used to represent vectors or 1st order tensors.\n",
    "- A 1-D array has only one axis:\n",
    "    - **axis 0:** or vertical axis   or x-axis or number of rows"
   ]
  },
  {
   "cell_type": "code",
   "execution_count": 13,
   "id": "f4210453",
   "metadata": {},
   "outputs": [
    {
     "data": {
      "text/plain": [
       "array([[ 5,  3,  2],\n",
       "       [ 8,  9, -1],\n",
       "       [ 2, -3,  6]])"
      ]
     },
     "execution_count": 13,
     "metadata": {},
     "output_type": "execute_result"
    }
   ],
   "source": [
    "arr = np.array([[5,3,2],[8,9,-1],[2,-3,6]])\n",
    "arr"
   ]
  },
  {
   "cell_type": "code",
   "execution_count": 14,
   "id": "b1e16ceb",
   "metadata": {},
   "outputs": [
    {
     "name": "stdout",
     "output_type": "stream",
     "text": [
      "5\n",
      "3\n",
      "2\n",
      "8\n",
      "9\n",
      "-1\n",
      "2\n",
      "-3\n",
      "6\n"
     ]
    }
   ],
   "source": [
    "for i in range(3):\n",
    "    for j in range(3):\n",
    "        print(arr[i,j])"
   ]
  },
  {
   "cell_type": "code",
   "execution_count": 15,
   "id": "4a0fc1ec",
   "metadata": {},
   "outputs": [
    {
     "name": "stdout",
     "output_type": "stream",
     "text": [
      "array:  [1 4 2 5 3]\n",
      "arr.ndim:  1\n",
      "arr.shape:  (5,)\n",
      "arr.size:  5\n",
      "arr.dtype:  uint32\n",
      "arr.itemsize:  4\n",
      "arr.nbytes:  20\n",
      "arr.data:  <memory at 0x7ff52e521700>\n",
      "arr.strides:  (4,)\n",
      "arr.flags: \n",
      "   C_CONTIGUOUS : True\n",
      "  F_CONTIGUOUS : True\n",
      "  OWNDATA : True\n",
      "  WRITEABLE : True\n",
      "  ALIGNED : True\n",
      "  WRITEBACKIFCOPY : False\n",
      "  UPDATEIFCOPY : False\n",
      "\n"
     ]
    }
   ],
   "source": [
    "# Create a 1-D numpy array using array() constructor of numpy\n",
    "\n",
    "mylist = [1, 4, 2, 5, 3]\n",
    "arr = np.array(mylist, dtype=np.uint8)\n",
    "arr = np.array([1, 4, 2, 5, 3], dtype=np.uint32)\n",
    "\n",
    "print(\"array: \", arr)\n",
    "print(\"arr.ndim: \", arr.ndim)   # get number of dimensions\n",
    "print(\"arr.shape: \", arr.shape) # This is 1-D array having 5 columns, so return a tuple with one element\n",
    "print(\"arr.size: \", arr.size)   # get total number of elements\n",
    "print(\"arr.dtype: \", arr.dtype) # get data type, default is what is minimum required to hold the max size element\n",
    "print(\"arr.itemsize: \", arr.itemsize)  # get size in bytes of each element of the array\n",
    "print(\"arr.nbytes: \", arr.nbytes)  # get number of bytes occupied by entire array object in memory (2*5=10)\n",
    "\n",
    "print(\"arr.data: \", arr.data)\n",
    "print(\"arr.strides: \", arr.strides)\n",
    "print(\"arr.flags: \\n\", arr.flags)"
   ]
  },
  {
   "cell_type": "markdown",
   "id": "88e06f0e",
   "metadata": {},
   "source": [
    ">Note once you print NumPy array elements they are displayed inside `[ ]` as a Python List, however, the elements are space separated in case of NumPy arrays, while in case of Python Lists the elements are comma separated"
   ]
  },
  {
   "cell_type": "markdown",
   "id": "a442aa8c",
   "metadata": {},
   "source": [
    "### d.  2-Dimensional Arrays\n",
    "<img align=\"left\" width=\"200\" height=\"100\"  src=\"images/2d.png\" > \n",
    "\n",
    "- An array that has 1-D arrays as its elements is called a 2-D array. \n",
    "- Used to represent matrix or 2nd order tensors.\n",
    "- A 2-D array has two axis:\n",
    "    - **axis 0:** is the vertical axis, goes from top to bottom, represents the number of rows (5)\n",
    "    - **axis 1:** is the horizontal axis, goes from left to right, represents the number of columns (4)\n",
    "- If you've taken a linear algebra class in high school, you may recognize this 2-d array as a matrix with five rows and four columns. \n",
    "- Each row represents a city, and the columns may contain temperature, rainfall, humidity, and smog in that city respectively."
   ]
  },
  {
   "cell_type": "code",
   "execution_count": 16,
   "id": "f4e5c106",
   "metadata": {},
   "outputs": [
    {
     "name": "stdout",
     "output_type": "stream",
     "text": [
      "array: \n",
      " [[1 2 3 4]\n",
      " [5 6 7 8]\n",
      " [3 2 4 1]\n",
      " [7 3 4 9]\n",
      " [4 0 3 1]]\n",
      "arr.ndim:  2\n",
      "arr.shape:  (5, 4)\n",
      "arr.size:  20\n",
      "arr.dtype:  int64\n",
      "arr.itemsize:  8\n",
      "arr.nbytes:  160\n",
      "arr.data:  <memory at 0x7ff52e5016c0>\n",
      "arr.dtypes:  int64\n",
      "arr.strides:  (32, 8)\n",
      "arr.flags: \n",
      "   C_CONTIGUOUS : True\n",
      "  F_CONTIGUOUS : False\n",
      "  OWNDATA : True\n",
      "  WRITEABLE : True\n",
      "  ALIGNED : True\n",
      "  WRITEBACKIFCOPY : False\n",
      "  UPDATEIFCOPY : False\n",
      "\n"
     ]
    }
   ],
   "source": [
    "# creating 2-D (5x4) array using array constructor in numpy\n",
    "\n",
    "mylist = [\n",
    "          [1, 2, 3, 4], \n",
    "          [5, 6, 7, 8], \n",
    "          [3, 2, 4, 1], \n",
    "          [7, 3, 4, 9], \n",
    "          [4, 0, 3, 1]\n",
    "          ]\n",
    "arr = np.array(mylist)\n",
    "print(\"array: \\n\", arr)\n",
    "print(\"arr.ndim: \", arr.ndim)   #get number of dimensions (2-D array)\n",
    "print(\"arr.shape: \", arr.shape) #get dimension size.For a 2-D array, return a tuple with two elements (rows, cols)\n",
    "print(\"arr.size: \", arr.size)   #get total number of elements (5*4=20 elements)\n",
    "print(\"arr.dtype: \", arr.dtype) #get data type, default is what is minimum required to hold the max size element\n",
    "print(\"arr.itemsize: \", arr.itemsize)  # get size in bytes of each element of the array\n",
    "print(\"arr.nbytes: \", arr.nbytes)  # get number of bytes occupied by entire array object in memory (8*20=160)\n",
    "\n",
    "\n",
    "print(\"arr.data: \", arr.data)\n",
    "print(\"arr.dtypes: \", arr.dtype)\n",
    "print(\"arr.strides: \", arr.strides)\n",
    "print(\"arr.flags: \\n\", arr.flags)"
   ]
  },
  {
   "cell_type": "code",
   "execution_count": 80,
   "id": "f3ad9a8c",
   "metadata": {},
   "outputs": [
    {
     "ename": "IndexError",
     "evalue": "too many indices for array: array is 0-dimensional, but 1 were indexed",
     "output_type": "error",
     "traceback": [
      "\u001b[0;31m---------------------------------------------------------------------------\u001b[0m",
      "\u001b[0;31mIndexError\u001b[0m                                Traceback (most recent call last)",
      "\u001b[0;32m/var/folders/m_/dkp183594w5d5gh0rl8770hh0000gq/T/ipykernel_62197/1510557310.py\u001b[0m in \u001b[0;36m<module>\u001b[0;34m\u001b[0m\n\u001b[0;32m----> 1\u001b[0;31m \u001b[0marr\u001b[0m\u001b[0;34m[\u001b[0m\u001b[0;36m1\u001b[0m\u001b[0;34m]\u001b[0m\u001b[0;34m[\u001b[0m\u001b[0;36m1\u001b[0m\u001b[0;34m]\u001b[0m\u001b[0;34m\u001b[0m\u001b[0;34m\u001b[0m\u001b[0m\n\u001b[0m\u001b[1;32m      2\u001b[0m \u001b[0marr\u001b[0m\u001b[0;34m[\u001b[0m\u001b[0;36m1\u001b[0m\u001b[0;34m,\u001b[0m\u001b[0;36m1\u001b[0m\u001b[0;34m]\u001b[0m\u001b[0;34m\u001b[0m\u001b[0;34m\u001b[0m\u001b[0m\n",
      "\u001b[0;31mIndexError\u001b[0m: too many indices for array: array is 0-dimensional, but 1 were indexed"
     ]
    }
   ],
   "source": [
    "arr[1][1]\n",
    "arr[1,1]"
   ]
  },
  {
   "cell_type": "code",
   "execution_count": 18,
   "id": "67a14ad1",
   "metadata": {},
   "outputs": [
    {
     "name": "stdout",
     "output_type": "stream",
     "text": [
      "array: \n",
      " [[1]\n",
      " [2]\n",
      " [3]]\n",
      "arr.ndim:  2\n",
      "arr.shape:  (3, 1)\n",
      "arr.size:  3\n",
      "arr.dtype:  int64\n",
      "arr.itemsize:  8\n",
      "arr.nbytes:  24\n",
      "arr.data:  <memory at 0x7ff52e5016c0>\n",
      "arr.strides:  (8, 8)\n",
      "arr.flags: \n",
      "   C_CONTIGUOUS : True\n",
      "  F_CONTIGUOUS : True\n",
      "  OWNDATA : True\n",
      "  WRITEABLE : True\n",
      "  ALIGNED : True\n",
      "  WRITEBACKIFCOPY : False\n",
      "  UPDATEIFCOPY : False\n",
      "\n"
     ]
    }
   ],
   "source": [
    "# Another example\n",
    "mylist = [[1], [4], [2], [5], [3]]\n",
    "arr = np.array(mylist)\n",
    "arr = np.array([[1], [2], [3]])\n",
    "print(\"array: \\n\", arr)\n",
    "print(\"arr.ndim: \", arr.ndim)   #get number of dimensions (2-D array)\n",
    "print(\"arr.shape: \", arr.shape) #get dimension size.For a 2-D array, return a tuple with two elements (rows, cols)\n",
    "print(\"arr.size: \", arr.size)   #get total number of elements (5*4=20 elements)\n",
    "print(\"arr.dtype: \", arr.dtype) #get data type, default is what is minimum required to hold the max size element\n",
    "print(\"arr.itemsize: \", arr.itemsize)  # get size in bytes of each element of the array\n",
    "print(\"arr.nbytes: \", arr.nbytes)  # get number of bytes occupied by entire array object in memory (8*20=160)\n",
    "\n",
    "\n",
    "print(\"arr.data: \", arr.data)\n",
    "print(\"arr.strides: \", arr.strides)\n",
    "print(\"arr.flags: \\n\", arr.flags)"
   ]
  },
  {
   "cell_type": "markdown",
   "id": "439ac1a7",
   "metadata": {},
   "source": [
    "### e.  3-Dimensional Arrays\n",
    "<img align=\"left\" width=\"200\" height=\"100\"  src=\"images/3d.png\" > \n",
    "\n",
    "- An array that has 2-D arrays as its elements is called a 3-D array. Used to represent 3rd order tensors.\n",
    "- A 3-D array has three axis:\n",
    "    - **axis 0:** represent the number of rows along x-axis(axis 0). (5)\n",
    "    - **axis 1:** represents the number of rows along y-axis (axis 1). (4)\n",
    "    - **axis 2:** represents the number of columns along z-axis (axix 2). (3)"
   ]
  },
  {
   "cell_type": "code",
   "execution_count": 20,
   "id": "6be377d5",
   "metadata": {},
   "outputs": [
    {
     "name": "stdout",
     "output_type": "stream",
     "text": [
      "array: \n",
      " [[[1 2 3]\n",
      "  [5 6 7]\n",
      "  [3 2 4]\n",
      "  [7 3 4]]\n",
      "\n",
      " [[8 1 6]\n",
      "  [1 9 4]\n",
      "  [5 6 4]\n",
      "  [2 6 2]]\n",
      "\n",
      " [[5 3 2]\n",
      "  [2 0 5]\n",
      "  [8 3 0]\n",
      "  [5 6 9]]\n",
      "\n",
      " [[6 7 1]\n",
      "  [8 1 6]\n",
      "  [1 4 7]\n",
      "  [2 0 4]]\n",
      "\n",
      " [[2 8 9]\n",
      "  [3 0 4]\n",
      "  [5 2 2]\n",
      "  [1 3 8]]]\n",
      "arr.ndim:  3\n",
      "arr.shape:  (5, 4, 3)\n",
      "arr.size:  60\n",
      "arr.dtype:  uint8\n",
      "arr.itemsize:  1\n",
      "arr.nbytes:  60\n",
      "arr.data:  <memory at 0x7ff52e93ee50>\n",
      "arr.strides:  (12, 3, 1)\n",
      "arr.flags: \n",
      "   C_CONTIGUOUS : True\n",
      "  F_CONTIGUOUS : False\n",
      "  OWNDATA : True\n",
      "  WRITEABLE : True\n",
      "  ALIGNED : True\n",
      "  WRITEBACKIFCOPY : False\n",
      "  UPDATEIFCOPY : False\n",
      "\n"
     ]
    }
   ],
   "source": [
    "# creating 3-D (5x4x3) array using array constructor in numpy\n",
    "mylist = [\n",
    "          [[1, 2, 3], [5, 6, 7], [3, 2, 4], [7, 3, 4]],\n",
    "          [[8, 1, 6], [1, 9, 4], [5, 6, 4], [2, 6, 2]],\n",
    "          [[5, 3, 2], [2, 0, 5], [8, 3, 0], [5, 6, 9]],\n",
    "          [[6, 7, 1], [8, 1, 6], [1, 4, 7], [2, 0, 4]],\n",
    "          [[2, 8, 9], [3, 0, 4], [5, 2, 2], [1, 3, 8]],\n",
    "         ]\n",
    "arr = np.array(mylist, dtype=np.uint8)\n",
    "\n",
    "\n",
    "print(\"array: \\n\", arr)\n",
    "print(\"arr.ndim: \", arr.ndim)    # get number of dimensions (3-D array)\n",
    "print(\"arr.shape: \", arr.shape)  # get dimension size.For a 3-D array, return a tuple with three elements\n",
    "print(\"arr.size: \", arr.size)    # get total number of elements (5*4*3=60 elements)\n",
    "print(\"arr.dtype: \", arr.dtype)  # get data type, default is what is minimum required to hold the max size element\n",
    "print(\"arr.itemsize: \", arr.itemsize)  # get size in bytes of each element of the array\n",
    "print(\"arr.nbytes: \", arr.nbytes)  # get number of bytes occupied by entire array object in memory (8*60=4800)\n",
    "\n",
    "\n",
    "print(\"arr.data: \", arr.data)\n",
    "print(\"arr.strides: \", arr.strides)\n",
    "print(\"arr.flags: \\n\", arr.flags)"
   ]
  },
  {
   "cell_type": "markdown",
   "id": "9c88bf7a",
   "metadata": {},
   "source": [
    "### Understanding Strides"
   ]
  },
  {
   "cell_type": "code",
   "execution_count": 21,
   "id": "a8e28fb0",
   "metadata": {},
   "outputs": [
    {
     "name": "stdout",
     "output_type": "stream",
     "text": [
      "array: \n",
      " [ 0  1  2  3  4  5  6  7  8  9 10 11]\n",
      "arr.data:  <memory at 0x7ff52e943dc0>\n",
      "arr.shape:  (12,)\n",
      "arr.dtype:  int64\n",
      "arr.size:  12\n",
      "arr.itemsize:  8\n",
      "arr.nbytes:  96\n",
      "arr.strides:  (8,)\n",
      "3\n"
     ]
    }
   ],
   "source": [
    "# Strides of 1-D array\n",
    "import numpy as np\n",
    "mylist = [0, 1, 2, 3, 4, 5, 6, 7, 8, 9, 10, 11]\n",
    "arr = np.array(mylist, dtype=np.int64)\n",
    "\n",
    "print(\"array: \\n\", arr)\n",
    "print(\"arr.data: \", arr.data)\n",
    "print(\"arr.shape: \", arr.shape)  \n",
    "print(\"arr.dtype: \", arr.dtype)  \n",
    "print(\"arr.size: \", arr.size)    \n",
    "print(\"arr.itemsize: \", arr.itemsize) \n",
    "print(\"arr.nbytes: \", arr.nbytes)  \n",
    "print(\"arr.strides: \", arr.strides)\n",
    "# Use of strides is in Indexing, slicing and reshaping\n",
    "print(arr[3]) # jump 3*8=24 bytes and then read 8 bytes"
   ]
  },
  {
   "cell_type": "code",
   "execution_count": 22,
   "id": "6eb01c1c",
   "metadata": {},
   "outputs": [
    {
     "name": "stdout",
     "output_type": "stream",
     "text": [
      "array: \n",
      " [[ 0  1  2  3]\n",
      " [ 4  5  6  7]\n",
      " [ 8  9 10 11]]\n",
      "arr.data:  <memory at 0x7ff52e5016c0>\n",
      "arr.shape:  (3, 4)\n",
      "arr.dtype:  int64\n",
      "arr.size:  12\n",
      "arr.itemsize:  8\n",
      "arr.nbytes:  96\n",
      "arr.strides:  (32, 8)\n",
      "6\n"
     ]
    }
   ],
   "source": [
    "# Strides of 2-D array\n",
    "import numpy as np\n",
    "mylist = [[0, 1, 2, 3], [4, 5, 6, 7], [8, 9, 10, 11]]\n",
    "arr = np.array(mylist, dtype=np.int64)\n",
    "\n",
    "print(\"array: \\n\", arr)\n",
    "print(\"arr.data: \", arr.data)\n",
    "print(\"arr.shape: \", arr.shape)  \n",
    "print(\"arr.dtype: \", arr.dtype)  \n",
    "print(\"arr.size: \", arr.size)    \n",
    "print(\"arr.itemsize: \", arr.itemsize) \n",
    "print(\"arr.nbytes: \", arr.nbytes)  \n",
    "print(\"arr.strides: \", arr.strides)\n",
    "# Use of strides is in Indexing, slicing and reshaping\n",
    "print(arr[1,2]) # jump 1*32+2*8=48 bytes and then read 8 bytes"
   ]
  },
  {
   "cell_type": "code",
   "execution_count": 23,
   "id": "ab4da6b3",
   "metadata": {},
   "outputs": [
    {
     "name": "stdout",
     "output_type": "stream",
     "text": [
      "array: \n",
      " [[[ 0  1]\n",
      "  [ 2  3]]\n",
      "\n",
      " [[ 4  5]\n",
      "  [ 6  7]]\n",
      "\n",
      " [[ 8  9]\n",
      "  [10 11]]]\n",
      "arr.data:  <memory at 0x7ff52e93ee50>\n",
      "arr.shape:  (3, 2, 2)\n",
      "arr.dtype:  int64\n",
      "arr.size:  12\n",
      "arr.itemsize:  8\n",
      "arr.nbytes:  96\n",
      "arr.strides:  (32, 16, 8)\n",
      "7\n"
     ]
    }
   ],
   "source": [
    "# Strides of 3-D array\n",
    "import numpy as np\n",
    "mylist = [\n",
    "          [[0, 1], [2, 3]],\n",
    "          [[4, 5], [6, 7]],\n",
    "          [[8, 9], [10, 11]]\n",
    "         ]\n",
    "arr = np.array(mylist, dtype=np.int64)\n",
    "\n",
    "print(\"array: \\n\", arr)\n",
    "print(\"arr.data: \", arr.data)\n",
    "print(\"arr.shape: \", arr.shape)  \n",
    "print(\"arr.dtype: \", arr.dtype)  \n",
    "print(\"arr.size: \", arr.size)    \n",
    "print(\"arr.itemsize: \", arr.itemsize) \n",
    "print(\"arr.nbytes: \", arr.nbytes)  \n",
    "print(\"arr.strides: \", arr.strides)\n",
    "# Use of strides is in Indexing, slicing and reshaping\n",
    "print(arr[1,1,1]) # jump 1*32 + 0*16 + 1*8 =40 bytes and then read 8 bytes"
   ]
  },
  {
   "cell_type": "markdown",
   "id": "c427b0d1",
   "metadata": {},
   "source": [
    "## 3. Miscellaneous Array Creation Function\n",
    "- Numpy also provides some handy methods to create arrays of desired shapes with fixed or random values. Check out the [official documentation](https://numpy.org/doc/stable/reference/routines.array-creation.html) or use the `help` function to learn more."
   ]
  },
  {
   "cell_type": "markdown",
   "id": "03b42dfa",
   "metadata": {},
   "source": [
    "<img align=\"right\" width=\"150\" height=\"100\"  src=\"images/zeros.png\"  > \n",
    "\n",
    "### a. Using `np.zeros()` Method\n",
    "This method returns an array of given shape and type, filled with zeros.\n",
    "\n",
    "```\n",
    "numpy.zeros(shape, dtype=float)\n",
    "```\n",
    "\n",
    "- shape : The shape is an int or tuple of ints to define the size/shape of the array.\n",
    "- dtype : The dtype is an optional parameter with default value as float."
   ]
  },
  {
   "cell_type": "code",
   "execution_count": 25,
   "id": "f9c9c971",
   "metadata": {},
   "outputs": [
    {
     "data": {
      "text/plain": [
       "array([0., 0., 0.])"
      ]
     },
     "execution_count": 25,
     "metadata": {},
     "output_type": "execute_result"
    }
   ],
   "source": [
    "# Creating 1-Dimensional array of all zeros\n",
    "arr = np.zeros(3)\n",
    "arr\n",
    "# Notice that the elements are having the default data type as the float. That’s why the zeros are 0."
   ]
  },
  {
   "cell_type": "code",
   "execution_count": 26,
   "id": "5eb82c03",
   "metadata": {},
   "outputs": [
    {
     "data": {
      "text/plain": [
       "array([[0., 0., 0.],\n",
       "       [0., 0., 0.]])"
      ]
     },
     "execution_count": 26,
     "metadata": {},
     "output_type": "execute_result"
    }
   ],
   "source": [
    "# Creating 2-Dimensional array filled with zeros\n",
    "arr = np.zeros((2,3))\n",
    "arr\n"
   ]
  },
  {
   "cell_type": "code",
   "execution_count": 27,
   "id": "edc75764",
   "metadata": {},
   "outputs": [
    {
     "data": {
      "text/plain": [
       "(array([[0, 0, 0],\n",
       "        [0, 0, 0]], dtype=int16),\n",
       " 12)"
      ]
     },
     "execution_count": 27,
     "metadata": {},
     "output_type": "execute_result"
    }
   ],
   "source": [
    "# Creating 2-Dimensional array filled with zeros of integer types\n",
    "arr = np.zeros((2,3), dtype=np.int16)\n",
    "arr, arr.nbytes"
   ]
  },
  {
   "cell_type": "markdown",
   "id": "a3eb4d61",
   "metadata": {},
   "source": [
    "<img align=\"right\" width=\"100\" height=\"100\"  src=\"images/ones.png\"  > \n",
    "\n",
    "### b. Using `np.ones()` Method\n",
    "This method returns an array of given shape and type, filled with ones.\n",
    "\n",
    "```\n",
    "numpy.ones(shape, dtype=float)\n",
    "```\n",
    "\n",
    "- shape : The shape is an int or tuple of ints to define the size/shape of the array.\n",
    "- dtype : The dtype is an optional parameter with default value as float."
   ]
  },
  {
   "cell_type": "code",
   "execution_count": 28,
   "id": "e1646891",
   "metadata": {},
   "outputs": [
    {
     "data": {
      "text/plain": [
       "array([1., 1., 1.])"
      ]
     },
     "execution_count": 28,
     "metadata": {},
     "output_type": "execute_result"
    }
   ],
   "source": [
    "# Creating one-dimensional array with ones\n",
    "arr = np.ones(3)\n",
    "arr\n"
   ]
  },
  {
   "cell_type": "code",
   "execution_count": 29,
   "id": "caca54b6",
   "metadata": {},
   "outputs": [
    {
     "data": {
      "text/plain": [
       "array([[1., 1., 1.],\n",
       "       [1., 1., 1.]])"
      ]
     },
     "execution_count": 29,
     "metadata": {},
     "output_type": "execute_result"
    }
   ],
   "source": [
    "# Creating 2-Dimensional array having 3 columns filled with ones\n",
    "arr = np.ones((2,3))\n",
    "arr"
   ]
  },
  {
   "cell_type": "code",
   "execution_count": 30,
   "id": "cdd1ada8",
   "metadata": {},
   "outputs": [
    {
     "data": {
      "text/plain": [
       "array([[1, 1, 1],\n",
       "       [1, 1, 1]], dtype=int16)"
      ]
     },
     "execution_count": 30,
     "metadata": {},
     "output_type": "execute_result"
    }
   ],
   "source": [
    "# Creating 2-Dimensional array having 3 columns filled with ones of integer types\n",
    "arr = np.ones((2,3), dtype=np.int16)\n",
    "arr"
   ]
  },
  {
   "cell_type": "markdown",
   "id": "e2f2a7e4",
   "metadata": {},
   "source": [
    "<img align=\"right\" width=\"250\" height=\"100\"  src=\"images/empty.png\"  > \n",
    "\n",
    "### c. Using `np.empty()` Method\n",
    "This method returns an array of given shape and type, filled with junk values.\n",
    "\n",
    "```\n",
    "numpy.empty(shape, dtype=float)\n",
    "```\n",
    "\n",
    "- shape : The shape is an int or tuple of ints to define the size/shape of the array.\n",
    "- dtype : The dtype is an optional parameter with default value as float.\n",
    "\n",
    "\n",
    "Un-like numpy.zeros(), and numpy.ones(), the numpy.empty() function doesn't initialize the entries, so they contain junk values."
   ]
  },
  {
   "cell_type": "code",
   "execution_count": 31,
   "id": "7e0ad4ed",
   "metadata": {},
   "outputs": [
    {
     "data": {
      "text/plain": [
       "array([1., 1., 1.])"
      ]
     },
     "execution_count": 31,
     "metadata": {},
     "output_type": "execute_result"
    }
   ],
   "source": [
    "arr = np.empty(3)\n",
    "arr"
   ]
  },
  {
   "cell_type": "code",
   "execution_count": 85,
   "id": "acf778be",
   "metadata": {},
   "outputs": [
    {
     "data": {
      "text/plain": [
       "array([0, 0, 0], dtype=int16)"
      ]
     },
     "execution_count": 85,
     "metadata": {},
     "output_type": "execute_result"
    }
   ],
   "source": [
    "arr = np.empty(3, dtype=np.int16)\n",
    "arr"
   ]
  },
  {
   "cell_type": "code",
   "execution_count": 87,
   "id": "6137fd4a",
   "metadata": {},
   "outputs": [
    {
     "data": {
      "text/plain": [
       "array([[     0,      0,      0],\n",
       "       [ 16384, -15686,  21108]], dtype=int16)"
      ]
     },
     "execution_count": 87,
     "metadata": {},
     "output_type": "execute_result"
    }
   ],
   "source": [
    "# Creating 2-Dimensional array having 3 columns filled with junk values\n",
    "arr = np.empty((2,3), dtype=np.int16)\n",
    "arr"
   ]
  },
  {
   "cell_type": "markdown",
   "id": "bdd3c56d",
   "metadata": {},
   "source": [
    "<img align=\"right\" width=\"200\" height=\"100\"  src=\"images/full.png\"  > \n",
    "\n",
    "### d. Using `np.full()` Method\n",
    "This method return a new array of given shape and type, filled with fill_value.\n",
    "```\n",
    "np.full(shape, fill_value, dtype=None)\n",
    "```\n",
    "- shape: Shape of the new array\n",
    "- fill_value: Fill value.\n",
    "- dtype\tThe desired data-type for the array"
   ]
  },
  {
   "cell_type": "code",
   "execution_count": 34,
   "id": "4369ca26",
   "metadata": {},
   "outputs": [
    {
     "data": {
      "text/plain": [
       "array([54, 54, 54, 54, 54, 54, 54])"
      ]
     },
     "execution_count": 34,
     "metadata": {},
     "output_type": "execute_result"
    }
   ],
   "source": [
    "arr = np.full(7, 54)\n",
    "arr"
   ]
  },
  {
   "cell_type": "code",
   "execution_count": 35,
   "id": "f8105266",
   "metadata": {},
   "outputs": [
    {
     "data": {
      "text/plain": [
       "array([21.5, 21.5, 21.5, 21.5, 21.5, 21.5, 21.5])"
      ]
     },
     "execution_count": 35,
     "metadata": {},
     "output_type": "execute_result"
    }
   ],
   "source": [
    "arr = np.full(7, 21.5)\n",
    "arr"
   ]
  },
  {
   "cell_type": "code",
   "execution_count": 36,
   "id": "5660685f",
   "metadata": {},
   "outputs": [
    {
     "data": {
      "text/plain": [
       "array([[21.5, 21.5, 21.5],\n",
       "       [21.5, 21.5, 21.5]])"
      ]
     },
     "execution_count": 36,
     "metadata": {},
     "output_type": "execute_result"
    }
   ],
   "source": [
    "arr = np.full((2,3), 21.5)\n",
    "arr"
   ]
  },
  {
   "cell_type": "markdown",
   "id": "3eab9087",
   "metadata": {},
   "source": [
    "<img align=\"right\" width=\"120\" height=\"130\"  src=\"images/eye.png\"  >\n",
    "\n",
    "### e. Using `np.eye()` Method\n",
    "This method is used to create a 2-D array with ones on the diagonal and zeros elsewhere.\n",
    "\n",
    "```\n",
    "eye(N, M=None, k=0 , dtype=float)\n",
    "```\n",
    "- N: Number of rows in the output\n",
    "- M: Number of columns in the output. If None, defaults to N\n",
    "- k: Index of the diagonal: (Default 0) refers to the main diagonal, a positive value refers to an upper diagonal, and a negative value to a lower diagonal\n",
    "- dtype: Data-type of the returned array"
   ]
  },
  {
   "cell_type": "code",
   "execution_count": 37,
   "id": "25393e8c",
   "metadata": {},
   "outputs": [
    {
     "data": {
      "text/plain": [
       "array([[1., 0., 0.],\n",
       "       [0., 1., 0.],\n",
       "       [0., 0., 1.]])"
      ]
     },
     "execution_count": 37,
     "metadata": {},
     "output_type": "execute_result"
    }
   ],
   "source": [
    "# creating 2-D array using eye function\n",
    "# with 2 rows and 2 columns having 1's at on the main diagonal\n",
    "eye_arr = np.eye(3,3)\n",
    "eye_arr\n"
   ]
  },
  {
   "cell_type": "code",
   "execution_count": 38,
   "id": "254b6547",
   "metadata": {},
   "outputs": [
    {
     "data": {
      "text/plain": [
       "array([[1, 0, 0],\n",
       "       [0, 1, 0],\n",
       "       [0, 0, 1],\n",
       "       [0, 0, 0]], dtype=int8)"
      ]
     },
     "execution_count": 38,
     "metadata": {},
     "output_type": "execute_result"
    }
   ],
   "source": [
    "# creating 2-D array of int type using eye function with 4 rows and 3 columns having 1's at on the main diagonal\n",
    "eye_arr = np.eye(4, 3, dtype=np.int8)\n",
    "eye_arr\n"
   ]
  },
  {
   "cell_type": "code",
   "execution_count": 39,
   "id": "dc3add5b",
   "metadata": {},
   "outputs": [
    {
     "data": {
      "text/plain": [
       "array([[0, 1, 0],\n",
       "       [0, 0, 1],\n",
       "       [0, 0, 0],\n",
       "       [0, 0, 0]])"
      ]
     },
     "execution_count": 39,
     "metadata": {},
     "output_type": "execute_result"
    }
   ],
   "source": [
    "# creating 2-D array of int type using eye function with 4 rows and 3 columns having 1's at one place higher\n",
    "eye_arr = np.eye(4, 3, k = 1, dtype=int)\n",
    "eye_arr"
   ]
  },
  {
   "cell_type": "code",
   "execution_count": 40,
   "id": "4b1a39d1",
   "metadata": {},
   "outputs": [
    {
     "data": {
      "text/plain": [
       "array([[0, 0, 0],\n",
       "       [1, 0, 0],\n",
       "       [0, 1, 0],\n",
       "       [0, 0, 1]])"
      ]
     },
     "execution_count": 40,
     "metadata": {},
     "output_type": "execute_result"
    }
   ],
   "source": [
    "# creating 2-D array of int type using eye function with 4 rows and 3 columns having 1's at one place lower\n",
    "eye_arr = np.eye(4, 3, k = -1, dtype=int)\n",
    "eye_arr"
   ]
  },
  {
   "cell_type": "markdown",
   "id": "64eda5e2",
   "metadata": {},
   "source": [
    "<img align=\"right\" width=\"200\" height=\"150\"  src=\"images/fromstring.png\"  > \n",
    "\n",
    "### f. Using `np.fromstring()` Method\n",
    "This function is used to create a new 1-D array initialized from raw binary or text data in a string.\n",
    "```\n",
    "np.fromstring(string, dtype, sep)\n",
    "```\n",
    "- string: A string containing the data\n",
    "- dtype: The data type of the array (by default float)\n",
    "- sep: The string separating numbers in the data"
   ]
  },
  {
   "cell_type": "code",
   "execution_count": 41,
   "id": "1046ec11",
   "metadata": {},
   "outputs": [
    {
     "data": {
      "text/plain": [
       "array([25., 30., 35., 40.])"
      ]
     },
     "execution_count": 41,
     "metadata": {},
     "output_type": "execute_result"
    }
   ],
   "source": [
    "# convert the space separated string '25 30 35 40' into an floats array\n",
    "arr = np.fromstring('25 30 35 40', sep=' ')\n",
    "arr"
   ]
  },
  {
   "cell_type": "code",
   "execution_count": 42,
   "id": "9c531fe1",
   "metadata": {},
   "outputs": [
    {
     "data": {
      "text/plain": [
       "array([25, 30, 35, 40], dtype=uint8)"
      ]
     },
     "execution_count": 42,
     "metadata": {},
     "output_type": "execute_result"
    }
   ],
   "source": [
    "# convert the space separated string '25 30 35 40' into an integer array\n",
    "arr = np.fromstring('25 30 35 40', sep=' ', dtype=np.uint8)\n",
    "arr"
   ]
  },
  {
   "cell_type": "code",
   "execution_count": 43,
   "id": "979a9b00",
   "metadata": {},
   "outputs": [
    {
     "name": "stdout",
     "output_type": "stream",
     "text": [
      "[ 0.7 10.4 50.5]\n"
     ]
    }
   ],
   "source": [
    "# converting comma separated string into float type array\n",
    "arr = np.fromstring('0.7, 10.4, 50.5', sep=\",\")\n",
    "print(arr)\n"
   ]
  },
  {
   "cell_type": "code",
   "execution_count": 44,
   "id": "bffb4223",
   "metadata": {},
   "outputs": [
    {
     "name": "stderr",
     "output_type": "stream",
     "text": [
      "/var/folders/m_/dkp183594w5d5gh0rl8770hh0000gq/T/ipykernel_62197/1942666505.py:2: DeprecationWarning: string or file could not be read to its end due to unmatched data; this will raise a ValueError in the future.\n",
      "  arr = np.fromstring('0.57, str, 50.555', dtype=float, sep=',')\n"
     ]
    }
   ],
   "source": [
    "# It will raise error\n",
    "arr = np.fromstring('0.57, str, 50.555', dtype=float, sep=',')"
   ]
  },
  {
   "cell_type": "markdown",
   "id": "c8e14815",
   "metadata": {},
   "source": [
    "### g. Using `np.arange()` Method\n",
    "<img align=\"right\" width=\"200\" height=\"100\"  src=\"images/arrange.png\"  > \n",
    "This function is used to get evenly spaced values within a given interval.\n",
    "\n",
    "```\n",
    "numpy.arange([start,] stop[, step])\n",
    "```\n",
    "- If only one argument is given will generate an int64 array from zero to that value (not inclusive)\n",
    "- If two arguments are given then start value in inclusive, stop value is not inclusive and the default step is 1\n",
    "- If three arguments are given then the third argument is the distance between two adjacent values. (default step size is 1)\n",
    "- All the three arguments can be integers or floats\n",
    "\n",
    "The image shows the array created by np.arange(5,9,1)\n"
   ]
  },
  {
   "cell_type": "code",
   "execution_count": 45,
   "id": "0cdc1f1f",
   "metadata": {},
   "outputs": [
    {
     "name": "stdout",
     "output_type": "stream",
     "text": [
      "[0 1 2 3 4]\n",
      "<class 'numpy.ndarray'>\n",
      "int64\n"
     ]
    }
   ],
   "source": [
    "import numpy as np\n",
    "arr = np.arange(5)\n",
    "print(arr)\n",
    "print(type(arr))\n",
    "print(arr.dtype)"
   ]
  },
  {
   "cell_type": "code",
   "execution_count": 46,
   "id": "1aeaf873",
   "metadata": {},
   "outputs": [
    {
     "name": "stdout",
     "output_type": "stream",
     "text": [
      "[0. 1. 2. 3. 4.]\n",
      "float64\n"
     ]
    }
   ],
   "source": [
    "arr = np.arange(5, dtype=float)\n",
    "print(arr)\n",
    "print(arr.dtype)"
   ]
  },
  {
   "cell_type": "code",
   "execution_count": 47,
   "id": "2f4d83bd",
   "metadata": {},
   "outputs": [
    {
     "data": {
      "text/plain": [
       "array([5, 6, 7, 8, 9])"
      ]
     },
     "execution_count": 47,
     "metadata": {},
     "output_type": "execute_result"
    }
   ],
   "source": [
    "arr = np.arange(5,10)\n",
    "arr"
   ]
  },
  {
   "cell_type": "code",
   "execution_count": 48,
   "id": "752597cb",
   "metadata": {},
   "outputs": [
    {
     "data": {
      "text/plain": [
       "array([5, 7, 9])"
      ]
     },
     "execution_count": 48,
     "metadata": {},
     "output_type": "execute_result"
    }
   ],
   "source": [
    "arr = np.arange(5, 10, 2)\n",
    "arr"
   ]
  },
  {
   "cell_type": "code",
   "execution_count": 49,
   "id": "10562a7d",
   "metadata": {},
   "outputs": [
    {
     "data": {
      "text/plain": [
       "array([], dtype=int64)"
      ]
     },
     "execution_count": 49,
     "metadata": {},
     "output_type": "execute_result"
    }
   ],
   "source": [
    "arr = np.arange(5, 15, -1)\n",
    "arr"
   ]
  },
  {
   "cell_type": "code",
   "execution_count": 50,
   "id": "bee12751",
   "metadata": {},
   "outputs": [
    {
     "data": {
      "text/plain": [
       "array([-1. , -1.5, -2. , -2.5, -3. , -3.5])"
      ]
     },
     "execution_count": 50,
     "metadata": {},
     "output_type": "execute_result"
    }
   ],
   "source": [
    "arr = np.arange(-1, -4, -.5)\n",
    "arr"
   ]
  },
  {
   "cell_type": "markdown",
   "id": "adddbc3b",
   "metadata": {},
   "source": [
    "### h. Using `np.linspace()` Method\n",
    "<img align=\"right\" width=\"300\" height=\"200\"  src=\"images/linspace1.png\"  > \n",
    "\n",
    "This method by default returns an array of 50 evenly spaced elements starting from the first argument (inclusive) to the second argument (inclusive). The third argument, if given, is the count of number of elements of the array, default is 50.\n",
    "\n",
    "```\n",
    "numpy.linspace(start, stop, num=50)\n",
    "```"
   ]
  },
  {
   "cell_type": "code",
   "execution_count": 51,
   "id": "11c260a5",
   "metadata": {},
   "outputs": [
    {
     "name": "stdout",
     "output_type": "stream",
     "text": [
      "[2.         2.33333333 2.66666667 3.        ]\n",
      "float64\n"
     ]
    }
   ],
   "source": [
    "arr = np.linspace(2,3,4)\n",
    "print(arr)\n",
    "print(arr.dtype)"
   ]
  },
  {
   "cell_type": "code",
   "execution_count": 52,
   "id": "9215db7b",
   "metadata": {},
   "outputs": [
    {
     "name": "stdout",
     "output_type": "stream",
     "text": [
      "[1.         1.02040816 1.04081633 1.06122449 1.08163265 1.10204082\n",
      " 1.12244898 1.14285714 1.16326531 1.18367347 1.20408163 1.2244898\n",
      " 1.24489796 1.26530612 1.28571429 1.30612245 1.32653061 1.34693878\n",
      " 1.36734694 1.3877551  1.40816327 1.42857143 1.44897959 1.46938776\n",
      " 1.48979592 1.51020408 1.53061224 1.55102041 1.57142857 1.59183673\n",
      " 1.6122449  1.63265306 1.65306122 1.67346939 1.69387755 1.71428571\n",
      " 1.73469388 1.75510204 1.7755102  1.79591837 1.81632653 1.83673469\n",
      " 1.85714286 1.87755102 1.89795918 1.91836735 1.93877551 1.95918367\n",
      " 1.97959184 2.        ]\n",
      "float64\n"
     ]
    }
   ],
   "source": [
    "arr = np.linspace(1,2)\n",
    "print(arr)\n",
    "print(arr.dtype)"
   ]
  },
  {
   "cell_type": "code",
   "execution_count": 53,
   "id": "861fa6c3",
   "metadata": {},
   "outputs": [
    {
     "name": "stdout",
     "output_type": "stream",
     "text": [
      "[-1.         -1.08163265 -1.16326531 -1.24489796 -1.32653061 -1.40816327\n",
      " -1.48979592 -1.57142857 -1.65306122 -1.73469388 -1.81632653 -1.89795918\n",
      " -1.97959184 -2.06122449 -2.14285714 -2.2244898  -2.30612245 -2.3877551\n",
      " -2.46938776 -2.55102041 -2.63265306 -2.71428571 -2.79591837 -2.87755102\n",
      " -2.95918367 -3.04081633 -3.12244898 -3.20408163 -3.28571429 -3.36734694\n",
      " -3.44897959 -3.53061224 -3.6122449  -3.69387755 -3.7755102  -3.85714286\n",
      " -3.93877551 -4.02040816 -4.10204082 -4.18367347 -4.26530612 -4.34693878\n",
      " -4.42857143 -4.51020408 -4.59183673 -4.67346939 -4.75510204 -4.83673469\n",
      " -4.91836735 -5.        ]\n"
     ]
    }
   ],
   "source": [
    "arr = np.linspace(-1,-5)\n",
    "print(arr)"
   ]
  },
  {
   "cell_type": "markdown",
   "id": "f95c6c0f",
   "metadata": {},
   "source": [
    "### i. Using `np.random.rand()` Method\n",
    "- This method generates an array of random floats (between 0 and 1) of as many dimensions passed as argument.\n",
    "- If no argument is passed, generates a scalar value between 0 and 1\n",
    "\n",
    "```\n",
    "numpy.random.rand(d0 [,d1] [,d2]....)\n",
    "```\n"
   ]
  },
  {
   "cell_type": "code",
   "execution_count": 55,
   "id": "ff450438",
   "metadata": {},
   "outputs": [
    {
     "data": {
      "text/plain": [
       "0.9170144813530797"
      ]
     },
     "execution_count": 55,
     "metadata": {},
     "output_type": "execute_result"
    }
   ],
   "source": [
    "#Python's built-in random module has random() function that returns a single float between 0 and 1\n",
    "import numpy as np\n",
    "value = np.random.rand()\n",
    "value"
   ]
  },
  {
   "cell_type": "code",
   "execution_count": 56,
   "id": "085d4f56",
   "metadata": {},
   "outputs": [
    {
     "data": {
      "text/plain": [
       "array([0.71133857, 0.63810384, 0.0664186 , 0.99655177, 0.3292045 ])"
      ]
     },
     "execution_count": 56,
     "metadata": {},
     "output_type": "execute_result"
    }
   ],
   "source": [
    "# Creating 1-D array of 5 elements of random floats between 0 and 1\n",
    "arr = np.random.rand(5)\n",
    "arr\n"
   ]
  },
  {
   "cell_type": "code",
   "execution_count": 57,
   "id": "9ca5ff96",
   "metadata": {},
   "outputs": [
    {
     "data": {
      "text/plain": [
       "array([1.13558139, 3.05656888, 6.88351278, 2.39029711, 7.72927598])"
      ]
     },
     "execution_count": 57,
     "metadata": {},
     "output_type": "execute_result"
    }
   ],
   "source": [
    "# Creating 1-D array of 5 elements of random floats between 0 and 10\n",
    "arr = np.random.rand(5)*10\n",
    "arr\n"
   ]
  },
  {
   "cell_type": "code",
   "execution_count": 58,
   "id": "b3e5c31f",
   "metadata": {},
   "outputs": [
    {
     "data": {
      "text/plain": [
       "array([[6.88338419, 1.32782081, 3.70791889],\n",
       "       [8.21235396, 0.61308039, 9.68831365],\n",
       "       [2.15597499, 3.59104404, 5.38907325],\n",
       "       [9.65998802, 8.36320182, 1.41459677]])"
      ]
     },
     "execution_count": 58,
     "metadata": {},
     "output_type": "execute_result"
    }
   ],
   "source": [
    "# Creating 2-D array (4x3) having random floats between 0 and 1\n",
    "arr = np.random.rand(4,3)*10\n",
    "arr"
   ]
  },
  {
   "cell_type": "code",
   "execution_count": 59,
   "id": "f8b06651",
   "metadata": {},
   "outputs": [
    {
     "data": {
      "text/plain": [
       "array([[9.34619308, 8.04271363, 6.04260201],\n",
       "       [8.92536728, 7.54622675, 4.39819506],\n",
       "       [7.48949093, 0.58710656, 9.89231402],\n",
       "       [8.86429715, 8.1241904 , 7.93593163]])"
      ]
     },
     "execution_count": 59,
     "metadata": {},
     "output_type": "execute_result"
    }
   ],
   "source": [
    "# Creating 2-D array (4x3) having random floats between 0 and 10\n",
    "arr = np.random.rand(4,3)*10\n",
    "arr"
   ]
  },
  {
   "cell_type": "code",
   "execution_count": 60,
   "id": "001e527f",
   "metadata": {},
   "outputs": [
    {
     "data": {
      "text/plain": [
       "array([[[0.40484416, 0.57571011, 0.29566361],\n",
       "        [0.86358901, 0.46349553, 0.46251165],\n",
       "        [0.95916491, 0.27122324, 0.30040496],\n",
       "        [0.39589054, 0.72656537, 0.21364   ]],\n",
       "\n",
       "       [[0.62482564, 0.88139992, 0.74592339],\n",
       "        [0.69741734, 0.95275603, 0.71807882],\n",
       "        [0.80705348, 0.59627969, 0.31714676],\n",
       "        [0.52410533, 0.08028682, 0.55843419]],\n",
       "\n",
       "       [[0.84074001, 0.45458637, 0.92121725],\n",
       "        [0.50138584, 0.17688651, 0.1242548 ],\n",
       "        [0.03612388, 0.88664277, 0.49489762],\n",
       "        [0.15355135, 0.43197564, 0.97889777]],\n",
       "\n",
       "       [[0.02651497, 0.99957729, 0.49413473],\n",
       "        [0.2856456 , 0.20516823, 0.29496209],\n",
       "        [0.85700982, 0.92348544, 0.26159883],\n",
       "        [0.10695609, 0.59121296, 0.58535624]],\n",
       "\n",
       "       [[0.20870011, 0.50481978, 0.02987931],\n",
       "        [0.62379619, 0.49020341, 0.47320191],\n",
       "        [0.10766067, 0.28976802, 0.12553565],\n",
       "        [0.15957657, 0.4540855 , 0.73143047]]])"
      ]
     },
     "execution_count": 60,
     "metadata": {},
     "output_type": "execute_result"
    }
   ],
   "source": [
    "# Creating 3-D array of with random values using np.random.rand()\n",
    "arr = np.random.rand(5,4,3)\n",
    "arr"
   ]
  },
  {
   "cell_type": "markdown",
   "id": "59140fa1",
   "metadata": {},
   "source": [
    "### i. Using `np.random.randint()` Method\n",
    "This method returns an array of specified shape and fills it with random integers.\n",
    "```\n",
    "numpy.random.randint(low, high=None, size)\n",
    "```\n",
    "- low: Lowest (signed) integer to be drawn from the distribution. But, it works as a highest integer in the sample if high=None.\n",
    "- high: Largest (signed) integer to be drawn from the distribution (not inclusive)\n",
    "- size: number of samples to be generated (default is 1 for scalar and >1 for 1-D array and a tupple for ndarray)"
   ]
  },
  {
   "cell_type": "code",
   "execution_count": 61,
   "id": "db4eb10f",
   "metadata": {},
   "outputs": [
    {
     "data": {
      "text/plain": [
       "3"
      ]
     },
     "execution_count": 61,
     "metadata": {},
     "output_type": "execute_result"
    }
   ],
   "source": [
    "# Generating a random integer scalar b/w interval (0,9) \n",
    "value = np.random.randint(10)\n",
    "value"
   ]
  },
  {
   "cell_type": "code",
   "execution_count": 62,
   "id": "8fb465fa",
   "metadata": {},
   "outputs": [
    {
     "data": {
      "text/plain": [
       "10"
      ]
     },
     "execution_count": 62,
     "metadata": {},
     "output_type": "execute_result"
    }
   ],
   "source": [
    "# Generating a random integer scalar b/w interval (5,19) \n",
    "value = np.random.randint(low=5, high=20)\n",
    "value"
   ]
  },
  {
   "cell_type": "code",
   "execution_count": 63,
   "id": "c4bf6e3a",
   "metadata": {},
   "outputs": [
    {
     "data": {
      "text/plain": [
       "-1"
      ]
     },
     "execution_count": 63,
     "metadata": {},
     "output_type": "execute_result"
    }
   ],
   "source": [
    "# Generating a random integer scalar from -5 to 4 \n",
    "value = np.random.randint(low=-5, high=5)\n",
    "value"
   ]
  },
  {
   "cell_type": "code",
   "execution_count": 64,
   "id": "9bbc3420",
   "metadata": {},
   "outputs": [
    {
     "data": {
      "text/plain": [
       "array([36, 37,  9, 32, 39, 34])"
      ]
     },
     "execution_count": 64,
     "metadata": {},
     "output_type": "execute_result"
    }
   ],
   "source": [
    "# creating 1-D array of size 6 of int type b/w interval (1,100) \n",
    "arr = np.random.randint(low=1, high=101, size=6)\n",
    "arr"
   ]
  },
  {
   "cell_type": "code",
   "execution_count": 65,
   "id": "153d8159",
   "metadata": {},
   "outputs": [
    {
     "data": {
      "text/plain": [
       "array([ 1, -1,  1,  1])"
      ]
     },
     "execution_count": 65,
     "metadata": {},
     "output_type": "execute_result"
    }
   ],
   "source": [
    "# creating 1-D array of size 6 of int type b/w interval (-5,4) \n",
    "arr = np.random.randint(low = -5, high = 5, size = 4)\n",
    "arr"
   ]
  },
  {
   "cell_type": "code",
   "execution_count": 66,
   "id": "eda51b25",
   "metadata": {},
   "outputs": [
    {
     "data": {
      "text/plain": [
       "array([[7, 7, 4],\n",
       "       [7, 5, 7],\n",
       "       [3, 1, 4]])"
      ]
     },
     "execution_count": 66,
     "metadata": {},
     "output_type": "execute_result"
    }
   ],
   "source": [
    "# By passing a tuple to size means rows and columns\n",
    "arr = np.random.randint(low = 1, high = 10, size = (3,3))\n",
    "arr"
   ]
  },
  {
   "cell_type": "code",
   "execution_count": 67,
   "id": "e12c7c85",
   "metadata": {},
   "outputs": [
    {
     "data": {
      "text/plain": [
       "array([[[2, 3, 9, 1],\n",
       "        [6, 4, 5, 4],\n",
       "        [1, 7, 3, 4]],\n",
       "\n",
       "       [[8, 6, 7, 2],\n",
       "        [3, 8, 7, 1],\n",
       "        [2, 1, 1, 6]]])"
      ]
     },
     "execution_count": 67,
     "metadata": {},
     "output_type": "execute_result"
    }
   ],
   "source": [
    "arr = np.random.randint(low = 1, high = 10, size = (2,3,4))\n",
    "arr"
   ]
  },
  {
   "cell_type": "markdown",
   "id": "d20a19d4",
   "metadata": {},
   "source": [
    "<img align=\"right\" width=\"100\" height=\"130\"  src=\"images/zeros_like.png\"  >\n",
    "\n",
    "### k. Using `np.zeros_like()` Method\n",
    "This method is used to get an array of zeros with the same shape and type as a given array.\n",
    "\n",
    "```\n",
    "zeros_like(arr, dtype=None) \n",
    "```\n",
    "\n",
    "- arr: array like input\n",
    "- dtype: Overrides the data type of the result"
   ]
  },
  {
   "cell_type": "code",
   "execution_count": 68,
   "id": "fe7cff25",
   "metadata": {},
   "outputs": [
    {
     "name": "stdout",
     "output_type": "stream",
     "text": [
      "A 2-D array \n",
      " [[0 1]\n",
      " [2 3]]\n",
      "\n",
      " Converted Array \n",
      " [[0 0]\n",
      " [0 0]]\n"
     ]
    }
   ],
   "source": [
    "# creating a 2-D array\n",
    "mylist = [[0, 1],[2, 3]]\n",
    "arr1 = np.array(mylist)\n",
    "print(\"A 2-D array \\n\", arr1)\n",
    "\n",
    "# creating the same array as the shape of 'arr' filled with zeros\n",
    "arr2 = np.zeros_like(arr1)\n",
    "print(\"\\n Converted Array \\n\", arr2)\n"
   ]
  },
  {
   "cell_type": "code",
   "execution_count": 69,
   "id": "6c29f9c4",
   "metadata": {},
   "outputs": [
    {
     "name": "stdout",
     "output_type": "stream",
     "text": [
      "A 1-D array \n",
      " [0 1 2 3 4 5 6 7 8 9]\n",
      "\n",
      " Converted Array \n",
      " [0 0 0 0 0 0 0 0 0 0]\n"
     ]
    }
   ],
   "source": [
    "# creating 1-D array\n",
    "arr1 = np.arange(10)\n",
    "print(\"A 1-D array \\n\", arr1)\n",
    "\n",
    "# creating the same array as the shape of 'arr' filled with zeros\n",
    "arr2 = np.zeros_like(arr1)\n",
    "print(\"\\n Converted Array \\n\", arr2)\n"
   ]
  },
  {
   "cell_type": "code",
   "execution_count": 70,
   "id": "c82cb02a",
   "metadata": {},
   "outputs": [
    {
     "data": {
      "text/plain": [
       "<function numpy.fromstring>"
      ]
     },
     "execution_count": 70,
     "metadata": {},
     "output_type": "execute_result"
    }
   ],
   "source": [
    "np.fromstring"
   ]
  },
  {
   "cell_type": "code",
   "execution_count": 72,
   "id": "f81d4fd8",
   "metadata": {},
   "outputs": [
    {
     "data": {
      "text/plain": [
       "array([[1., 0., 0., 0., 0., 0.],\n",
       "       [0., 1., 0., 0., 0., 0.],\n",
       "       [0., 0., 1., 0., 0., 0.],\n",
       "       [0., 0., 0., 1., 0., 0.],\n",
       "       [0., 0., 0., 0., 1., 0.],\n",
       "       [0., 0., 0., 0., 0., 1.]])"
      ]
     },
     "execution_count": 72,
     "metadata": {},
     "output_type": "execute_result"
    }
   ],
   "source": [
    "np.eye(6)"
   ]
  },
  {
   "cell_type": "code",
   "execution_count": null,
   "id": "6f4f50c8",
   "metadata": {},
   "outputs": [],
   "source": []
  }
 ],
 "metadata": {
  "kernelspec": {
   "display_name": "Python 3 (ipykernel)",
   "language": "python",
   "name": "python3"
  },
  "language_info": {
   "codemirror_mode": {
    "name": "ipython",
    "version": 3
   },
   "file_extension": ".py",
   "mimetype": "text/x-python",
   "name": "python",
   "nbconvert_exporter": "python",
   "pygments_lexer": "ipython3",
   "version": "3.9.13"
  }
 },
 "nbformat": 4,
 "nbformat_minor": 5
}
