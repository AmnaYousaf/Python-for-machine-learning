{
 "cells": [
  {
   "cell_type": "markdown",
   "id": "b0e9e294",
   "metadata": {},
   "source": [
    "# _Basic Operations on NumPy Arrays.ipynb_"
   ]
  },
  {
   "cell_type": "markdown",
   "id": "ff90b9c6",
   "metadata": {},
   "source": [
    "<img align=\"center\" width=\"500\" height=\"500\"  src=\"images/basicopsonnumpy.png\" > "
   ]
  },
  {
   "cell_type": "markdown",
   "id": "03ef0b27",
   "metadata": {},
   "source": [
    "# Learning agenda of this notebook\n",
    "- Operations on numPy arrays are done element-wise. This means that you don't explicitly have to write for-loops in order to do these operations!\n",
    "- A universal function, or ufunc, is a function that performs element-wise operations on data in ndarrays. You can think of them as fast vectorized wrappers for simple functions that take one or more scalar values and produce one or more scalar results.\n",
    "\n",
    "\n",
    "<img align=\"left\" width=\"450\" height=\"400\"  src=\"images/ufuncunary.png\" > \n",
    "<img align=\"right\" width=\"485\" height=\"500\"  src=\"images/ufuncbinary.png\" > \n",
    "\n",
    "<br><br><br><br><br><br><br><br><br><br><br><br><br><br><br><br><br><br>\n",
    "\n",
    "1. Scalar Math\n",
    "    - On 1-D Arrays\n",
    "    - On 2-D Arrays\n",
    "2. Arithmetic operations\n",
    "    - On 1-D Arrays\n",
    "    - On 2-D Arrays\n",
    "3. More Mathematical Operations\n",
    "    - On 1-D Arrays\n",
    "    - On 2-D Arrays\n",
    "4. Aggregate Functions\n",
    "    - On 1-D Arrays\n",
    "    - On 2-D Arrays\n",
    "5. Comparing NumPy Arrays\n",
    "    - On 1-D Arrays\n",
    "    - On 2-D Arrays\n",
    "6. Bonus: Searching 1-D and 2-D NumPy Arrays using `numpy.where()`"
   ]
  },
  {
   "cell_type": "code",
   "execution_count": 1,
   "id": "2efd8686",
   "metadata": {},
   "outputs": [],
   "source": [
    "# To install this library in Jupyter notebook\n",
    "#import sys\n",
    "#!{sys.executable} -m pip install numpy"
   ]
  },
  {
   "cell_type": "code",
   "execution_count": 2,
   "id": "d708931b",
   "metadata": {},
   "outputs": [
    {
     "data": {
      "text/plain": [
       "('1.21.5', ['/Users/amna/opt/anaconda3/lib/python3.9/site-packages/numpy'])"
      ]
     },
     "execution_count": 2,
     "metadata": {},
     "output_type": "execute_result"
    }
   ],
   "source": [
    "import numpy as np\n",
    "np.__version__ , np.__path__"
   ]
  },
  {
   "cell_type": "markdown",
   "id": "699918af",
   "metadata": {},
   "source": [
    "## 1. Scalar Math"
   ]
  },
  {
   "cell_type": "markdown",
   "id": "b96c7de5",
   "metadata": {},
   "source": [
    "### a. Scalar Math on 1-D Arrays"
   ]
  },
  {
   "cell_type": "code",
   "execution_count": 3,
   "id": "b5dfbcf4",
   "metadata": {},
   "outputs": [
    {
     "name": "stdout",
     "output_type": "stream",
     "text": [
      "arr:  [9 6 9 7]\n",
      "np.add(arr,2):  [11  8 11  9]\n",
      "np.subtract(arr,2):  [7 4 7 5]\n",
      "np.multiply(arr,2):  [18 12 18 14]\n",
      "np.divide(arr,2):  [4.5 3.  4.5 3.5]\n",
      "np.mod(arr,2):  [1 0 1 1]\n",
      "140683344792912 140683344791184\n"
     ]
    }
   ],
   "source": [
    "import numpy as np\n",
    "# Create a 1-D array having 4 random integers from 1 to 9\n",
    "arr = np.random.randint(1,10, size=4)\n",
    "print(\"arr: \", arr)\n",
    "\n",
    "# After the operation a new `ndarray` is returned\n",
    "print(\"np.add(arr,2): \",      arr + 2)            # np.add(arr, 2))\n",
    "print(\"np.subtract(arr,2): \", arr - 2)            # np.subtract(arr, 2))\n",
    "print(\"np.multiply(arr,2): \", arr * 2)            # np.multiply(arr, 2))\n",
    "print(\"np.divide(arr,2): \",   arr / 2)            # np.divide(arr, 2))\n",
    "print(\"np.mod(arr,2): \",      arr % 2)            # np.mod(arr, 2))\n",
    "\n",
    "arr3 = arr + 9\n",
    "print(id(arr), id(arr3))"
   ]
  },
  {
   "cell_type": "markdown",
   "id": "bce4f4de",
   "metadata": {},
   "source": [
    "### b. Scalar Math on 2-D Arrays"
   ]
  },
  {
   "cell_type": "code",
   "execution_count": 4,
   "id": "16a545ac",
   "metadata": {},
   "outputs": [
    {
     "name": "stdout",
     "output_type": "stream",
     "text": [
      "Original matrix:\n",
      " [[4 9]\n",
      " [8 5]]\n",
      "np.add(matrix,2): \n",
      " [[ 6 11]\n",
      " [10  7]]\n",
      "np.subtract(matrix,2): \n",
      " [[2 7]\n",
      " [6 3]]\n",
      "np.multiply(matrix,2): \n",
      " [[ 8 18]\n",
      " [16 10]]\n",
      "np.divide(matrix,2): \n",
      " [[2.  4.5]\n",
      " [4.  2.5]]\n",
      "np.mod(matrix,2): \n",
      " [[0 1]\n",
      " [0 1]]\n"
     ]
    }
   ],
   "source": [
    "import numpy as np\n",
    "# Create a 2x2 matrix with random integers  between 1 to 9\n",
    "matrix = np.random.randint(1,10, size=(2, 2))\n",
    "print(\"Original matrix:\\n\", matrix)\n",
    "\n",
    "# After the operation a new `ndarray` is returned\n",
    "print(\"np.add(matrix,2): \\n\",      matrix + 2)            # np.add(matrix, 2))\n",
    "print(\"np.subtract(matrix,2): \\n\", matrix - 2)            # np.subtract(matrix, 2))\n",
    "print(\"np.multiply(matrix,2): \\n\", matrix * 2)            # np.multiply(matrix, 2))\n",
    "print(\"np.divide(matrix,2): \\n\",   matrix / 2)            # np.divide(matrix, 2))\n",
    "print(\"np.mod(matrix,2): \\n\",      matrix % 2)            # np.mod(matrix, 2))"
   ]
  },
  {
   "cell_type": "markdown",
   "id": "b8968f13",
   "metadata": {},
   "source": [
    "## 2. Arithmetic Operations"
   ]
  },
  {
   "cell_type": "markdown",
   "id": "c753fba6",
   "metadata": {},
   "source": [
    "### a. Arithmetic Operations on 1-D Arrays"
   ]
  },
  {
   "cell_type": "code",
   "execution_count": 5,
   "id": "9deeb288",
   "metadata": {},
   "outputs": [
    {
     "name": "stdout",
     "output_type": "stream",
     "text": [
      "arr1:  [6 7 1 6]\n",
      "arr2:  [7 1 8 9]\n",
      "np.add(arr1, arr2) =  [13  8  9 15]\n",
      "np.subtract(arr1, arr2) =  [-1  6 -7 -3]\n",
      "np.multiply(arr1, arr2) =  [42  7  8 54]\n",
      "np.divide(arr1, arr2) =  [0.85714286 7.         0.125      0.66666667]\n",
      "np.mod(arr1, arr2) =  [6 0 1 6]\n"
     ]
    }
   ],
   "source": [
    "import numpy as np\n",
    "# Create two 1-D arrays each having 4 random integers from 1 to 9\n",
    "arr1 = np.random.randint(1,10, size=4)\n",
    "arr2 = np.random.randint(1,10, size=4)\n",
    "print(\"arr1: \", arr1)\n",
    "print(\"arr2: \", arr2)\n",
    "\n",
    "# After the operation a new `ndarray` is returned\n",
    "print(\"np.add(arr1, arr2) = \",      arr1 + arr2)     # np.add(arr1, arr2)\n",
    "print(\"np.subtract(arr1, arr2) = \", arr1 - arr2)     # np.subtract(arr1, arr2)\n",
    "print(\"np.multiply(arr1, arr2) = \", arr1 * arr2)     # np.multiply(arr1, arr2)\n",
    "print(\"np.divide(arr1, arr2) = \",   arr1  / arr2)    # np.divide(arr1, arr2)\n",
    "print(\"np.mod(arr1, arr2) = \",      arr1  % arr2)    # np.mod(arr1, arr2) # np.remainder(arr1, arr2)"
   ]
  },
  {
   "cell_type": "markdown",
   "id": "a08090e6",
   "metadata": {},
   "source": [
    "### b. Arithmetic Operations on 2-D Arrays"
   ]
  },
  {
   "cell_type": "code",
   "execution_count": 6,
   "id": "d29a6d4c",
   "metadata": {},
   "outputs": [
    {
     "name": "stdout",
     "output_type": "stream",
     "text": [
      "matrix1: \n",
      " [[7 5]\n",
      " [5 3]]\n",
      "matrix2: \n",
      " [[3 3]\n",
      " [4 3]]\n",
      "np.add(matrix1 , matrix2) = \n",
      " [[10  8]\n",
      " [ 9  6]]\n",
      "np.subtract(matrix1 , matrix2) = \n",
      " [[4 2]\n",
      " [1 0]]\n",
      "np.multiply(matrix1 , matrix2) = \n",
      " [[21 15]\n",
      " [20  9]]\n",
      "np.divide(matrix1 , matrix2) = \n",
      " [[2.33333333 1.66666667]\n",
      " [1.25       1.        ]]\n",
      "np.mod(matrix1 , matrix2) = \n",
      " [[1 2]\n",
      " [1 0]]\n"
     ]
    }
   ],
   "source": [
    "import numpy as np\n",
    "# Create a 2x2 matrix with random integers  between 1 to 9\n",
    "matrix1 = np.random.randint(1,10, size=(2, 2))\n",
    "matrix2 = np.random.randint(1, 10, size=(2, 2))\n",
    "print(\"matrix1: \\n\", matrix1)\n",
    "print(\"matrix2: \\n\", matrix2)\n",
    "\n",
    "# After the operation a new `ndarray` is returned\n",
    "print(\"np.add(matrix1 , matrix2) = \\n\",      matrix1 + matrix2) # np.add(matrix1 , matrix2)\n",
    "print(\"np.subtract(matrix1 , matrix2) = \\n\", matrix1 - matrix2) # np.subtract(matrix1 , matrix2)\n",
    "print(\"np.multiply(matrix1 , matrix2) = \\n\", matrix1 * matrix2) # np.multiply(matrix1 , matrix2)\n",
    "print(\"np.divide(matrix1 , matrix2) = \\n\",   matrix1 / matrix2) # np.divide(matrix1 , matrix2)\n",
    "print(\"np.mod(matrix1 , matrix2) = \\n\",      matrix1 % matrix2) # np.remainder(matrix1 , matrix2)"
   ]
  },
  {
   "cell_type": "markdown",
   "id": "d26d5271",
   "metadata": {},
   "source": [
    "## 3. More Mathematical Operations"
   ]
  },
  {
   "cell_type": "markdown",
   "id": "a43db2fd",
   "metadata": {},
   "source": [
    "### a. Mathematical Operations on 1-D Array"
   ]
  },
  {
   "cell_type": "code",
   "execution_count": 7,
   "id": "21ccff77",
   "metadata": {},
   "outputs": [
    {
     "name": "stdout",
     "output_type": "stream",
     "text": [
      "Original ndarray:  [3.26867445 4.70192795 4.62168108 2.63732401 0.62827636]\n",
      "np.abs(arr) =  [3.26867445 4.70192795 4.62168108 2.63732401 0.62827636]\n",
      "np.square(arr) =  [10.68423264 22.10812648 21.35993603  6.95547792  0.39473118]\n",
      "np.sqrt(arr) =  [1.80794758 2.16839294 2.14980955 1.62398399 0.79263886]\n",
      "np.cbrt(arr) =  [1.48407969 1.67529769 1.66571229 1.38161751 0.85647937]\n",
      "np.log(arr) =  [ 1.18438453  1.54797263  1.53075851  0.96976477 -0.46477515]\n",
      "np.log2(arr) =  [ 1.70870569  2.23325243  2.20841771  1.39907482 -0.6705288 ]\n",
      "np.log10(arr) =  [ 0.51437167  0.67227597  0.66479997  0.42116349 -0.20184928]\n",
      "np.isnan(arr) =  [False False False False False]\n",
      "np.ceil(arr) =  [4. 5. 5. 3. 1.]\n",
      "np.floor(arr) =  [3. 4. 4. 2. 0.]\n",
      "np.cumsum(arr) =  [ 3.26867445  7.9706024  12.59228348 15.22960749 15.85788385]\n"
     ]
    }
   ],
   "source": [
    "# Creating 1-D array of 5 elements of random floats between 1 and 10\n",
    "arr = np.random.rand(5)*10\n",
    "print(\"Original ndarray: \", arr)\n",
    "\n",
    "\n",
    "# After the operation a new `ndarray` is returned, which is a copy of the original array with the operation performed\n",
    "print(\"np.abs(arr) = \", np.abs(arr))\n",
    "print(\"np.square(arr) = \", np.square(arr))\n",
    "print(\"np.sqrt(arr) = \", np.sqrt(arr))\n",
    "print(\"np.cbrt(arr) = \", np.cbrt(arr))\n",
    "print(\"np.log(arr) = \", np.log(arr))\n",
    "print(\"np.log2(arr) = \", np.log2(arr))\n",
    "print(\"np.log10(arr) = \", np.log10(arr))\n",
    "print(\"np.isnan(arr) = \", np.isnan(arr))\n",
    "print(\"np.ceil(arr) = \", np.ceil(arr))\n",
    "print(\"np.floor(arr) = \", np.floor(arr))\n",
    "print(\"np.cumsum(arr) = \", np.cumsum(arr))"
   ]
  },
  {
   "cell_type": "markdown",
   "id": "9601f879",
   "metadata": {},
   "source": [
    "### b. Mathematical Operations on 2-D Array"
   ]
  },
  {
   "cell_type": "code",
   "execution_count": 8,
   "id": "8f28f800",
   "metadata": {},
   "outputs": [
    {
     "name": "stdout",
     "output_type": "stream",
     "text": [
      "matrix: \n",
      " [[9 4]\n",
      " [7 6]]\n",
      "np.square(matrix) = \n",
      " [[81 16]\n",
      " [49 36]]\n",
      "np.sqrt(matrix) = \n",
      " [[3.         2.        ]\n",
      " [2.64575131 2.44948974]]\n",
      "np.log2(matrix) = \n",
      " [[3.169925   2.        ]\n",
      " [2.80735492 2.5849625 ]]\n",
      "np.isnan(matrix) = \n",
      " [[False False]\n",
      " [False False]]\n",
      "np.ceil(matrix) = \n",
      " [[9. 4.]\n",
      " [7. 6.]]\n",
      "np.floor(matrix) = \n",
      " [[9. 4.]\n",
      " [7. 6.]]\n",
      "np.cumsum(matrix) = \n",
      " [ 9 13 20 26]\n"
     ]
    }
   ],
   "source": [
    "import numpy as np\n",
    "# Create a 2x2 matrix with random integers  between 1 to 9\n",
    "matrix = np.random.randint(1,10, size=(2, 2))\n",
    "print(\"matrix: \\n\", matrix)\n",
    "\n",
    "# After the operation a new `ndarray` is returned, which is a copy of the original array with the operation performed\n",
    "print(\"np.square(matrix) = \\n\", np.square(matrix))\n",
    "print(\"np.sqrt(matrix) = \\n\", np.sqrt(matrix))\n",
    "print(\"np.log2(matrix) = \\n\", np.log2(matrix))\n",
    "print(\"np.isnan(matrix) = \\n\", np.isnan(matrix))\n",
    "print(\"np.ceil(matrix) = \\n\", np.ceil(matrix))\n",
    "print(\"np.floor(matrix) = \\n\", np.floor(matrix))\n",
    "print(\"np.cumsum(matrix) = \\n\", np.cumsum(matrix))"
   ]
  },
  {
   "cell_type": "markdown",
   "id": "deeef88c",
   "metadata": {},
   "source": [
    "## 4. Aggregate Functions"
   ]
  },
  {
   "cell_type": "markdown",
   "id": "82231044",
   "metadata": {},
   "source": [
    "### a. Aggregate Functions on 1-D Arrays"
   ]
  },
  {
   "cell_type": "code",
   "execution_count": 9,
   "id": "b844900f",
   "metadata": {},
   "outputs": [
    {
     "name": "stdout",
     "output_type": "stream",
     "text": [
      "arr:  [8 5 1 7 5]\n",
      "np.min(arr) =  1\n",
      "np.max(arr) =  8\n",
      "np.sum(arr) =  26\n",
      "np.prod(arr) =  1400\n"
     ]
    }
   ],
   "source": [
    "# Create a 1-D array having 5 random integers from 1 to 9\n",
    "arr = np.random.randint(1, 10, size=5)\n",
    "print(\"arr: \", arr)\n",
    "\n",
    "# After the operation a new `ndarray` is returned, which is a copy of the original array with the operation performed\n",
    "print(\"np.min(arr) = \",     np.min(arr))\n",
    "print(\"np.max(arr) = \",     np.max(arr))\n",
    "print(\"np.sum(arr) = \",     np.sum(arr))\n",
    "print(\"np.prod(arr) = \", np.prod(arr))"
   ]
  },
  {
   "cell_type": "code",
   "execution_count": 10,
   "id": "a19dbcd3",
   "metadata": {},
   "outputs": [
    {
     "name": "stdout",
     "output_type": "stream",
     "text": [
      "arr:  [6 4 2 3 4]\n",
      "np.mean(arr) =  3.8\n",
      "np.average(arr) =  3.8\n",
      "\n",
      "arr1:  [1 2 3 4]\n",
      "wts:   [4 3 2 1]\n",
      "np.average(arr1, weights=wts) =  2.0\n"
     ]
    }
   ],
   "source": [
    "# Create a 1-D array having 5 random integers from 1 to 9\n",
    "arr = np.random.randint(1, 10, size=5)\n",
    "print(\"arr: \", arr)\n",
    "\n",
    "#Arithmetic mean is the sum of elements along an axis divided by the number of elements. \n",
    "print(\"np.mean(arr) = \",    np.mean(arr))\n",
    "\n",
    "# The np.average() function computes the weighted average, by multiplying of each array element by its weight\n",
    "# The np.average() is same as np.mean(), when weight is not specified\n",
    "print(\"np.average(arr) = \", np.average(arr))\n",
    "\n",
    "# Considering an array [1,2,3,4] and corresponding weights [4,3,2,1], the weighted average is calculated by \n",
    "# adding the product of the corresponding elements and dividing the sum by the sum of weights.\n",
    "#             Weighted average = (1*4+2*3+3*2+4*1)/(4+3+2+1)\n",
    "\n",
    "arr1 = np.array([1,2,3,4])\n",
    "wts = np.array([4,3,2,1])\n",
    "print(\"\\narr1: \", arr1)\n",
    "print(\"wts:  \", wts)\n",
    "print(\"np.average(arr1, weights=wts) = \", np.average(arr1, weights= wts))\n",
    "\n"
   ]
  },
  {
   "cell_type": "code",
   "execution_count": 11,
   "id": "502af7c8",
   "metadata": {},
   "outputs": [
    {
     "name": "stdout",
     "output_type": "stream",
     "text": [
      "arr:  [98 12 82 11 61 35 33 68 96 44]\n",
      "np.median(arr) =  52.5\n",
      "np.percentile(arr,50) =  52.5\n",
      "np.percentile(arr,0) =  11.0\n",
      "np.percentile(arr,100) =  98.0\n",
      "np.var(arr) =  924.4\n",
      "np.std(arr) =  30.403947112176077\n"
     ]
    }
   ],
   "source": [
    "# Create a 1-D array having 10 random integers from 1 to 99\n",
    "arr = np.random.randint(1, 100, size=10)\n",
    "print(\"arr: \", arr)\n",
    "\n",
    "# Median is the value separating the higher half of a data sample from the lower half.\n",
    "print(\"np.median(arr) = \",  np.median(arr))\n",
    "\n",
    "# Percentile is the value below which a given percentage of observations in a group of observations fall.\n",
    "# 50th percentile is the score at or below which 50% of the scores in the distribution may be found.\n",
    "print(\"np.percentile(arr,50) = \",     np.percentile(arr,50))\n",
    "print(\"np.percentile(arr,0) = \",     np.percentile(arr,0))\n",
    "print(\"np.percentile(arr,100) = \",     np.percentile(arr,100))\n",
    "\n",
    "# The variance measures the average degree to which each point differs from the mean\n",
    "# Variance is calculated as the average of squared deviations from mean, i.e., mean((x - x.mean())**2).\n",
    "print(\"np.var(arr) = \",    np.var(arr))\n",
    "\n",
    "\n",
    "# Standard deviation checks how spread out a group of numbers is from the mean\n",
    "# It is the square root of variance: sqrt(mean((x - x.mean())**2))\n",
    "print(\"np.std(arr) = \",    np.std(arr))\n"
   ]
  },
  {
   "cell_type": "markdown",
   "id": "97bb17f9",
   "metadata": {},
   "source": [
    "### b. Aggregate Functions on 2-D Arrays"
   ]
  },
  {
   "cell_type": "code",
   "execution_count": 12,
   "id": "b3b1b438",
   "metadata": {},
   "outputs": [
    {
     "name": "stdout",
     "output_type": "stream",
     "text": [
      "matrix: \n",
      " [[9 5 2]\n",
      " [3 3 9]\n",
      " [4 1 5]]\n",
      "np.sum(matrix, axis=0) =  [16  9 16]\n",
      "np.sum(matrix, axis=1) =  [16 15 10]\n"
     ]
    }
   ],
   "source": [
    "import numpy as np\n",
    "# Create a 3x3 (2-D array) initialized with random integers from 1 to 9\n",
    "matrix = np.random.randint(1,10, size=(3, 3))\n",
    "print(\"matrix: \\n\", matrix)\n",
    "\n",
    "print(\"np.sum(matrix, axis=0) = \",     np.sum(matrix, axis=0))\n",
    "print(\"np.sum(matrix, axis=1) = \",     np.sum(matrix, axis=1))\n"
   ]
  },
  {
   "cell_type": "code",
   "execution_count": 13,
   "id": "de7b40bd",
   "metadata": {},
   "outputs": [
    {
     "name": "stdout",
     "output_type": "stream",
     "text": [
      "matrix: \n",
      " [[3 4 9]\n",
      " [5 7 9]\n",
      " [9 3 9]]\n",
      "np.min(matrix, axis=0) =  [3 3 9]\n",
      "np.min(matrix, axis=1) =  [3 5 3]\n"
     ]
    }
   ],
   "source": [
    "# Create a 3x3 (2-D array) initialized with random integers from 1 to 9\n",
    "matrix = np.random.randint(1,10, size=(3, 3))\n",
    "print(\"matrix: \\n\", matrix)\n",
    "\n",
    "print(\"np.min(matrix, axis=0) = \",     np.min(matrix, axis=0))\n",
    "print(\"np.min(matrix, axis=1) = \",     np.min(matrix, axis=1))"
   ]
  },
  {
   "cell_type": "code",
   "execution_count": 14,
   "id": "00633623",
   "metadata": {},
   "outputs": [
    {
     "name": "stdout",
     "output_type": "stream",
     "text": [
      "matrix: \n",
      " [[6 7 5]\n",
      " [7 4 7]\n",
      " [7 9 5]]\n",
      "np.mean(matrix, axis=0) =  [6.66666667 6.66666667 5.66666667]\n",
      "np.mean(matrix, axis=1) =  [6. 6. 7.]\n"
     ]
    }
   ],
   "source": [
    "# Create a 3x3 (2-D array) initialized with random integers from 1 to 9\n",
    "matrix = np.random.randint(1,10, size=(3, 3))\n",
    "print(\"matrix: \\n\", matrix)\n",
    "\n",
    "\n",
    "print(\"np.mean(matrix, axis=0) = \",     np.mean(matrix, axis=0))\n",
    "print(\"np.mean(matrix, axis=1) = \",     np.mean(matrix, axis=1))"
   ]
  },
  {
   "cell_type": "code",
   "execution_count": 15,
   "id": "cd5a2767",
   "metadata": {},
   "outputs": [
    {
     "name": "stdout",
     "output_type": "stream",
     "text": [
      "matrix: \n",
      " [[5 1 9]\n",
      " [8 2 7]\n",
      " [3 3 5]]\n",
      "np.median(matrix, axis=0) =  [5. 2. 7.]\n",
      "np.median(matrix, axis=1) =  [5. 7. 3.]\n"
     ]
    }
   ],
   "source": [
    "# Create a 3x3 (2-D array) initialized with random integers from 1 to 9\n",
    "matrix = np.random.randint(1,10, size=(3, 3))\n",
    "print(\"matrix: \\n\", matrix)\n",
    "\n",
    "# Median is the value separating the higher half of a data sample from the lower half.\n",
    "print(\"np.median(matrix, axis=0) = \",     np.median(matrix, axis=0))\n",
    "print(\"np.median(matrix, axis=1) = \",     np.median(matrix, axis=1))"
   ]
  },
  {
   "cell_type": "markdown",
   "id": "4099a957",
   "metadata": {},
   "source": [
    "Please do practice calculating the percentile, variance and standard deviation along different axis of a 2-D array"
   ]
  },
  {
   "cell_type": "markdown",
   "id": "d1c976aa",
   "metadata": {},
   "source": [
    "## 5. Comparing NumPy Arrays"
   ]
  },
  {
   "cell_type": "markdown",
   "id": "fcbd9309",
   "metadata": {},
   "source": [
    "### a. Comparing NumPy 1-D Arrays\n",
    "- Returns a Boolean numpy array containing True/False after doing element wise comparison"
   ]
  },
  {
   "cell_type": "code",
   "execution_count": 17,
   "id": "bd8765a4",
   "metadata": {},
   "outputs": [
    {
     "name": "stdout",
     "output_type": "stream",
     "text": [
      "arr1:  [6 5 2 3]\n",
      "arr2:  [3 5 7 7]\n",
      "np.equal(arr1, arr2) =  [False  True False False]\n",
      "np.not_equal(arr1, arr2) =  [ True False  True  True]\n",
      "np.greater(arr1, arr2) =  [ True False False False]\n",
      "np.greater_equal(arr1, arr2) =  [ True  True False False]\n",
      "np.less(arr1, arr2) =  [False False  True  True]\n",
      "np.less_equal(arr1, arr2) =  [False  True  True  True]\n"
     ]
    }
   ],
   "source": [
    "import numpy as np\n",
    "# Create two 1-D arrays each having 4 random integers from 1 to 9\n",
    "arr1 = np.random.randint(1,10, size=4)\n",
    "arr2 = np.random.randint(1,10, size=4)\n",
    "print(\"arr1: \", arr1)\n",
    "print(\"arr2: \", arr2)\n",
    "print(\"np.equal(arr1, arr2) = \",      arr1 == arr2)      # np.equal(arr1, arr2)\n",
    "print(\"np.not_equal(arr1, arr2) = \",  arr1 != arr2)      # np.not_equal(arr1, arr2)\n",
    "\n",
    "print(\"np.greater(arr1, arr2) = \",      arr1 > arr2)     # np.greater(arr1, arr2)\n",
    "print(\"np.greater_equal(arr1, arr2) = \",  arr1 >= arr2)  # np.greater_equal(arr1, arr2)\n",
    "\n",
    "print(\"np.less(arr1, arr2) = \",      arr1 < arr2)        # np.less(arr1, arr2)\n",
    "print(\"np.less_equal(arr1, arr2) = \",  arr1 <= arr2)     # np.less_equal(arr1, arr2)"
   ]
  },
  {
   "cell_type": "markdown",
   "id": "f3afe826",
   "metadata": {},
   "source": [
    "### b. Comparing NumPy 2-D Arrays"
   ]
  },
  {
   "cell_type": "code",
   "execution_count": 18,
   "id": "827af93b",
   "metadata": {},
   "outputs": [
    {
     "name": "stdout",
     "output_type": "stream",
     "text": [
      "matrix1: \n",
      " [[3 1]\n",
      " [5 2]]\n",
      "matrix2: \n",
      " [[8 3]\n",
      " [2 4]]\n",
      "np.equal(matrix1, matrix2) = \n",
      " [[False False]\n",
      " [False False]]\n",
      "np.not_equal(matrix1, matrix2) = \n",
      " [[ True  True]\n",
      " [ True  True]]\n",
      "np.greater(matrix1, matrix2) = \n",
      " [[False False]\n",
      " [ True False]]\n",
      "np.greater_equal(matrix1, matrix2) = \n",
      " [[False False]\n",
      " [ True False]]\n",
      "np.less(matrix1, matrix2) = \n",
      " [[ True  True]\n",
      " [False  True]]\n",
      "np.less_equal(matrix1, matrix2) = \n",
      " [[ True  True]\n",
      " [False  True]]\n"
     ]
    }
   ],
   "source": [
    "import numpy as np\n",
    "# Create a 2x2 matrix with random integers  between 1 to 9\n",
    "matrix1 = np.random.randint(1,10, size=(2, 2))\n",
    "matrix2 = np.random.randint(1, 10, size=(2, 2))\n",
    "print(\"matrix1: \\n\", matrix1)\n",
    "print(\"matrix2: \\n\", matrix2)\n",
    "\n",
    "\n",
    "\n",
    "print(\"np.equal(matrix1, matrix2) = \\n\",        matrix1 == matrix2)     \n",
    "print(\"np.not_equal(matrix1, matrix2) = \\n\",    matrix1 != matrix2)     \n",
    "\n",
    "print(\"np.greater(matrix1, matrix2) = \\n\",      matrix1 > matrix2)    \n",
    "print(\"np.greater_equal(matrix1, matrix2) = \\n\",matrix1 >= matrix2) \n",
    "\n",
    "print(\"np.less(matrix1, matrix2) = \\n\",         matrix1 < matrix2)       \n",
    "print(\"np.less_equal(matrix1, matrix2) = \\n\",   matrix1 <= matrix2)     "
   ]
  },
  {
   "cell_type": "markdown",
   "id": "17c9601a",
   "metadata": {},
   "source": [
    "## 6. Searching NumPy Arrays using `numpy.where()`"
   ]
  },
  {
   "cell_type": "markdown",
   "id": "441ec8e1",
   "metadata": {},
   "source": [
    "### a. Searching NumPy 1-D Arrays"
   ]
  },
  {
   "cell_type": "markdown",
   "id": "549ccc78",
   "metadata": {},
   "source": [
    "- The `numpy.where()` method is used to search NumPy arrays for the index values of any element which matches the condition passed as a parameter to the function.\n",
    "```\n",
    "numpy.where(condition, [x, y])\n",
    "```\n",
    "    - condition : When True, yield x, otherwise yield y. If x and y are not given just return the value of the array\n",
    "    - Returns: ndarray or tuple of ndarrays. If both x and y are specified, the output array contains elements of x where condition is True, and elements from y elsewhere."
   ]
  },
  {
   "cell_type": "code",
   "execution_count": 19,
   "id": "b30262ef",
   "metadata": {},
   "outputs": [
    {
     "name": "stdout",
     "output_type": "stream",
     "text": [
      "(array([3, 5, 6]),)\n"
     ]
    }
   ],
   "source": [
    "import numpy as np\n",
    "arr = np.array([1, 2, 3, 4, 5, 4, 4, 9, 2, 3, 8])\n",
    "t1 = np.where(arr == 4)\n",
    "print(t1)"
   ]
  },
  {
   "cell_type": "markdown",
   "id": "bda05aff",
   "metadata": {},
   "source": [
    "Note: The result is a tuple of 1-D arrays having a single tuple containing the index"
   ]
  },
  {
   "cell_type": "code",
   "execution_count": 20,
   "id": "84c73876",
   "metadata": {},
   "outputs": [
    {
     "name": "stdout",
     "output_type": "stream",
     "text": [
      "(array([1, 6]),)\n"
     ]
    }
   ],
   "source": [
    "import numpy as np\n",
    "arr = np.array([1, 0, 3, 9, 5, 2, 0, 8])\n",
    "t1 = np.where(arr == 0)\n",
    "print(t1)"
   ]
  },
  {
   "cell_type": "code",
   "execution_count": 21,
   "id": "ac40ac0f",
   "metadata": {},
   "outputs": [
    {
     "name": "stdout",
     "output_type": "stream",
     "text": [
      "(array([1, 3, 5, 7]),)\n"
     ]
    }
   ],
   "source": [
    "import numpy as np\n",
    "arr = np.array([1, 2, 3, 4, 5, 6, 7, 8])\n",
    "t1 = np.where(arr%2 == 0)\n",
    "print(t1)"
   ]
  },
  {
   "cell_type": "code",
   "execution_count": 22,
   "id": "1b3500d4",
   "metadata": {},
   "outputs": [
    {
     "name": "stdout",
     "output_type": "stream",
     "text": [
      "[False  True False  True False  True False  True]\n"
     ]
    }
   ],
   "source": [
    "import numpy as np\n",
    "arr = np.array([1, 2, 3, 4, 5, 6, 7, 8])\n",
    "t1 = np.where(arr%2 == 0, True, False)\n",
    "print(t1)"
   ]
  },
  {
   "cell_type": "markdown",
   "id": "73dd7dd5",
   "metadata": {},
   "source": [
    "Note: The result is a simple 1-D array, when you use the x and y arguments to `np.where()`"
   ]
  },
  {
   "cell_type": "markdown",
   "id": "1919250f",
   "metadata": {},
   "source": [
    "### b. Searching NumPy 2-D Arrays"
   ]
  },
  {
   "cell_type": "markdown",
   "id": "4c45bf2a",
   "metadata": {},
   "source": [
    "- The `numpy.where()` method is used to search NumPy arrays for the index values of any element which matches the condition passed as a parameter to the function.\n",
    "```\n",
    "numpy.where(condition, [x, y])\n",
    "```\n",
    "    - condition : When True, yield x, otherwise yield y. If x and y are not given just return the value of the array\n",
    "    - Returns: ndarray or tuple of ndarrays. If both x and y are specified, the output array contains elements of x where condition is True, and elements from y elsewhere."
   ]
  },
  {
   "cell_type": "code",
   "execution_count": 23,
   "id": "1dd92827",
   "metadata": {},
   "outputs": [
    {
     "name": "stdout",
     "output_type": "stream",
     "text": [
      "matrix: \n",
      " [[1 2 3]\n",
      " [4 5 4]\n",
      " [4 9 2]\n",
      " [3 8 6]]\n",
      "(array([1, 1, 2]), array([0, 2, 0]))\n"
     ]
    }
   ],
   "source": [
    "import numpy as np\n",
    "matrix = np.array([[1, 2, 3], [4, 5, 4], [4, 9, 2], [3, 8, 6]])\n",
    "print(\"matrix: \\n\", matrix)\n",
    "t1 = np.where(matrix == 4)\n",
    "print(t1)"
   ]
  },
  {
   "cell_type": "markdown",
   "id": "cb77d8a9",
   "metadata": {},
   "source": [
    "**Note:** The result is a tuple of 1-D arrays having two tuples. The condition is true for three elements at indices `(1,0)`, `(1,2)` and `(2,0)`"
   ]
  },
  {
   "cell_type": "code",
   "execution_count": 24,
   "id": "051bcefc",
   "metadata": {},
   "outputs": [
    {
     "name": "stdout",
     "output_type": "stream",
     "text": [
      "matrix: \n",
      " [[1 2 0]\n",
      " [4 5 0]\n",
      " [4 9 2]\n",
      " [3 0 6]]\n",
      "(array([0, 1, 3]), array([2, 2, 1]))\n"
     ]
    }
   ],
   "source": [
    "import numpy as np\n",
    "matrix = np.array([[1, 2, 0], [4, 5, 0], [4, 9, 2], [3, 0, 6]])\n",
    "print(\"matrix: \\n\", matrix)\n",
    "t1 = np.where(matrix == 0)\n",
    "print(t1)"
   ]
  },
  {
   "cell_type": "markdown",
   "id": "3c0c5c1f",
   "metadata": {},
   "source": [
    "**Note:** The result is a tuple of 1-D arrays having two tuples. The condition is true for three elements at indices:\n",
    "`(0,2)`, `(1,2)` and `(3,1)`"
   ]
  },
  {
   "cell_type": "code",
   "execution_count": 26,
   "id": "5ccded89",
   "metadata": {},
   "outputs": [
    {
     "name": "stdout",
     "output_type": "stream",
     "text": [
      "matrix: \n",
      " [[1 2 3]\n",
      " [5 7 3]\n",
      " [4 9 1]\n",
      " [3 5 3]]\n",
      "(array([0, 2]), array([1, 0]))\n"
     ]
    }
   ],
   "source": [
    "import numpy as np\n",
    "matrix = np.array([[1, 2, 3], [5, 7, 3], [4, 9, 1], [3, 5, 3]])\n",
    "print(\"matrix: \\n\", matrix)\n",
    "t1 = np.where(matrix%2 == 0)\n",
    "print(t1)"
   ]
  },
  {
   "cell_type": "markdown",
   "id": "ae5e04e5",
   "metadata": {},
   "source": [
    "**Note:** The result is a tuple of 1-D arrays having two tuples. The condition is true for two elements at indices:\n",
    "`(0,2)` and `(1,0)`"
   ]
  },
  {
   "cell_type": "code",
   "execution_count": 27,
   "id": "8281705b",
   "metadata": {},
   "outputs": [
    {
     "name": "stdout",
     "output_type": "stream",
     "text": [
      "matrix: \n",
      " [[1 2 3]\n",
      " [5 7 3]\n",
      " [4 9 1]\n",
      " [3 5 3]]\n",
      "[[False  True False]\n",
      " [False False False]\n",
      " [ True False False]\n",
      " [False False False]]\n"
     ]
    }
   ],
   "source": [
    "import numpy as np\n",
    "matrix = np.array([[1, 2, 3], [5, 7, 3], [4, 9, 1], [3, 5, 3]])\n",
    "print(\"matrix: \\n\", matrix)\n",
    "t1 = np.where(matrix%2 == 0, True, False)\n",
    "print(t1)"
   ]
  },
  {
   "cell_type": "markdown",
   "id": "0332ea88",
   "metadata": {},
   "source": [
    "**Note:** The result is a simple 2-D array, when you use the `x` and `y` arguments to `np.where()`"
   ]
  },
  {
   "cell_type": "code",
   "execution_count": 28,
   "id": "b5e48d3e",
   "metadata": {},
   "outputs": [
    {
     "name": "stdout",
     "output_type": "stream",
     "text": [
      "(array([0, 1, 1, 2, 3]), array([3, 0, 2, 1, 0]))\n"
     ]
    }
   ],
   "source": [
    "import numpy as np\n",
    "arr = np.array([[1, 2, 3, 4], [4, 5, 4, 2], [8, 4, 9, 2], [4, 3, 8, 6]])\n",
    "t1 = np.where(arr == 4)\n",
    "print(t1)"
   ]
  },
  {
   "cell_type": "code",
   "execution_count": null,
   "id": "4f1f23ef",
   "metadata": {},
   "outputs": [],
   "source": []
  }
 ],
 "metadata": {
  "kernelspec": {
   "display_name": "Python 3 (ipykernel)",
   "language": "python",
   "name": "python3"
  },
  "language_info": {
   "codemirror_mode": {
    "name": "ipython",
    "version": 3
   },
   "file_extension": ".py",
   "mimetype": "text/x-python",
   "name": "python",
   "nbconvert_exporter": "python",
   "pygments_lexer": "ipython3",
   "version": "3.9.13"
  }
 },
 "nbformat": 4,
 "nbformat_minor": 5
}
